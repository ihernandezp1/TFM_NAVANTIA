{
  "nbformat": 4,
  "nbformat_minor": 0,
  "metadata": {
    "colab": {
      "provenance": [],
      "toc_visible": true
    },
    "kernelspec": {
      "name": "python3",
      "display_name": "Python 3"
    },
    "language_info": {
      "name": "python"
    }
  },
  "cells": [
    {
      "cell_type": "markdown",
      "source": [
        "# **TFM: Optimización de la Programación de Producción en una Fábrica de Motores mediante Algoritmos de Optimización.**"
      ],
      "metadata": {
        "id": "dY6h9qkAugEq"
      }
    },
    {
      "cell_type": "markdown",
      "source": [
        "Este notebook ha sido desarrollado por Manuel Alejandro Suárez Calle e Inés Teresa Hernández Pastor en colaboración con Navantia para el Trabajo de Fin de Máster del máster en Big Data Science de la Universidad de Navarra.\n",
        "\n",
        "*Última actualización: 22 de agosto de 2024*"
      ],
      "metadata": {
        "id": "1sAaEfGPtqcI"
      }
    },
    {
      "cell_type": "markdown",
      "source": [
        "# **Objetivo principal**"
      ],
      "metadata": {
        "id": "vL1G5y-Du3W6"
      }
    },
    {
      "cell_type": "markdown",
      "source": [
        " El proyecto tiene como objetivo simular diferentes escenarios de una planta de producción de motores con la finalidad de investigar y desarrollar algoritmos de optimización de la producción, ofreciendo una alternativa al módulo de Advanced Planned and Optimization (APO) de SAP S/4 HANA. Con el enfoque puesto en mejorar la eficiencia y la efectividad en la programación de la producción, se tiene en cuenta información sobre las operaciones, los puestos de trabajo y los recursos disponibles en la planta de fabricación."
      ],
      "metadata": {
        "id": "DnWoLbnbtW6K"
      }
    },
    {
      "cell_type": "markdown",
      "source": [
        "## Librerías necesarias"
      ],
      "metadata": {
        "id": "mRkSqvF-wP9l"
      }
    },
    {
      "cell_type": "markdown",
      "source": [
        "En primer lugar se importan las librerías necesarias para llevar a cabo el proyecto."
      ],
      "metadata": {
        "id": "ozkC-242wVbB"
      }
    },
    {
      "cell_type": "code",
      "source": [
        "# Importamos las bibliotecas necesarias\n",
        "import pandas as pd # manipulación y análisis de datos\n",
        "import numpy as np # matrices y funciones matemáticas\n",
        "from datetime import datetime, timedelta # fechas y tiempos\n",
        "import plotly.express as px # creación de gráficos interactivos y visualizaciones\n",
        "# !pip install pandas openpyxl\n",
        "from openpyxl import Workbook # leer y escribir archivos de Excel\n",
        "from openpyxl.utils.dataframe import dataframe_to_rows # insertar filas en una hoja de Excel\n",
        "\n",
        "import matplotlib.pyplot as plt # creación de gráficos y visualizaciones\n",
        "import matplotlib.dates as mdates # manipular y formatear de fechas en los gráficos de matplotlib\n",
        "\n",
        "# Algoritmo Munkres\n",
        "!pip install munkres\n",
        "from munkres import Munkres # clase Munkres de la librería 'munkres'\n",
        "\n",
        "# Algoritmo genético\n",
        "import random #  funciones de aleatoriedad"
      ],
      "metadata": {
        "id": "eQXE38-hwU-r",
        "colab": {
          "base_uri": "https://localhost:8080/"
        },
        "outputId": "a42a5d31-0612-4c44-f3df-a3146b4168aa"
      },
      "execution_count": 1,
      "outputs": [
        {
          "output_type": "stream",
          "name": "stdout",
          "text": [
            "Collecting munkres\n",
            "  Downloading munkres-1.1.4-py2.py3-none-any.whl.metadata (980 bytes)\n",
            "Downloading munkres-1.1.4-py2.py3-none-any.whl (7.0 kB)\n",
            "Installing collected packages: munkres\n",
            "Successfully installed munkres-1.1.4\n"
          ]
        }
      ]
    },
    {
      "cell_type": "markdown",
      "source": [
        "# Generación de datos"
      ],
      "metadata": {
        "id": "rVC1M23Dv0Me"
      }
    },
    {
      "cell_type": "markdown",
      "source": [
        "Los datos han sido simulados basados en las especificaciones de la planta de producción proporcionadas por Navantia. Optar por simular los datos permite no solo examinar la situación real sino también explorar otras casuísticas potenciales en el proceso de producción. De esta manera, se podrá validar la efectividad de los diferentes algoritmos propuestos bajo diversos escenarios de producción, asegurando así una mejor comprensión y aplicaciones más flexibles de las soluciones desarrolladas."
      ],
      "metadata": {
        "id": "HZFYUJpCv3NM"
      }
    },
    {
      "cell_type": "markdown",
      "source": [
        "En un primer momento, se simularon y se exportaron los datos a Excel, para visualizar la estructura. Posteriormente, tras no ser esta una forma óptima de introducir los datos en la interfaz creada en Streamlit, se ha decidido simularlos y trabajar con ellos sin necesidad de descargarlos."
      ],
      "metadata": {
        "id": "Vesat4N2b2Z_"
      }
    },
    {
      "cell_type": "markdown",
      "source": [
        "## Escenario Idílico"
      ],
      "metadata": {
        "id": "35JRBhD9xjEz"
      }
    },
    {
      "cell_type": "markdown",
      "source": [
        "En el primero de los escenarios establecemos los siguientes valores:\n",
        "* `num_ordenes` = 3\n",
        "* `holgura` = 3"
      ],
      "metadata": {
        "id": "580kqiy8z9vM"
      }
    },
    {
      "cell_type": "markdown",
      "source": [
        "Se tienen en cuenta las siguientes suposiciones (especificadas por Navantia):\n",
        "1. Capacidad de recursos. Cada recurso tiene una capacidad unitaria, lo que implica que solo puede trabajar en una operación a la vez.\n",
        "\n",
        "2. Turno único de 24 Horas. La planta opera continuamente en un turno de 24 horas, permitiendo que las operaciones se programen en cualquier momento durante el día.\n",
        "\n",
        "3. Número de operaciones por orden. Cada orden tiene exactamente 6 operaciones, independientemente del tipo de motor o de las especificaciones del pedido.\n",
        "\n",
        "4. Tiempo de setup. No se considera el tiempo de preparación entre operaciones, lo que simplifica la planificación y reduce los tiempos de inactividad.\n",
        "\n",
        "5. Holgura (en horas). Se añade holgura para proporcionar flexibilidad en la programación, permitiendo ajustar la planificación ante imprevistos o variaciones en el proceso de producción.\n",
        "\n",
        "6. Duración de operaciones. Una duración realista de operaciones suele durar entre 8h y 72h (hasta 3 días).\n",
        "7. Fecha de inicio. Se establece una fecha aleatoria, utilizando entre 24 y 240 horas (1 a 10 días) sin tener en cuenta festivos.\n",
        "8. Se asume que la producción comienza en la fecha de inicio tardía y continúa ininterrumpidamente hasta completar todas las operaciones.\n"
      ],
      "metadata": {
        "id": "eh4iHky-xm2R"
      }
    },
    {
      "cell_type": "markdown",
      "source": [
        "Se crean las clases 'Recurso', 'Operacion' y 'OrdenFabricacion' con el objetivo de modelar los elementos fundamentales en la gestión de una planta de fabricación. Cada una de estas representa un componente específico del proceso de producción, facilitando la organización, planificación y ejecución de las operaciones en la planta."
      ],
      "metadata": {
        "id": "4p5cepzNxDbF"
      }
    },
    {
      "cell_type": "markdown",
      "source": [
        "En primer lugar, la clase **Recurso** representa los recursos físicos o humanos disponibles en la planta que se utilizan para realizar operaciones específicas.\n",
        "\n",
        "* *id_recurso*: Identificador único para cada recurso, facilitando su referencia y gestión.\n",
        "* *descripcion*: Descripción del recurso que puede incluir información sobre su funcionalidad, ubicación, etc.\n",
        "* *tipo*: Categoriza el recurso (por ejemplo, mecanizado, montaje, pintura), lo que ayuda en la asignación de operaciones compatibles.\n",
        "* *capacidad*: Define la capacidad del recurso, cuántas unidades de trabajo puede manejar a la vez, o cuánto trabajo puede realizar en un período específico."
      ],
      "metadata": {
        "id": "_eI2xe4QxT04"
      }
    },
    {
      "cell_type": "code",
      "source": [
        "class Recurso:\n",
        "    def __init__(self, id_recurso, descripcion, tipo, capacidad):\n",
        "        # Para almacenar el identificador único (id) del recurso\n",
        "        self.id_recurso = id_recurso\n",
        "        # Para guardar la descripción\n",
        "        self.descripcion = descripcion\n",
        "        # Para guardar el tipo de recurso\n",
        "        self.tipo = tipo\n",
        "        # Para guardar la capacidad\n",
        "        self.capacidad = capacidad"
      ],
      "metadata": {
        "id": "LSgDbyiyxV2s"
      },
      "execution_count": 16,
      "outputs": []
    },
    {
      "cell_type": "markdown",
      "source": [
        "En segundo lugar, la clase **Operación** modela las distintas tareas o actividades que deben realizarse en la fabricación de un producto.\n",
        "\n",
        "* *id_operacion*: Identificador único para cada operación, útil para el seguimiento y la programación.\n",
        "* *descripcion*: Detalle de lo que implica la operación, proporcionando claridad sobre la tarea a realizar.\n",
        "* *tiempo_setup*: Tiempo necesario para preparar el recurso antes de comenzar la operación, crucial para la planificación de la producción.\n",
        "* *duracion*: Tiempo que lleva completar la operación, esencial para calcular los plazos de entrega y organizar el flujo de trabajo.\n",
        "* *recurso*: Referencia al recurso necesario para realizar la operación, asegurando que las capacidades del recurso se alinean con las demandas de la operación."
      ],
      "metadata": {
        "id": "AZ7PtEAWxXtl"
      }
    },
    {
      "cell_type": "code",
      "source": [
        "class Operacion:\n",
        "    def __init__(self, id_operacion, descripcion, tiempo_setup, duracion, recurso):\n",
        "        # Guardar el id de la operación\n",
        "        self.id_operacion = id_operacion\n",
        "        # Guardar la descripción de la operación\n",
        "        self.descripcion = descripcion\n",
        "        # Guardar el tiempo de setup de la operación (en horas)\n",
        "        self.tiempo_setup = tiempo_setup\n",
        "        # Guardar la duración de la operación (en horas)\n",
        "        self.duracion = duracion\n",
        "        # Guardar el recurso necesario para la operación\n",
        "        self.recurso = recurso"
      ],
      "metadata": {
        "id": "OKu9pNUKxZYP"
      },
      "execution_count": 17,
      "outputs": []
    },
    {
      "cell_type": "markdown",
      "source": [
        "Por último, la clase **OrdenFabricacion** representa un pedido específico o una tarea de fabricación en la planta, conteniendo todos los detalles necesarios para su ejecución.\n",
        "\n",
        "* *id_orden*: Identificador único para cada orden, permitiendo un fácil seguimiento a través del proceso de fabricación.\n",
        "* *material*: Tipo de material o producto a ser fabricado, ayudando a definir los requisitos de recursos y operaciones.\n",
        "* *cantidad*: Cantidad de productos a fabricar en esa orden, fundamental para planificar la producción a escala adecuada.\n",
        "* *fecha_inicio_temprana* y *fecha_fin_temprana*: Fechas estimadas para empezar y terminar la producción lo más pronto posible.\n",
        "* *fecha_inicio_tardia* y *fecha_fin_tardia*: Últimas fechas aceptables para iniciar y concluir la producción, proporcionando un marco de tiempo para la flexibilidad y la gestión de riesgos."
      ],
      "metadata": {
        "id": "XhFDgjpFxbXl"
      }
    },
    {
      "cell_type": "code",
      "source": [
        "class OrdenFabricacion:\n",
        "    def __init__(self, id_orden, material, cantidad):\n",
        "        # Guardar el id de la orden\n",
        "        self.id_orden = id_orden\n",
        "        # Guardar el tipo de material a ser fabricado\n",
        "        self.material = material\n",
        "        # Guardar la cantidad de productos a fabricar\n",
        "        self.cantidad = cantidad\n",
        "        # Guardar las fechas de inicio y fin más tempranas y más tardías\n",
        "        self.fecha_inicio_temprana = None\n",
        "        self.fecha_fin_temprana = None\n",
        "        self.fecha_inicio_tardia = None\n",
        "        self.fecha_fin_tardia = None"
      ],
      "metadata": {
        "id": "IHcun0e8xdV_"
      },
      "execution_count": 18,
      "outputs": []
    },
    {
      "cell_type": "markdown",
      "source": [
        "Una vez definidas las clases a emplear, se generan los datos sintéticos. Para la generación definimos la función *generar_datos_sinteticos*, que se utiliza para crear datos simulados de la planta de fabricación de motores. Esta acepta dos parámetros de entrada:\n",
        "\n",
        "* *num_ordenes*: Número de órdenes de fabricación a generar.\n",
        "* *holgura*: Número de horas de flexibilidad permitida alrededor de las fechas planificadas."
      ],
      "metadata": {
        "id": "T0Yt-q5KxdBE"
      }
    },
    {
      "cell_type": "code",
      "source": [
        "# Función para generar los datos sintéticos de órdenes, operaciones y recursos\n",
        "def generar_datos_sinteticos(num_ordenes, holgura):\n",
        "    num_operaciones = 6\n",
        "    # Tenemos 3 tipos de materiales (motores)\n",
        "    materiales = ['Motor MTU 2000', 'Motor MTU 4000', 'Motor MTU 8000']\n",
        "    # Tenemos 6 tipos de recursos (máquinas)\n",
        "    recursos = [\n",
        "        Recurso(1, 'Torno CNC', 'Mecanizado', 1),\n",
        "        Recurso(2, 'Fresadora CNC', 'Mecanizado', 1),\n",
        "        Recurso(3, 'Montaje', 'Montaje', 1),\n",
        "        Recurso(4, 'Pintura', 'Acabado', 1),\n",
        "        Recurso(5, 'Robot de Ensamblaje', 'Montaje Avanzado', 1),\n",
        "        Recurso(6, 'Estación de Pruebas', 'Pruebas', 1)\n",
        "    ]\n",
        "    # Tenemos 6 tipos de operaciones\n",
        "    operaciones_mtu = ['Mecanizado base', 'Mecanizado bloque', 'Montaje pistones', 'Montaje cigüeñal',\n",
        "                       'Ensamblaje motor', 'Pruebas finales']\n",
        "\n",
        "    # Inicializamos listas vacías para almacenar las órdenes y los datos de órdenes, operaciones y recursos\n",
        "    # que se van a generar\n",
        "    ordenes = []\n",
        "    datos_ordenes = []\n",
        "    datos_operaciones = []\n",
        "    datos_recursos = []\n",
        "\n",
        "    # Recorremos cada recurso definido y se almacenan sus atributos en la lista datos_recursos\n",
        "    for recurso in recursos:\n",
        "        datos_recursos.append([recurso.id_recurso, recurso.descripcion, recurso.tipo, recurso.capacidad])\n",
        "\n",
        "    # Generamos tantas órdenes como se soliciten (input) y para cada orden una serie de operaciones\n",
        "    for i in range(1, num_ordenes + 1):\n",
        "        #Asignamos un ID único a cada orden\n",
        "        id_orden = i\n",
        "        # Asignamos un material aleatorio de la lista materiales\n",
        "        material = np.random.choice(materiales)\n",
        "        # Idílicamente tenemos una operación por recurso\n",
        "        cantidad = 1\n",
        "        # Creamos el objeto orden\n",
        "        orden = OrdenFabricacion(id_orden, material, cantidad)\n",
        "        # Añadimos la información a ambas listas\n",
        "        ordenes.append(orden)\n",
        "        datos_ordenes.append([id_orden, material, cantidad])\n",
        "\n",
        "        # Inicializamos a 0 el tiempo total de duración\n",
        "        total_duracion = 0\n",
        "        # Configuramos y registramos una operación diferente asociada a la orden actual\n",
        "        for j in range(num_operaciones):\n",
        "            # Seleccionamos una descripción de operación de la lista operaciones_mtu\n",
        "            op_desc = operaciones_mtu[j % len(operaciones_mtu)]\n",
        "            # Asignams un recurso de la lista recursos a la operación actual\n",
        "            recurso = recursos[j % len(recursos)]\n",
        "            # Establecemos un tiempo de setup = 0\n",
        "            tiempo_setup = 0\n",
        "            # Generamos un número aleatorio entre 8 y 72 horas para obtener una duración realista\n",
        "            # de operaciones (hasta 3 días)\n",
        "            duracion = np.random.randint(8, 72)\n",
        "            # Total de tiempo necesario para completar todas las operaciones de la orden actual\n",
        "            total_duracion += duracion + tiempo_setup\n",
        "            # Creamos el objeto operacion\n",
        "            operacion = Operacion(j, op_desc, tiempo_setup, duracion, recurso)\n",
        "            # Lo añadimos a la lista datos_operaciones\n",
        "            datos_operaciones.append([id_orden, operacion.id_operacion, operacion.descripcion, operacion.tiempo_setup,\n",
        "                                      operacion.duracion, recurso.id_recurso, recurso.descripcion, recurso.tipo])\n",
        "\n",
        "        # Creamos una fecha de inicio tardía para la orden, que es una fecha y hora futura aleatoria\n",
        "        # dentro de un rango específico desde el momento actual\n",
        "        fecha_inicio_tardia = datetime.now().replace(minute=0, second=0, microsecond=0) + timedelta(hours=np.random.randint(24, 240))\n",
        "        # Calculamos la fecha_fin_temprana\n",
        "        fecha_fin_temprana = fecha_inicio_tardia + timedelta(hours=total_duracion)\n",
        "        # Calculamos la fecha_inicio_temprana\n",
        "        fecha_inicio_temprana = fecha_inicio_tardia - timedelta(hours=holgura)\n",
        "        # Calculamos la fecha_fin_tardia\n",
        "        fecha_fin_tardia = fecha_fin_temprana + timedelta(hours=holgura)\n",
        "\n",
        "        # Asignamod a las propiedades correspondientes de la instancia orden\n",
        "        orden.fecha_inicio_temprana = fecha_inicio_temprana\n",
        "        orden.fecha_fin_temprana = fecha_fin_temprana\n",
        "        orden.fecha_inicio_tardia = fecha_inicio_tardia\n",
        "        orden.fecha_fin_tardia = fecha_fin_tardia\n",
        "        # Añadimos las fechas a la última entrada de la lista datos_ordenes\n",
        "        datos_ordenes[-1].extend([fecha_inicio_temprana, fecha_fin_temprana, fecha_inicio_tardia, fecha_fin_tardia])\n",
        "\n",
        "    # Convertimos la información a dataframe y asignamos un nombre a las columnas\n",
        "    df_ordenes = pd.DataFrame(datos_ordenes, columns=['ID Orden', 'Material', 'Cantidad', 'Fecha Inicio Temprana', 'Fecha Fin Temprana', 'Fecha Inicio Tardía', 'Fecha Fin Tardía'])\n",
        "    df_operaciones = pd.DataFrame(datos_operaciones, columns=['ID Orden', 'ID Operación', 'Descripción Operación', 'Tiempo Setup', 'Duración', 'ID Recurso', 'Descripción Recurso', 'Tipo Recurso'])\n",
        "    df_recursos = pd.DataFrame(datos_recursos, columns=['ID Recurso', 'Descripción', 'Tipo', 'Capacidad Diaria'])\n",
        "\n",
        "    # Devolvemos los dataframes generados\n",
        "    return df_ordenes, df_operaciones, df_recursos"
      ],
      "metadata": {
        "id": "t94QbHoyxrwc"
      },
      "execution_count": 19,
      "outputs": []
    },
    {
      "cell_type": "markdown",
      "source": [
        "Creamos la función `visualizar_gantt`, que permite visualizar la planificación de órdenes de fabricación de la planta mediante un diagrama de Gantt."
      ],
      "metadata": {
        "id": "xUBy9KbJvD4_"
      }
    },
    {
      "cell_type": "code",
      "source": [
        "def visualizar_gantt(df_ordenes, df_operaciones):\n",
        "    # Inicializamos los dataframes vacíos que se van a utilizar definiendo los nombres de las columnas\n",
        "    df_gantt = pd.DataFrame(columns=['ID Orden', 'ID Operación', 'Operación', 'Recurso', 'Start', 'Finish'])\n",
        "    df_holgura = pd.DataFrame(columns=['ID Orden', 'Operación', 'Start', 'Finish'])\n",
        "\n",
        "    # Iteramos sobre cada fila (orden) en df_ordenes\n",
        "    for _, orden in df_ordenes.iterrows():\n",
        "        # Extraemos la fecha de inicio temprana de la orden y la almacenamos\n",
        "        fecha_inicio = orden['Fecha Inicio Temprana']\n",
        "\n",
        "        # Iteramos sobre cada fila (operación) en df_operaciones\n",
        "        for _, operacion in df_operaciones[df_operaciones['ID Orden'] == orden['ID Orden']].iterrows():\n",
        "            # Asignamos a la variable inicio la fecha de inicio de la operación\n",
        "            inicio = fecha_inicio\n",
        "            # Asignamos a la variable fin el cálculo de la fecha de fin\n",
        "            fin = inicio + timedelta(hours=operacion['Duración'])\n",
        "            # Añadimos la información al dataframe df_gantt\n",
        "            df_gantt = pd.concat([df_gantt, pd.DataFrame({\n",
        "                'ID Orden': [orden['ID Orden']],\n",
        "                'ID Operación': [operacion['ID Operación']],\n",
        "                'Operación': [operacion['Descripción Operación']],\n",
        "                'Recurso': [operacion['Descripción Recurso']],\n",
        "                'Inicio': [inicio],\n",
        "                'Fin': [fin]\n",
        "            })], ignore_index=True)\n",
        "            # Actualizamos la fecha de inicio sumando el tiempo de setup\n",
        "            fecha_inicio = fin + timedelta(hours=operacion['Tiempo Setup'])\n",
        "\n",
        "        # Añadimos la información al dataframe df_holgura\n",
        "        df_holgura = pd.concat([df_holgura, pd.DataFrame({\n",
        "            'ID Orden': [orden['ID Orden']],\n",
        "            'Operación': ['Holgura'],\n",
        "            'Inicio': [orden['Fecha Inicio Temprana']],\n",
        "            'Fin': [orden['Fecha Fin Tardía']]\n",
        "        })], ignore_index=True)\n",
        "\n",
        "    # Creamos el dataframe completo, compuesto por df_holgura y df_gantt\n",
        "    df_gantt_completo = pd.concat([df_holgura, df_gantt], ignore_index=True)\n",
        "\n",
        "    # Creamos la figura del gantt completo\n",
        "    fig = px.timeline(df_gantt_completo, x_start=\"Inicio\", x_end=\"Fin\", y=\"ID Orden\", text=df_gantt_completo['Operación'] + ' (ID: ' + df_gantt_completo['ID Operación'].astype(str) + ')', color=\"Operación\", color_discrete_sequence=px.colors.qualitative.Pastel, title=\"Planificación Gantt de Órdenes de Fabricación\")\n",
        "    fig.update_yaxes(categoryorder=\"total ascending\")\n",
        "    fig.update_layout(xaxis_title='Tiempo', yaxis_title='Orden', hovermode=\"closest\", showlegend=True)\n",
        "\n",
        "    # Personalizamos el color de la barra de holgura para que sea gris\n",
        "    fig.data[0].marker.color = 'gray'\n",
        "\n",
        "    fig.show()\n"
      ],
      "metadata": {
        "id": "6ov7n-bg0Gsl"
      },
      "execution_count": 26,
      "outputs": []
    },
    {
      "cell_type": "markdown",
      "source": [
        "Ponemos que el número de órdenes y la holgura los pueda introducir el usuario por pantalla, para próximamente generar distintos escenarios."
      ],
      "metadata": {
        "id": "WskI17Qex9ye"
      }
    },
    {
      "cell_type": "code",
      "source": [
        "# Solicitar entrada del usuario\n",
        "# num_ordenes = int(input(\"Ingrese el número de órdenes a generar: \"))\n",
        "num_ordenes = 3\n",
        "#num_operaciones = int(input(\"Ingrese el número de operaciones por orden: \"))\n",
        "# holgura = int(input(\"Ingrese la holgura en horas: \"))\n",
        "holgura = 3\n",
        "\n",
        "# Ejecutar el proceso de generación de datos\n",
        "df_ordenes, df_operaciones, df_recursos = generar_datos_sinteticos(num_ordenes, holgura)"
      ],
      "metadata": {
        "id": "YxIU6Fc8x-4y"
      },
      "execution_count": 27,
      "outputs": []
    },
    {
      "cell_type": "code",
      "source": [
        "# Visualización del Gantt de las órdenes en el eje y\n",
        "visualizar_gantt(df_ordenes, df_operaciones)"
      ],
      "metadata": {
        "colab": {
          "base_uri": "https://localhost:8080/",
          "height": 630
        },
        "id": "5Fi3yITofnPZ",
        "outputId": "18b3257e-d0f7-4ac7-8afd-0c8a36ae0742"
      },
      "execution_count": 28,
      "outputs": [
        {
          "output_type": "stream",
          "name": "stderr",
          "text": [
            "/usr/local/lib/python3.10/dist-packages/_plotly_utils/basevalidators.py:105: FutureWarning:\n",
            "\n",
            "The behavior of DatetimeProperties.to_pydatetime is deprecated, in a future version this will return a Series containing python datetime objects instead of an ndarray. To retain the old behavior, call `np.array` on the result\n",
            "\n"
          ]
        },
        {
          "output_type": "display_data",
          "data": {
            "text/html": [
              "<html>\n",
              "<head><meta charset=\"utf-8\" /></head>\n",
              "<body>\n",
              "    <div>            <script src=\"https://cdnjs.cloudflare.com/ajax/libs/mathjax/2.7.5/MathJax.js?config=TeX-AMS-MML_SVG\"></script><script type=\"text/javascript\">if (window.MathJax && window.MathJax.Hub && window.MathJax.Hub.Config) {window.MathJax.Hub.Config({SVG: {font: \"STIX-Web\"}});}</script>                <script type=\"text/javascript\">window.PlotlyConfig = {MathJaxConfig: 'local'};</script>\n",
              "        <script charset=\"utf-8\" src=\"https://cdn.plot.ly/plotly-2.24.1.min.js\"></script>                <div id=\"120f4ac7-da85-459a-a535-800c190abd5d\" class=\"plotly-graph-div\" style=\"height:525px; width:100%;\"></div>            <script type=\"text/javascript\">                                    window.PLOTLYENV=window.PLOTLYENV || {};                                    if (document.getElementById(\"120f4ac7-da85-459a-a535-800c190abd5d\")) {                    Plotly.newPlot(                        \"120f4ac7-da85-459a-a535-800c190abd5d\",                        [{\"alignmentgroup\":\"True\",\"base\":[\"2024-08-24T17:00:00\",\"2024-08-25T06:00:00\",\"2024-08-30T18:00:00\"],\"hovertemplate\":\"Operaci\\u00f3n=Holgura\\u003cbr\\u003eInicio=%{base}\\u003cbr\\u003eFin=%{x}\\u003cbr\\u003eID Orden=%{y}\\u003cbr\\u003etext=%{text}\\u003cextra\\u003e\\u003c\\u002fextra\\u003e\",\"legendgroup\":\"Holgura\",\"marker\":{\"color\":\"gray\",\"pattern\":{\"shape\":\"\"}},\"name\":\"Holgura\",\"offsetgroup\":\"Holgura\",\"orientation\":\"h\",\"showlegend\":true,\"text\":[\"Holgura (ID: nan)\",\"Holgura (ID: nan)\",\"Holgura (ID: nan)\"],\"textposition\":\"auto\",\"x\":[759600000.0,986400000.0,702000000.0],\"xaxis\":\"x\",\"y\":[1,2,3],\"yaxis\":\"y\",\"type\":\"bar\"},{\"alignmentgroup\":\"True\",\"base\":[\"2024-08-24T17:00:00\",\"2024-08-25T06:00:00\",\"2024-08-30T18:00:00\"],\"hovertemplate\":\"Operaci\\u00f3n=Mecanizado base\\u003cbr\\u003eInicio=%{base}\\u003cbr\\u003eFin=%{x}\\u003cbr\\u003eID Orden=%{y}\\u003cbr\\u003etext=%{text}\\u003cextra\\u003e\\u003c\\u002fextra\\u003e\",\"legendgroup\":\"Mecanizado base\",\"marker\":{\"color\":\"rgb(246, 207, 113)\",\"pattern\":{\"shape\":\"\"}},\"name\":\"Mecanizado base\",\"offsetgroup\":\"Mecanizado base\",\"orientation\":\"h\",\"showlegend\":true,\"text\":[\"Mecanizado base (ID: 0)\",\"Mecanizado base (ID: 0)\",\"Mecanizado base (ID: 0)\"],\"textposition\":\"auto\",\"x\":[190800000.0,223200000.0,187200000.0],\"xaxis\":\"x\",\"y\":[1,2,3],\"yaxis\":\"y\",\"type\":\"bar\"},{\"alignmentgroup\":\"True\",\"base\":[\"2024-08-26T22:00:00\",\"2024-08-27T20:00:00\",\"2024-09-01T22:00:00\"],\"hovertemplate\":\"Operaci\\u00f3n=Mecanizado bloque\\u003cbr\\u003eInicio=%{base}\\u003cbr\\u003eFin=%{x}\\u003cbr\\u003eID Orden=%{y}\\u003cbr\\u003etext=%{text}\\u003cextra\\u003e\\u003c\\u002fextra\\u003e\",\"legendgroup\":\"Mecanizado bloque\",\"marker\":{\"color\":\"rgb(248, 156, 116)\",\"pattern\":{\"shape\":\"\"}},\"name\":\"Mecanizado bloque\",\"offsetgroup\":\"Mecanizado bloque\",\"orientation\":\"h\",\"showlegend\":true,\"text\":[\"Mecanizado bloque (ID: 1)\",\"Mecanizado bloque (ID: 1)\",\"Mecanizado bloque (ID: 1)\"],\"textposition\":\"auto\",\"x\":[64800000.0,151200000.0,43200000.0],\"xaxis\":\"x\",\"y\":[1,2,3],\"yaxis\":\"y\",\"type\":\"bar\"},{\"alignmentgroup\":\"True\",\"base\":[\"2024-08-27T16:00:00\",\"2024-08-29T14:00:00\",\"2024-09-02T10:00:00\"],\"hovertemplate\":\"Operaci\\u00f3n=Montaje pistones\\u003cbr\\u003eInicio=%{base}\\u003cbr\\u003eFin=%{x}\\u003cbr\\u003eID Orden=%{y}\\u003cbr\\u003etext=%{text}\\u003cextra\\u003e\\u003c\\u002fextra\\u003e\",\"legendgroup\":\"Montaje pistones\",\"marker\":{\"color\":\"rgb(220, 176, 242)\",\"pattern\":{\"shape\":\"\"}},\"name\":\"Montaje pistones\",\"offsetgroup\":\"Montaje pistones\",\"orientation\":\"h\",\"showlegend\":true,\"text\":[\"Montaje pistones (ID: 2)\",\"Montaje pistones (ID: 2)\",\"Montaje pistones (ID: 2)\"],\"textposition\":\"auto\",\"x\":[140400000.0,216000000.0,90000000.0],\"xaxis\":\"x\",\"y\":[1,2,3],\"yaxis\":\"y\",\"type\":\"bar\"},{\"alignmentgroup\":\"True\",\"base\":[\"2024-08-29T07:00:00\",\"2024-09-01T02:00:00\",\"2024-09-03T11:00:00\"],\"hovertemplate\":\"Operaci\\u00f3n=Montaje cig\\u00fce\\u00f1al\\u003cbr\\u003eInicio=%{base}\\u003cbr\\u003eFin=%{x}\\u003cbr\\u003eID Orden=%{y}\\u003cbr\\u003etext=%{text}\\u003cextra\\u003e\\u003c\\u002fextra\\u003e\",\"legendgroup\":\"Montaje cig\\u00fce\\u00f1al\",\"marker\":{\"color\":\"rgb(135, 197, 95)\",\"pattern\":{\"shape\":\"\"}},\"name\":\"Montaje cig\\u00fce\\u00f1al\",\"offsetgroup\":\"Montaje cig\\u00fce\\u00f1al\",\"orientation\":\"h\",\"showlegend\":true,\"text\":[\"Montaje cig\\u00fce\\u00f1al (ID: 3)\",\"Montaje cig\\u00fce\\u00f1al (ID: 3)\",\"Montaje cig\\u00fce\\u00f1al (ID: 3)\"],\"textposition\":\"auto\",\"x\":[154800000.0,36000000.0,100800000.0],\"xaxis\":\"x\",\"y\":[1,2,3],\"yaxis\":\"y\",\"type\":\"bar\"},{\"alignmentgroup\":\"True\",\"base\":[\"2024-08-31T02:00:00\",\"2024-09-01T12:00:00\",\"2024-09-04T15:00:00\"],\"hovertemplate\":\"Operaci\\u00f3n=Ensamblaje motor\\u003cbr\\u003eInicio=%{base}\\u003cbr\\u003eFin=%{x}\\u003cbr\\u003eID Orden=%{y}\\u003cbr\\u003etext=%{text}\\u003cextra\\u003e\\u003c\\u002fextra\\u003e\",\"legendgroup\":\"Ensamblaje motor\",\"marker\":{\"color\":\"rgb(158, 185, 243)\",\"pattern\":{\"shape\":\"\"}},\"name\":\"Ensamblaje motor\",\"offsetgroup\":\"Ensamblaje motor\",\"orientation\":\"h\",\"showlegend\":true,\"text\":[\"Ensamblaje motor (ID: 4)\",\"Ensamblaje motor (ID: 4)\",\"Ensamblaje motor (ID: 4)\"],\"textposition\":\"auto\",\"x\":[93600000.0,223200000.0,32400000.0],\"xaxis\":\"x\",\"y\":[1,2,3],\"yaxis\":\"y\",\"type\":\"bar\"},{\"alignmentgroup\":\"True\",\"base\":[\"2024-09-01T04:00:00\",\"2024-09-04T02:00:00\",\"2024-09-05T00:00:00\"],\"hovertemplate\":\"Operaci\\u00f3n=Pruebas finales\\u003cbr\\u003eInicio=%{base}\\u003cbr\\u003eFin=%{x}\\u003cbr\\u003eID Orden=%{y}\\u003cbr\\u003etext=%{text}\\u003cextra\\u003e\\u003c\\u002fextra\\u003e\",\"legendgroup\":\"Pruebas finales\",\"marker\":{\"color\":\"rgb(254, 136, 177)\",\"pattern\":{\"shape\":\"\"}},\"name\":\"Pruebas finales\",\"offsetgroup\":\"Pruebas finales\",\"orientation\":\"h\",\"showlegend\":true,\"text\":[\"Pruebas finales (ID: 5)\",\"Pruebas finales (ID: 5)\",\"Pruebas finales (ID: 5)\"],\"textposition\":\"auto\",\"x\":[93600000.0,115200000.0,226800000.0],\"xaxis\":\"x\",\"y\":[1,2,3],\"yaxis\":\"y\",\"type\":\"bar\"}],                        {\"template\":{\"data\":{\"histogram2dcontour\":[{\"type\":\"histogram2dcontour\",\"colorbar\":{\"outlinewidth\":0,\"ticks\":\"\"},\"colorscale\":[[0.0,\"#0d0887\"],[0.1111111111111111,\"#46039f\"],[0.2222222222222222,\"#7201a8\"],[0.3333333333333333,\"#9c179e\"],[0.4444444444444444,\"#bd3786\"],[0.5555555555555556,\"#d8576b\"],[0.6666666666666666,\"#ed7953\"],[0.7777777777777778,\"#fb9f3a\"],[0.8888888888888888,\"#fdca26\"],[1.0,\"#f0f921\"]]}],\"choropleth\":[{\"type\":\"choropleth\",\"colorbar\":{\"outlinewidth\":0,\"ticks\":\"\"}}],\"histogram2d\":[{\"type\":\"histogram2d\",\"colorbar\":{\"outlinewidth\":0,\"ticks\":\"\"},\"colorscale\":[[0.0,\"#0d0887\"],[0.1111111111111111,\"#46039f\"],[0.2222222222222222,\"#7201a8\"],[0.3333333333333333,\"#9c179e\"],[0.4444444444444444,\"#bd3786\"],[0.5555555555555556,\"#d8576b\"],[0.6666666666666666,\"#ed7953\"],[0.7777777777777778,\"#fb9f3a\"],[0.8888888888888888,\"#fdca26\"],[1.0,\"#f0f921\"]]}],\"heatmap\":[{\"type\":\"heatmap\",\"colorbar\":{\"outlinewidth\":0,\"ticks\":\"\"},\"colorscale\":[[0.0,\"#0d0887\"],[0.1111111111111111,\"#46039f\"],[0.2222222222222222,\"#7201a8\"],[0.3333333333333333,\"#9c179e\"],[0.4444444444444444,\"#bd3786\"],[0.5555555555555556,\"#d8576b\"],[0.6666666666666666,\"#ed7953\"],[0.7777777777777778,\"#fb9f3a\"],[0.8888888888888888,\"#fdca26\"],[1.0,\"#f0f921\"]]}],\"heatmapgl\":[{\"type\":\"heatmapgl\",\"colorbar\":{\"outlinewidth\":0,\"ticks\":\"\"},\"colorscale\":[[0.0,\"#0d0887\"],[0.1111111111111111,\"#46039f\"],[0.2222222222222222,\"#7201a8\"],[0.3333333333333333,\"#9c179e\"],[0.4444444444444444,\"#bd3786\"],[0.5555555555555556,\"#d8576b\"],[0.6666666666666666,\"#ed7953\"],[0.7777777777777778,\"#fb9f3a\"],[0.8888888888888888,\"#fdca26\"],[1.0,\"#f0f921\"]]}],\"contourcarpet\":[{\"type\":\"contourcarpet\",\"colorbar\":{\"outlinewidth\":0,\"ticks\":\"\"}}],\"contour\":[{\"type\":\"contour\",\"colorbar\":{\"outlinewidth\":0,\"ticks\":\"\"},\"colorscale\":[[0.0,\"#0d0887\"],[0.1111111111111111,\"#46039f\"],[0.2222222222222222,\"#7201a8\"],[0.3333333333333333,\"#9c179e\"],[0.4444444444444444,\"#bd3786\"],[0.5555555555555556,\"#d8576b\"],[0.6666666666666666,\"#ed7953\"],[0.7777777777777778,\"#fb9f3a\"],[0.8888888888888888,\"#fdca26\"],[1.0,\"#f0f921\"]]}],\"surface\":[{\"type\":\"surface\",\"colorbar\":{\"outlinewidth\":0,\"ticks\":\"\"},\"colorscale\":[[0.0,\"#0d0887\"],[0.1111111111111111,\"#46039f\"],[0.2222222222222222,\"#7201a8\"],[0.3333333333333333,\"#9c179e\"],[0.4444444444444444,\"#bd3786\"],[0.5555555555555556,\"#d8576b\"],[0.6666666666666666,\"#ed7953\"],[0.7777777777777778,\"#fb9f3a\"],[0.8888888888888888,\"#fdca26\"],[1.0,\"#f0f921\"]]}],\"mesh3d\":[{\"type\":\"mesh3d\",\"colorbar\":{\"outlinewidth\":0,\"ticks\":\"\"}}],\"scatter\":[{\"fillpattern\":{\"fillmode\":\"overlay\",\"size\":10,\"solidity\":0.2},\"type\":\"scatter\"}],\"parcoords\":[{\"type\":\"parcoords\",\"line\":{\"colorbar\":{\"outlinewidth\":0,\"ticks\":\"\"}}}],\"scatterpolargl\":[{\"type\":\"scatterpolargl\",\"marker\":{\"colorbar\":{\"outlinewidth\":0,\"ticks\":\"\"}}}],\"bar\":[{\"error_x\":{\"color\":\"#2a3f5f\"},\"error_y\":{\"color\":\"#2a3f5f\"},\"marker\":{\"line\":{\"color\":\"#E5ECF6\",\"width\":0.5},\"pattern\":{\"fillmode\":\"overlay\",\"size\":10,\"solidity\":0.2}},\"type\":\"bar\"}],\"scattergeo\":[{\"type\":\"scattergeo\",\"marker\":{\"colorbar\":{\"outlinewidth\":0,\"ticks\":\"\"}}}],\"scatterpolar\":[{\"type\":\"scatterpolar\",\"marker\":{\"colorbar\":{\"outlinewidth\":0,\"ticks\":\"\"}}}],\"histogram\":[{\"marker\":{\"pattern\":{\"fillmode\":\"overlay\",\"size\":10,\"solidity\":0.2}},\"type\":\"histogram\"}],\"scattergl\":[{\"type\":\"scattergl\",\"marker\":{\"colorbar\":{\"outlinewidth\":0,\"ticks\":\"\"}}}],\"scatter3d\":[{\"type\":\"scatter3d\",\"line\":{\"colorbar\":{\"outlinewidth\":0,\"ticks\":\"\"}},\"marker\":{\"colorbar\":{\"outlinewidth\":0,\"ticks\":\"\"}}}],\"scattermapbox\":[{\"type\":\"scattermapbox\",\"marker\":{\"colorbar\":{\"outlinewidth\":0,\"ticks\":\"\"}}}],\"scatterternary\":[{\"type\":\"scatterternary\",\"marker\":{\"colorbar\":{\"outlinewidth\":0,\"ticks\":\"\"}}}],\"scattercarpet\":[{\"type\":\"scattercarpet\",\"marker\":{\"colorbar\":{\"outlinewidth\":0,\"ticks\":\"\"}}}],\"carpet\":[{\"aaxis\":{\"endlinecolor\":\"#2a3f5f\",\"gridcolor\":\"white\",\"linecolor\":\"white\",\"minorgridcolor\":\"white\",\"startlinecolor\":\"#2a3f5f\"},\"baxis\":{\"endlinecolor\":\"#2a3f5f\",\"gridcolor\":\"white\",\"linecolor\":\"white\",\"minorgridcolor\":\"white\",\"startlinecolor\":\"#2a3f5f\"},\"type\":\"carpet\"}],\"table\":[{\"cells\":{\"fill\":{\"color\":\"#EBF0F8\"},\"line\":{\"color\":\"white\"}},\"header\":{\"fill\":{\"color\":\"#C8D4E3\"},\"line\":{\"color\":\"white\"}},\"type\":\"table\"}],\"barpolar\":[{\"marker\":{\"line\":{\"color\":\"#E5ECF6\",\"width\":0.5},\"pattern\":{\"fillmode\":\"overlay\",\"size\":10,\"solidity\":0.2}},\"type\":\"barpolar\"}],\"pie\":[{\"automargin\":true,\"type\":\"pie\"}]},\"layout\":{\"autotypenumbers\":\"strict\",\"colorway\":[\"#636efa\",\"#EF553B\",\"#00cc96\",\"#ab63fa\",\"#FFA15A\",\"#19d3f3\",\"#FF6692\",\"#B6E880\",\"#FF97FF\",\"#FECB52\"],\"font\":{\"color\":\"#2a3f5f\"},\"hovermode\":\"closest\",\"hoverlabel\":{\"align\":\"left\"},\"paper_bgcolor\":\"white\",\"plot_bgcolor\":\"#E5ECF6\",\"polar\":{\"bgcolor\":\"#E5ECF6\",\"angularaxis\":{\"gridcolor\":\"white\",\"linecolor\":\"white\",\"ticks\":\"\"},\"radialaxis\":{\"gridcolor\":\"white\",\"linecolor\":\"white\",\"ticks\":\"\"}},\"ternary\":{\"bgcolor\":\"#E5ECF6\",\"aaxis\":{\"gridcolor\":\"white\",\"linecolor\":\"white\",\"ticks\":\"\"},\"baxis\":{\"gridcolor\":\"white\",\"linecolor\":\"white\",\"ticks\":\"\"},\"caxis\":{\"gridcolor\":\"white\",\"linecolor\":\"white\",\"ticks\":\"\"}},\"coloraxis\":{\"colorbar\":{\"outlinewidth\":0,\"ticks\":\"\"}},\"colorscale\":{\"sequential\":[[0.0,\"#0d0887\"],[0.1111111111111111,\"#46039f\"],[0.2222222222222222,\"#7201a8\"],[0.3333333333333333,\"#9c179e\"],[0.4444444444444444,\"#bd3786\"],[0.5555555555555556,\"#d8576b\"],[0.6666666666666666,\"#ed7953\"],[0.7777777777777778,\"#fb9f3a\"],[0.8888888888888888,\"#fdca26\"],[1.0,\"#f0f921\"]],\"sequentialminus\":[[0.0,\"#0d0887\"],[0.1111111111111111,\"#46039f\"],[0.2222222222222222,\"#7201a8\"],[0.3333333333333333,\"#9c179e\"],[0.4444444444444444,\"#bd3786\"],[0.5555555555555556,\"#d8576b\"],[0.6666666666666666,\"#ed7953\"],[0.7777777777777778,\"#fb9f3a\"],[0.8888888888888888,\"#fdca26\"],[1.0,\"#f0f921\"]],\"diverging\":[[0,\"#8e0152\"],[0.1,\"#c51b7d\"],[0.2,\"#de77ae\"],[0.3,\"#f1b6da\"],[0.4,\"#fde0ef\"],[0.5,\"#f7f7f7\"],[0.6,\"#e6f5d0\"],[0.7,\"#b8e186\"],[0.8,\"#7fbc41\"],[0.9,\"#4d9221\"],[1,\"#276419\"]]},\"xaxis\":{\"gridcolor\":\"white\",\"linecolor\":\"white\",\"ticks\":\"\",\"title\":{\"standoff\":15},\"zerolinecolor\":\"white\",\"automargin\":true,\"zerolinewidth\":2},\"yaxis\":{\"gridcolor\":\"white\",\"linecolor\":\"white\",\"ticks\":\"\",\"title\":{\"standoff\":15},\"zerolinecolor\":\"white\",\"automargin\":true,\"zerolinewidth\":2},\"scene\":{\"xaxis\":{\"backgroundcolor\":\"#E5ECF6\",\"gridcolor\":\"white\",\"linecolor\":\"white\",\"showbackground\":true,\"ticks\":\"\",\"zerolinecolor\":\"white\",\"gridwidth\":2},\"yaxis\":{\"backgroundcolor\":\"#E5ECF6\",\"gridcolor\":\"white\",\"linecolor\":\"white\",\"showbackground\":true,\"ticks\":\"\",\"zerolinecolor\":\"white\",\"gridwidth\":2},\"zaxis\":{\"backgroundcolor\":\"#E5ECF6\",\"gridcolor\":\"white\",\"linecolor\":\"white\",\"showbackground\":true,\"ticks\":\"\",\"zerolinecolor\":\"white\",\"gridwidth\":2}},\"shapedefaults\":{\"line\":{\"color\":\"#2a3f5f\"}},\"annotationdefaults\":{\"arrowcolor\":\"#2a3f5f\",\"arrowhead\":0,\"arrowwidth\":1},\"geo\":{\"bgcolor\":\"white\",\"landcolor\":\"#E5ECF6\",\"subunitcolor\":\"white\",\"showland\":true,\"showlakes\":true,\"lakecolor\":\"white\"},\"title\":{\"x\":0.05},\"mapbox\":{\"style\":\"light\"}}},\"xaxis\":{\"anchor\":\"y\",\"domain\":[0.0,1.0],\"type\":\"date\",\"title\":{\"text\":\"Tiempo\"}},\"yaxis\":{\"anchor\":\"x\",\"domain\":[0.0,1.0],\"title\":{\"text\":\"Orden\"},\"categoryorder\":\"total ascending\"},\"legend\":{\"title\":{\"text\":\"Operaci\\u00f3n\"},\"tracegroupgap\":0},\"title\":{\"text\":\"Planificaci\\u00f3n Gantt de \\u00d3rdenes de Fabricaci\\u00f3n\"},\"barmode\":\"overlay\",\"hovermode\":\"closest\",\"showlegend\":true},                        {\"responsive\": true}                    ).then(function(){\n",
              "                            \n",
              "var gd = document.getElementById('120f4ac7-da85-459a-a535-800c190abd5d');\n",
              "var x = new MutationObserver(function (mutations, observer) {{\n",
              "        var display = window.getComputedStyle(gd).display;\n",
              "        if (!display || display === 'none') {{\n",
              "            console.log([gd, 'removed!']);\n",
              "            Plotly.purge(gd);\n",
              "            observer.disconnect();\n",
              "        }}\n",
              "}});\n",
              "\n",
              "// Listen for the removal of the full notebook cells\n",
              "var notebookContainer = gd.closest('#notebook-container');\n",
              "if (notebookContainer) {{\n",
              "    x.observe(notebookContainer, {childList: true});\n",
              "}}\n",
              "\n",
              "// Listen for the clearing of the current output cell\n",
              "var outputEl = gd.closest('.output');\n",
              "if (outputEl) {{\n",
              "    x.observe(outputEl, {childList: true});\n",
              "}}\n",
              "\n",
              "                        })                };                            </script>        </div>\n",
              "</body>\n",
              "</html>"
            ]
          },
          "metadata": {}
        }
      ]
    },
    {
      "cell_type": "markdown",
      "source": [
        "Con la siguiente función se podrían exportar los datos a Excel si se deseara."
      ],
      "metadata": {
        "id": "15XAcFnbxxhy"
      }
    },
    {
      "cell_type": "code",
      "source": [
        "# Comenzamos un nuevo libro de trabajo de Excel\n",
        "wb = Workbook()\n",
        "\n",
        "# Activamos la primera hoja del libro de trabajo y le asignamos el nombre Ordenes\n",
        "ws_ordenes = wb.active\n",
        "ws_ordenes.title = \"Ordenes\"\n",
        "\n",
        "# Creamos una nueva hoja y le asignamos el nombre Operaciones\n",
        "ws_operaciones = wb.create_sheet(title=\"Operaciones\")\n",
        "\n",
        "# Creamos otra hoja y le asignamos el nombre Recursos\n",
        "ws_recursos = wb.create_sheet(title=\"Recursos\")\n",
        "\n",
        "# Iteramos sobre las filas de df_ordenes y añadimos cada fila a ws_ordenes\n",
        "for r in dataframe_to_rows(df_ordenes, index=False, header=True):\n",
        "    ws_ordenes.append(r)\n",
        "\n",
        "# Hacemos lo mismo sobre las filas de df_operaciones\n",
        "for r in dataframe_to_rows(df_operaciones, index=False, header=True):\n",
        "    ws_operaciones.append(r)\n",
        "\n",
        "# Hacemos lo mismo sobre las filas de df_recursos\n",
        "for r in dataframe_to_rows(df_recursos, index=False, header=True):\n",
        "    ws_recursos.append(r)\n",
        "\n",
        "# Espeficamos el nombre del archivo de Excel donde se van a guardar los datos\n",
        "nombre_archivo = \"datos_fabricacion_escenario_1.xlsx\"\n",
        "\n",
        "# Guardamos el Excel con el nombre nombre_archivo\n",
        "wb.save(filename=nombre_archivo)\n",
        "\n",
        "# Creamso un mensaje de confirmación de la generación\n",
        "print(f\"Archivo '{nombre_archivo}' generado exitosamente.\")\n"
      ],
      "metadata": {
        "colab": {
          "base_uri": "https://localhost:8080/"
        },
        "id": "B3ig2lQgxxE3",
        "outputId": "896532d1-ef95-4446-9785-adb584275b50"
      },
      "execution_count": null,
      "outputs": [
        {
          "output_type": "stream",
          "name": "stdout",
          "text": [
            "Archivo 'datos_fabricacion_escenario_1.xlsx' generado exitosamente.\n"
          ]
        }
      ]
    },
    {
      "cell_type": "markdown",
      "source": [
        "# Lectura de datos"
      ],
      "metadata": {
        "id": "v0I7O5-S1PJB"
      }
    },
    {
      "cell_type": "markdown",
      "source": [
        "En un primer momento decidimos cargar el archivo de datos `datos_fabricacion_escenario_1.xlsx` de forma dinámica. Para ello generamos la siguiente función, que solo será necesaria ejecutar si queremos leer un archivo Excel que tengamos ya generado."
      ],
      "metadata": {
        "id": "oViO05Kt1WgH"
      }
    },
    {
      "cell_type": "code",
      "source": [
        "# Función para cargar el archivo Excel\n",
        "def cargar_datos():\n",
        "    from google.colab import files\n",
        "    uploaded = files.upload()\n",
        "    file_path = list(uploaded.keys())[0]\n",
        "    # Leemos la hoja Ordenes del archivo Excel\n",
        "    ordenes = pd.read_excel(file_path, sheet_name='Ordenes')\n",
        "    # Leemos la hoja Operaciones del archivo Excel\n",
        "    operaciones = pd.read_excel(file_path, sheet_name='Operaciones')\n",
        "    # Leemos la hoja Recursos del archivo Excel\n",
        "    recursos = pd.read_excel(file_path, sheet_name='Recursos')\n",
        "\n",
        "    # Devolvemos los tres DataFrames leídos: ordenes, operaciones y recursos\n",
        "    return ordenes, operaciones, recursos\n",
        "\n",
        "# Cargamos los datos desde un excel\n",
        "ordenes, operaciones, recursos = cargar_datos()"
      ],
      "metadata": {
        "id": "nRWPwyl21RBk"
      },
      "execution_count": 113,
      "outputs": []
    },
    {
      "cell_type": "markdown",
      "source": [
        "A continuación renombramos los dataframes directamente de la función."
      ],
      "metadata": {
        "id": "-Fk5toYQ10xn"
      }
    },
    {
      "cell_type": "code",
      "source": [
        "# Cargamos los datos localmente\n",
        "ordenes, operaciones, recursos = df_ordenes, df_operaciones, df_recursos"
      ],
      "metadata": {
        "id": "V6DS2-Euf7nD"
      },
      "execution_count": 29,
      "outputs": []
    },
    {
      "cell_type": "markdown",
      "source": [
        "# Función evaluar_fitness"
      ],
      "metadata": {
        "id": "gdxJekJIoIaj"
      }
    },
    {
      "cell_type": "markdown",
      "source": [
        "Con la función `evaluar_fitness` calculamos la eficacia de las asignaciones realizadas sobre la asignación óptima realizada por cada uno de los algoritmos. Esta se basa en los tiempos totales asociados a cada operación, que están compuestos por el total necesario para completar todas las operaciones asignadas y el tiempo muerto (setup) asociado. Un valor de fitness más alto indicará una asignación más eficiente."
      ],
      "metadata": {
        "id": "LAKA84cdoQ0U"
      }
    },
    {
      "cell_type": "code",
      "source": [
        "# Función evaluar_fitness: evaluar la bondad de las asignaciones\n",
        "def evaluar_fitness(resultado_optimo, operaciones, recursos):\n",
        "    # Inicializamos las variables para el tiempo total y el tiempo muerto\n",
        "    tiempo_total = 0\n",
        "    tiempo_muerto = 0\n",
        "\n",
        "    # Creamos un diccionario el uso de cada máquina (recurso)\n",
        "    uso_maquinas = {recurso: 0 for recurso in recursos['ID Recurso'].unique()}\n",
        "\n",
        "    # Iteramos sobre cada tarea en el resultado_optimo\n",
        "    for tarea in resultado_optimo:\n",
        "        id_orden, id_operacion, id_recurso = tarea\n",
        "\n",
        "        # Verificamos si el id_recurso está en el diccionario uso_maquinas (para evitar acceder a un recurso\n",
        "        # inexistente)\n",
        "        if id_recurso in uso_maquinas:\n",
        "            # Obtenemos la operación correspondiente a la tarea actual\n",
        "            operacion = operaciones[(operaciones['ID Orden'] == id_orden) &\n",
        "                                    (operaciones['ID Operación'] == id_operacion)].iloc[0]\n",
        "            duracion = int(operacion['Duración'])\n",
        "            tiempo_setup = int(operacion['Tiempo Setup'])\n",
        "\n",
        "            # Calculamos el tiempo de inicio de la operación\n",
        "            tiempo_inicio = uso_maquinas[id_recurso]\n",
        "            # Calculamos la duración total (duracion + tiempo_setup)\n",
        "            uso_maquinas[id_recurso] += duracion + tiempo_setup\n",
        "            tiempo_fin = uso_maquinas[id_recurso]\n",
        "\n",
        "            # Actualizamos el tiempo total y el tiempo muerto (suma de los tiempos de setup)\n",
        "            tiempo_total = max(tiempo_total, tiempo_fin)\n",
        "            tiempo_muerto += tiempo_setup\n",
        "        else:\n",
        "            print(f\"El recurso {id_recurso} no está en el diccionario.\")\n",
        "\n",
        "    # Calculamos el fitness como el inverso de la suma del tiempo total y el tiempo muerto\n",
        "    fitness = 1 / (tiempo_total + tiempo_muerto) if tiempo_total + tiempo_muerto > 0 else 0\n",
        "\n",
        "    # Devolvemos el fitness (eficacia de las asignaciones)\n",
        "    return fitness"
      ],
      "metadata": {
        "id": "1Y9HZ92Mhp4y"
      },
      "execution_count": 38,
      "outputs": []
    },
    {
      "cell_type": "markdown",
      "source": [
        "# Algoritmos"
      ],
      "metadata": {
        "id": "lSyoXyInvuhw"
      }
    },
    {
      "cell_type": "markdown",
      "source": [
        "Decidimos centrarnos en los siguientes algoritmos:\n",
        "\n",
        "*\tAsignación Óptima: Algoritmo Munkres (Húngaro).\n",
        "* Algoritmo genético.\n",
        "* Algoritmo de enrutamiento de máquinas.\n",
        "* Algoritmo de cuellos de botella.\n"
      ],
      "metadata": {
        "id": "iQ8ewWzbs_Zc"
      }
    },
    {
      "cell_type": "markdown",
      "source": [
        "## Asignación Óptima: Algoritmo Húngaro (Munkres)"
      ],
      "metadata": {
        "id": "ZippTFoD0-S4"
      }
    },
    {
      "cell_type": "markdown",
      "source": [
        "Ajustamos el **Algoritmo de Munkres (o método Húngaro)** para asignar óptimamente las operaciones a los recursos disponibles. Este método es efectivo para minimizar el tiempo total de operación asignando cada operación al recurso que pueda realizarla en el menor tiempo posible, considerando las restricciones y capacidades. Se decide utilizar el módulo **Munkres** para llevar a cabo el ajuste del algoritmo.\n",
        "\n",
        "Procedemos con la implementación del Algoritmo de Munkres."
      ],
      "metadata": {
        "id": "OvPuFAMk2lta"
      }
    },
    {
      "cell_type": "markdown",
      "source": [
        "### 1. Generación matriz de costos"
      ],
      "metadata": {
        "id": "EjI4cYly2oh7"
      }
    },
    {
      "cell_type": "markdown",
      "source": [
        "La función `generar_matriz_costos` crea una matriz cuadrada donde cada valor representa la duración de asignar una operación a un recurso.\n",
        "En caso de que los tipos de recursos y las operaciones coincidan, se asigna la duración asociada. En caso contrario se asigna el valor 10000, un tiempo elevado que nunca se va a dar y que sirve para indicar una asignación inviable.\n"
      ],
      "metadata": {
        "id": "HiQqcQadl4OF"
      }
    },
    {
      "cell_type": "code",
      "source": [
        "# Creamos un dataframe con las operaciones y los recursos de nuestra planta\n",
        "df = pd.DataFrame({\n",
        "    'Operaciones': list(operaciones['Descripción Operación'].unique()),\n",
        "    'Recursos': list(recursos['Descripción'].unique())\n",
        "})\n",
        "\n",
        "df"
      ],
      "metadata": {
        "colab": {
          "base_uri": "https://localhost:8080/",
          "height": 235
        },
        "id": "a4YhNn4F6Pwz",
        "outputId": "442316f5-686c-4c58-9f32-df111812bf94"
      },
      "execution_count": 39,
      "outputs": [
        {
          "output_type": "execute_result",
          "data": {
            "text/plain": [
              "         Operaciones             Recursos\n",
              "0    Mecanizado base            Torno CNC\n",
              "1  Mecanizado bloque        Fresadora CNC\n",
              "2   Montaje pistones              Montaje\n",
              "3   Montaje cigüeñal              Pintura\n",
              "4   Ensamblaje motor  Robot de Ensamblaje\n",
              "5    Pruebas finales  Estación de Pruebas"
            ],
            "text/html": [
              "\n",
              "  <div id=\"df-3bf94a54-63d0-4ee8-a44c-dd8c8314157c\" class=\"colab-df-container\">\n",
              "    <div>\n",
              "<style scoped>\n",
              "    .dataframe tbody tr th:only-of-type {\n",
              "        vertical-align: middle;\n",
              "    }\n",
              "\n",
              "    .dataframe tbody tr th {\n",
              "        vertical-align: top;\n",
              "    }\n",
              "\n",
              "    .dataframe thead th {\n",
              "        text-align: right;\n",
              "    }\n",
              "</style>\n",
              "<table border=\"1\" class=\"dataframe\">\n",
              "  <thead>\n",
              "    <tr style=\"text-align: right;\">\n",
              "      <th></th>\n",
              "      <th>Operaciones</th>\n",
              "      <th>Recursos</th>\n",
              "    </tr>\n",
              "  </thead>\n",
              "  <tbody>\n",
              "    <tr>\n",
              "      <th>0</th>\n",
              "      <td>Mecanizado base</td>\n",
              "      <td>Torno CNC</td>\n",
              "    </tr>\n",
              "    <tr>\n",
              "      <th>1</th>\n",
              "      <td>Mecanizado bloque</td>\n",
              "      <td>Fresadora CNC</td>\n",
              "    </tr>\n",
              "    <tr>\n",
              "      <th>2</th>\n",
              "      <td>Montaje pistones</td>\n",
              "      <td>Montaje</td>\n",
              "    </tr>\n",
              "    <tr>\n",
              "      <th>3</th>\n",
              "      <td>Montaje cigüeñal</td>\n",
              "      <td>Pintura</td>\n",
              "    </tr>\n",
              "    <tr>\n",
              "      <th>4</th>\n",
              "      <td>Ensamblaje motor</td>\n",
              "      <td>Robot de Ensamblaje</td>\n",
              "    </tr>\n",
              "    <tr>\n",
              "      <th>5</th>\n",
              "      <td>Pruebas finales</td>\n",
              "      <td>Estación de Pruebas</td>\n",
              "    </tr>\n",
              "  </tbody>\n",
              "</table>\n",
              "</div>\n",
              "    <div class=\"colab-df-buttons\">\n",
              "\n",
              "  <div class=\"colab-df-container\">\n",
              "    <button class=\"colab-df-convert\" onclick=\"convertToInteractive('df-3bf94a54-63d0-4ee8-a44c-dd8c8314157c')\"\n",
              "            title=\"Convert this dataframe to an interactive table.\"\n",
              "            style=\"display:none;\">\n",
              "\n",
              "  <svg xmlns=\"http://www.w3.org/2000/svg\" height=\"24px\" viewBox=\"0 -960 960 960\">\n",
              "    <path d=\"M120-120v-720h720v720H120Zm60-500h600v-160H180v160Zm220 220h160v-160H400v160Zm0 220h160v-160H400v160ZM180-400h160v-160H180v160Zm440 0h160v-160H620v160ZM180-180h160v-160H180v160Zm440 0h160v-160H620v160Z\"/>\n",
              "  </svg>\n",
              "    </button>\n",
              "\n",
              "  <style>\n",
              "    .colab-df-container {\n",
              "      display:flex;\n",
              "      gap: 12px;\n",
              "    }\n",
              "\n",
              "    .colab-df-convert {\n",
              "      background-color: #E8F0FE;\n",
              "      border: none;\n",
              "      border-radius: 50%;\n",
              "      cursor: pointer;\n",
              "      display: none;\n",
              "      fill: #1967D2;\n",
              "      height: 32px;\n",
              "      padding: 0 0 0 0;\n",
              "      width: 32px;\n",
              "    }\n",
              "\n",
              "    .colab-df-convert:hover {\n",
              "      background-color: #E2EBFA;\n",
              "      box-shadow: 0px 1px 2px rgba(60, 64, 67, 0.3), 0px 1px 3px 1px rgba(60, 64, 67, 0.15);\n",
              "      fill: #174EA6;\n",
              "    }\n",
              "\n",
              "    .colab-df-buttons div {\n",
              "      margin-bottom: 4px;\n",
              "    }\n",
              "\n",
              "    [theme=dark] .colab-df-convert {\n",
              "      background-color: #3B4455;\n",
              "      fill: #D2E3FC;\n",
              "    }\n",
              "\n",
              "    [theme=dark] .colab-df-convert:hover {\n",
              "      background-color: #434B5C;\n",
              "      box-shadow: 0px 1px 3px 1px rgba(0, 0, 0, 0.15);\n",
              "      filter: drop-shadow(0px 1px 2px rgba(0, 0, 0, 0.3));\n",
              "      fill: #FFFFFF;\n",
              "    }\n",
              "  </style>\n",
              "\n",
              "    <script>\n",
              "      const buttonEl =\n",
              "        document.querySelector('#df-3bf94a54-63d0-4ee8-a44c-dd8c8314157c button.colab-df-convert');\n",
              "      buttonEl.style.display =\n",
              "        google.colab.kernel.accessAllowed ? 'block' : 'none';\n",
              "\n",
              "      async function convertToInteractive(key) {\n",
              "        const element = document.querySelector('#df-3bf94a54-63d0-4ee8-a44c-dd8c8314157c');\n",
              "        const dataTable =\n",
              "          await google.colab.kernel.invokeFunction('convertToInteractive',\n",
              "                                                    [key], {});\n",
              "        if (!dataTable) return;\n",
              "\n",
              "        const docLinkHtml = 'Like what you see? Visit the ' +\n",
              "          '<a target=\"_blank\" href=https://colab.research.google.com/notebooks/data_table.ipynb>data table notebook</a>'\n",
              "          + ' to learn more about interactive tables.';\n",
              "        element.innerHTML = '';\n",
              "        dataTable['output_type'] = 'display_data';\n",
              "        await google.colab.output.renderOutput(dataTable, element);\n",
              "        const docLink = document.createElement('div');\n",
              "        docLink.innerHTML = docLinkHtml;\n",
              "        element.appendChild(docLink);\n",
              "      }\n",
              "    </script>\n",
              "  </div>\n",
              "\n",
              "\n",
              "<div id=\"df-e64a6b04-67a4-44ca-9fc4-f404f54594b3\">\n",
              "  <button class=\"colab-df-quickchart\" onclick=\"quickchart('df-e64a6b04-67a4-44ca-9fc4-f404f54594b3')\"\n",
              "            title=\"Suggest charts\"\n",
              "            style=\"display:none;\">\n",
              "\n",
              "<svg xmlns=\"http://www.w3.org/2000/svg\" height=\"24px\"viewBox=\"0 0 24 24\"\n",
              "     width=\"24px\">\n",
              "    <g>\n",
              "        <path d=\"M19 3H5c-1.1 0-2 .9-2 2v14c0 1.1.9 2 2 2h14c1.1 0 2-.9 2-2V5c0-1.1-.9-2-2-2zM9 17H7v-7h2v7zm4 0h-2V7h2v10zm4 0h-2v-4h2v4z\"/>\n",
              "    </g>\n",
              "</svg>\n",
              "  </button>\n",
              "\n",
              "<style>\n",
              "  .colab-df-quickchart {\n",
              "      --bg-color: #E8F0FE;\n",
              "      --fill-color: #1967D2;\n",
              "      --hover-bg-color: #E2EBFA;\n",
              "      --hover-fill-color: #174EA6;\n",
              "      --disabled-fill-color: #AAA;\n",
              "      --disabled-bg-color: #DDD;\n",
              "  }\n",
              "\n",
              "  [theme=dark] .colab-df-quickchart {\n",
              "      --bg-color: #3B4455;\n",
              "      --fill-color: #D2E3FC;\n",
              "      --hover-bg-color: #434B5C;\n",
              "      --hover-fill-color: #FFFFFF;\n",
              "      --disabled-bg-color: #3B4455;\n",
              "      --disabled-fill-color: #666;\n",
              "  }\n",
              "\n",
              "  .colab-df-quickchart {\n",
              "    background-color: var(--bg-color);\n",
              "    border: none;\n",
              "    border-radius: 50%;\n",
              "    cursor: pointer;\n",
              "    display: none;\n",
              "    fill: var(--fill-color);\n",
              "    height: 32px;\n",
              "    padding: 0;\n",
              "    width: 32px;\n",
              "  }\n",
              "\n",
              "  .colab-df-quickchart:hover {\n",
              "    background-color: var(--hover-bg-color);\n",
              "    box-shadow: 0 1px 2px rgba(60, 64, 67, 0.3), 0 1px 3px 1px rgba(60, 64, 67, 0.15);\n",
              "    fill: var(--button-hover-fill-color);\n",
              "  }\n",
              "\n",
              "  .colab-df-quickchart-complete:disabled,\n",
              "  .colab-df-quickchart-complete:disabled:hover {\n",
              "    background-color: var(--disabled-bg-color);\n",
              "    fill: var(--disabled-fill-color);\n",
              "    box-shadow: none;\n",
              "  }\n",
              "\n",
              "  .colab-df-spinner {\n",
              "    border: 2px solid var(--fill-color);\n",
              "    border-color: transparent;\n",
              "    border-bottom-color: var(--fill-color);\n",
              "    animation:\n",
              "      spin 1s steps(1) infinite;\n",
              "  }\n",
              "\n",
              "  @keyframes spin {\n",
              "    0% {\n",
              "      border-color: transparent;\n",
              "      border-bottom-color: var(--fill-color);\n",
              "      border-left-color: var(--fill-color);\n",
              "    }\n",
              "    20% {\n",
              "      border-color: transparent;\n",
              "      border-left-color: var(--fill-color);\n",
              "      border-top-color: var(--fill-color);\n",
              "    }\n",
              "    30% {\n",
              "      border-color: transparent;\n",
              "      border-left-color: var(--fill-color);\n",
              "      border-top-color: var(--fill-color);\n",
              "      border-right-color: var(--fill-color);\n",
              "    }\n",
              "    40% {\n",
              "      border-color: transparent;\n",
              "      border-right-color: var(--fill-color);\n",
              "      border-top-color: var(--fill-color);\n",
              "    }\n",
              "    60% {\n",
              "      border-color: transparent;\n",
              "      border-right-color: var(--fill-color);\n",
              "    }\n",
              "    80% {\n",
              "      border-color: transparent;\n",
              "      border-right-color: var(--fill-color);\n",
              "      border-bottom-color: var(--fill-color);\n",
              "    }\n",
              "    90% {\n",
              "      border-color: transparent;\n",
              "      border-bottom-color: var(--fill-color);\n",
              "    }\n",
              "  }\n",
              "</style>\n",
              "\n",
              "  <script>\n",
              "    async function quickchart(key) {\n",
              "      const quickchartButtonEl =\n",
              "        document.querySelector('#' + key + ' button');\n",
              "      quickchartButtonEl.disabled = true;  // To prevent multiple clicks.\n",
              "      quickchartButtonEl.classList.add('colab-df-spinner');\n",
              "      try {\n",
              "        const charts = await google.colab.kernel.invokeFunction(\n",
              "            'suggestCharts', [key], {});\n",
              "      } catch (error) {\n",
              "        console.error('Error during call to suggestCharts:', error);\n",
              "      }\n",
              "      quickchartButtonEl.classList.remove('colab-df-spinner');\n",
              "      quickchartButtonEl.classList.add('colab-df-quickchart-complete');\n",
              "    }\n",
              "    (() => {\n",
              "      let quickchartButtonEl =\n",
              "        document.querySelector('#df-e64a6b04-67a4-44ca-9fc4-f404f54594b3 button');\n",
              "      quickchartButtonEl.style.display =\n",
              "        google.colab.kernel.accessAllowed ? 'block' : 'none';\n",
              "    })();\n",
              "  </script>\n",
              "</div>\n",
              "\n",
              "  <div id=\"id_9e78e2de-d06b-44d7-9f79-c0d38928ee8b\">\n",
              "    <style>\n",
              "      .colab-df-generate {\n",
              "        background-color: #E8F0FE;\n",
              "        border: none;\n",
              "        border-radius: 50%;\n",
              "        cursor: pointer;\n",
              "        display: none;\n",
              "        fill: #1967D2;\n",
              "        height: 32px;\n",
              "        padding: 0 0 0 0;\n",
              "        width: 32px;\n",
              "      }\n",
              "\n",
              "      .colab-df-generate:hover {\n",
              "        background-color: #E2EBFA;\n",
              "        box-shadow: 0px 1px 2px rgba(60, 64, 67, 0.3), 0px 1px 3px 1px rgba(60, 64, 67, 0.15);\n",
              "        fill: #174EA6;\n",
              "      }\n",
              "\n",
              "      [theme=dark] .colab-df-generate {\n",
              "        background-color: #3B4455;\n",
              "        fill: #D2E3FC;\n",
              "      }\n",
              "\n",
              "      [theme=dark] .colab-df-generate:hover {\n",
              "        background-color: #434B5C;\n",
              "        box-shadow: 0px 1px 3px 1px rgba(0, 0, 0, 0.15);\n",
              "        filter: drop-shadow(0px 1px 2px rgba(0, 0, 0, 0.3));\n",
              "        fill: #FFFFFF;\n",
              "      }\n",
              "    </style>\n",
              "    <button class=\"colab-df-generate\" onclick=\"generateWithVariable('df')\"\n",
              "            title=\"Generate code using this dataframe.\"\n",
              "            style=\"display:none;\">\n",
              "\n",
              "  <svg xmlns=\"http://www.w3.org/2000/svg\" height=\"24px\"viewBox=\"0 0 24 24\"\n",
              "       width=\"24px\">\n",
              "    <path d=\"M7,19H8.4L18.45,9,17,7.55,7,17.6ZM5,21V16.75L18.45,3.32a2,2,0,0,1,2.83,0l1.4,1.43a1.91,1.91,0,0,1,.58,1.4,1.91,1.91,0,0,1-.58,1.4L9.25,21ZM18.45,9,17,7.55Zm-12,3A5.31,5.31,0,0,0,4.9,8.1,5.31,5.31,0,0,0,1,6.5,5.31,5.31,0,0,0,4.9,4.9,5.31,5.31,0,0,0,6.5,1,5.31,5.31,0,0,0,8.1,4.9,5.31,5.31,0,0,0,12,6.5,5.46,5.46,0,0,0,6.5,12Z\"/>\n",
              "  </svg>\n",
              "    </button>\n",
              "    <script>\n",
              "      (() => {\n",
              "      const buttonEl =\n",
              "        document.querySelector('#id_9e78e2de-d06b-44d7-9f79-c0d38928ee8b button.colab-df-generate');\n",
              "      buttonEl.style.display =\n",
              "        google.colab.kernel.accessAllowed ? 'block' : 'none';\n",
              "\n",
              "      buttonEl.onclick = () => {\n",
              "        google.colab.notebook.generateWithVariable('df');\n",
              "      }\n",
              "      })();\n",
              "    </script>\n",
              "  </div>\n",
              "\n",
              "    </div>\n",
              "  </div>\n"
            ],
            "application/vnd.google.colaboratory.intrinsic+json": {
              "type": "dataframe",
              "variable_name": "df",
              "summary": "{\n  \"name\": \"df\",\n  \"rows\": 6,\n  \"fields\": [\n    {\n      \"column\": \"Operaciones\",\n      \"properties\": {\n        \"dtype\": \"string\",\n        \"num_unique_values\": 6,\n        \"samples\": [\n          \"Mecanizado base\",\n          \"Mecanizado bloque\",\n          \"Pruebas finales\"\n        ],\n        \"semantic_type\": \"\",\n        \"description\": \"\"\n      }\n    },\n    {\n      \"column\": \"Recursos\",\n      \"properties\": {\n        \"dtype\": \"string\",\n        \"num_unique_values\": 6,\n        \"samples\": [\n          \"Torno CNC\",\n          \"Fresadora CNC\",\n          \"Estaci\\u00f3n de Pruebas\"\n        ],\n        \"semantic_type\": \"\",\n        \"description\": \"\"\n      }\n    }\n  ]\n}"
            }
          },
          "metadata": {},
          "execution_count": 39
        }
      ]
    },
    {
      "cell_type": "markdown",
      "source": [
        " Para ajustar el agoritmo, definimos el tamaño de las operaciones y los recursos."
      ],
      "metadata": {
        "id": "I4BNaSel4adI"
      }
    },
    {
      "cell_type": "code",
      "execution_count": 40,
      "metadata": {
        "id": "GwWk0ZUtszAq"
      },
      "outputs": [],
      "source": [
        "# Función para generar la matriz de costos (tiempos)\n",
        "def generar_matriz_costos(operaciones, recursos):\n",
        "\n",
        "    # Obtenemos el número de operaciones y recursos\n",
        "    num_operaciones = operaciones.shape[0]\n",
        "    num_recursos = recursos.shape[0]\n",
        "\n",
        "    # Determinamos la dimensión máxima entre operaciones y recursos (para que la matriz después sea cuadrada)\n",
        "    max_dim = max(num_operaciones, num_recursos)\n",
        "\n",
        "\n",
        "    # Inicializamos la matriz de costos cuadrada rellena con un valor muy alto (10000)\n",
        "    matriz_costos = np.full((max_dim, max_dim), 10000)\n",
        "\n",
        "    # Iteramos sobre cada operación y cada recurso\n",
        "    for i, op in operaciones.iterrows():\n",
        "        for j, recurso in recursos.iterrows():\n",
        "            # Si el tipo de recurso de la operación coincide con el tipo de recurso disponible asignamos\n",
        "            # la duración de la operación como costo\n",
        "            if op['Tipo Recurso'] == recurso['Tipo']:\n",
        "                matriz_costos[i, j] = op['Duración']\n",
        "\n",
        "    # Devolcemos la matriz de costos\n",
        "    return matriz_costos"
      ]
    },
    {
      "cell_type": "markdown",
      "source": [
        "De este modo identificamos las asignaciones viables. Al verificar la compatibilidad entre el tipo de recurso y el tipo requerido para cada operación, determinamos las combinaciones operación-recurso que son factibles. Si el tipo de recurso se ajusta al necesario para la operación, entonces se considera que dicho recurso es apto para llevar a cabo la operación.\n"
      ],
      "metadata": {
        "id": "c98pY5HU5sLs"
      }
    },
    {
      "cell_type": "code",
      "source": [
        "# Generamos la matriz de costos\n",
        "matriz_costos = generar_matriz_costos(df_operaciones, df_recursos)\n",
        "matriz_costos"
      ],
      "metadata": {
        "colab": {
          "base_uri": "https://localhost:8080/"
        },
        "id": "4pPGReuB5_5n",
        "outputId": "8d301e91-b556-4df8-83ff-4637312fe106"
      },
      "execution_count": 41,
      "outputs": [
        {
          "output_type": "execute_result",
          "data": {
            "text/plain": [
              "array([[   53,    53, 10000, 10000, 10000, 10000, 10000, 10000, 10000,\n",
              "        10000, 10000, 10000, 10000, 10000, 10000, 10000, 10000, 10000],\n",
              "       [   18,    18, 10000, 10000, 10000, 10000, 10000, 10000, 10000,\n",
              "        10000, 10000, 10000, 10000, 10000, 10000, 10000, 10000, 10000],\n",
              "       [10000, 10000,    39, 10000, 10000, 10000, 10000, 10000, 10000,\n",
              "        10000, 10000, 10000, 10000, 10000, 10000, 10000, 10000, 10000],\n",
              "       [10000, 10000, 10000,    43, 10000, 10000, 10000, 10000, 10000,\n",
              "        10000, 10000, 10000, 10000, 10000, 10000, 10000, 10000, 10000],\n",
              "       [10000, 10000, 10000, 10000,    26, 10000, 10000, 10000, 10000,\n",
              "        10000, 10000, 10000, 10000, 10000, 10000, 10000, 10000, 10000],\n",
              "       [10000, 10000, 10000, 10000, 10000,    26, 10000, 10000, 10000,\n",
              "        10000, 10000, 10000, 10000, 10000, 10000, 10000, 10000, 10000],\n",
              "       [   62,    62, 10000, 10000, 10000, 10000, 10000, 10000, 10000,\n",
              "        10000, 10000, 10000, 10000, 10000, 10000, 10000, 10000, 10000],\n",
              "       [   42,    42, 10000, 10000, 10000, 10000, 10000, 10000, 10000,\n",
              "        10000, 10000, 10000, 10000, 10000, 10000, 10000, 10000, 10000],\n",
              "       [10000, 10000,    60, 10000, 10000, 10000, 10000, 10000, 10000,\n",
              "        10000, 10000, 10000, 10000, 10000, 10000, 10000, 10000, 10000],\n",
              "       [10000, 10000, 10000,    10, 10000, 10000, 10000, 10000, 10000,\n",
              "        10000, 10000, 10000, 10000, 10000, 10000, 10000, 10000, 10000],\n",
              "       [10000, 10000, 10000, 10000,    62, 10000, 10000, 10000, 10000,\n",
              "        10000, 10000, 10000, 10000, 10000, 10000, 10000, 10000, 10000],\n",
              "       [10000, 10000, 10000, 10000, 10000,    32, 10000, 10000, 10000,\n",
              "        10000, 10000, 10000, 10000, 10000, 10000, 10000, 10000, 10000],\n",
              "       [   52,    52, 10000, 10000, 10000, 10000, 10000, 10000, 10000,\n",
              "        10000, 10000, 10000, 10000, 10000, 10000, 10000, 10000, 10000],\n",
              "       [   12,    12, 10000, 10000, 10000, 10000, 10000, 10000, 10000,\n",
              "        10000, 10000, 10000, 10000, 10000, 10000, 10000, 10000, 10000],\n",
              "       [10000, 10000,    25, 10000, 10000, 10000, 10000, 10000, 10000,\n",
              "        10000, 10000, 10000, 10000, 10000, 10000, 10000, 10000, 10000],\n",
              "       [10000, 10000, 10000,    28, 10000, 10000, 10000, 10000, 10000,\n",
              "        10000, 10000, 10000, 10000, 10000, 10000, 10000, 10000, 10000],\n",
              "       [10000, 10000, 10000, 10000,     9, 10000, 10000, 10000, 10000,\n",
              "        10000, 10000, 10000, 10000, 10000, 10000, 10000, 10000, 10000],\n",
              "       [10000, 10000, 10000, 10000, 10000,    63, 10000, 10000, 10000,\n",
              "        10000, 10000, 10000, 10000, 10000, 10000, 10000, 10000, 10000]])"
            ]
          },
          "metadata": {},
          "execution_count": 41
        }
      ]
    },
    {
      "cell_type": "markdown",
      "source": [
        "En la matriz las posiciones que no contienen el valor `10000` representan las asignaciones viables, es decir, aquellas combinaciones en las que el tipo de recurso es compatible con el tipo requerido para la operación."
      ],
      "metadata": {
        "id": "bfLCjMJF53QC"
      }
    },
    {
      "cell_type": "markdown",
      "source": [
        "### 2. Algoritmo Munkres"
      ],
      "metadata": {
        "id": "RtA7AIqP60tk"
      }
    },
    {
      "cell_type": "markdown",
      "source": [
        "Obtenemos las asignaciones óptimas según el algoritmo. En este caso se realiza un filtrado de las asignaciones para poder cumplir con las restricciones impuestas."
      ],
      "metadata": {
        "id": "QhEITPWF-1C5"
      }
    },
    {
      "cell_type": "code",
      "source": [
        "# Función para optimizar con el algoritmo de Munkres\n",
        "def algoritmo_munkres(matriz_costos, operaciones, recursos):\n",
        "    # Creamos una instancia de la clase Munkres para aplicar el algoritmo\n",
        "    m = Munkres()\n",
        "    # Ejecutamos el algoritmo sobre la matriz de costos y obtenemos los índices\n",
        "    indices = m.compute(matriz_costos)\n",
        "\n",
        "    # Inicializamos una lista vacía para almacenar las asignaciones filtradas\n",
        "    asignaciones_filtradas = []\n",
        "\n",
        "    # Tenemos 6 operaciones por cada orden\n",
        "    num_op_por_orden = 6\n",
        "\n",
        "    # Obtenemos el número total de órdenes en el DataFrame de operaciones\n",
        "    num_ordenes = operaciones['ID Orden'].nunique()\n",
        "\n",
        "    # Iteramos sobre cada orden\n",
        "    for id_orden in range(1, num_ordenes + 1):\n",
        "        # Inicializamos un contador para llevar controlar las operaciones por orden\n",
        "        contador_op = 0\n",
        "\n",
        "        # Iteramos sobre los índices resultantes del algoritmo de Munkres (pares de\n",
        "        # id_operacion y id_recurso)\n",
        "        for id_operacion, id_recurso in indices:\n",
        "            # Verificamos si la operación y el recurso están dentro del rango de operaciones\n",
        "            #y recursos válidos\n",
        "            if id_operacion < operaciones.shape[0] and id_recurso < recursos.shape[0]:\n",
        "                # Filtramos las operaciones correspondientes a la orden actual\n",
        "                operacion_actual = operaciones[operaciones['ID Orden'] == id_orden]\n",
        "\n",
        "                # Verificamos si no hemos alcanzado el número máximo de tuplas por orden\n",
        "                if contador_op < num_op_por_orden and len(operacion_actual) > 0:\n",
        "                    # Obtenemos la operación correspondiente a través de la posición del contador\n",
        "                    operacion = operacion_actual.iloc[contador_op]\n",
        "                    id_operacion_real = operacion['ID Operación']\n",
        "\n",
        "                    # Añadimos la asignación a la lista como una tupla con el ID de la orden,\n",
        "                    # la operación y el recurso\n",
        "                    asignaciones_filtradas.append((id_orden, id_operacion_real, id_recurso))\n",
        "\n",
        "                    # Aumentamostamos el contador de operaciones para la orden actual\n",
        "                    contador_op += 1\n",
        "\n",
        "    # Evaluamos el fitness de las asignaciones obtenidas\n",
        "    fitness_munkres = evaluar_fitness(asignaciones_filtradas, operaciones, recursos)\n",
        "\n",
        "    # Devolvemos la lista de asignaciones y el valor de fitness\n",
        "    return asignaciones_filtradas, fitness_munkres"
      ],
      "metadata": {
        "id": "QQTZ73RLcOx7"
      },
      "execution_count": 75,
      "outputs": []
    },
    {
      "cell_type": "markdown",
      "source": [
        "A continuación ejecutamos el algoritmo."
      ],
      "metadata": {
        "id": "4vQZIQ6C1c4i"
      }
    },
    {
      "cell_type": "code",
      "source": [
        "# Ejecutamos el algoritmo de Munkres\n",
        "asignaciones_munkres, fitness_munkres = algoritmo_munkres(matriz_costos, df_operaciones, df_recursos)"
      ],
      "metadata": {
        "colab": {
          "base_uri": "https://localhost:8080/"
        },
        "id": "FXJrFyIsnsTm",
        "outputId": "ed33086e-3470-4247-b89f-00b3cdba1c2d"
      },
      "execution_count": 77,
      "outputs": [
        {
          "output_type": "stream",
          "name": "stdout",
          "text": [
            "El recurso 0 no está en el diccionario.\n",
            "El recurso 0 no está en el diccionario.\n",
            "El recurso 0 no está en el diccionario.\n"
          ]
        }
      ]
    },
    {
      "cell_type": "markdown",
      "source": [
        "### 3. Fitness algoritmo Munkres"
      ],
      "metadata": {
        "id": "mTA2sHirdmMb"
      }
    },
    {
      "cell_type": "code",
      "source": [
        "# Mostramos las asignaciones del algoritmo de Munkres\n",
        "print(\"Asignaciones Munkres:\", asignaciones_munkres)\n",
        "\n",
        "# Y el fitness calculado\n",
        "print(\"Fitness Munkres:\", fitness_munkres)"
      ],
      "metadata": {
        "colab": {
          "base_uri": "https://localhost:8080/"
        },
        "id": "o-0cGYilcP5R",
        "outputId": "e9bcaac8-1eb4-4ad4-92b8-6e0d48c6cbcb"
      },
      "execution_count": 78,
      "outputs": [
        {
          "output_type": "stream",
          "name": "stdout",
          "text": [
            "Asignaciones Munkres: [(1, 0, 0), (1, 1, 5), (1, 2, 3), (1, 3, 1), (1, 4, 2), (1, 5, 4), (2, 0, 0), (2, 1, 5), (2, 2, 3), (2, 3, 1), (2, 4, 2), (2, 5, 4), (3, 0, 0), (3, 1, 5), (3, 2, 3), (3, 3, 1), (3, 4, 2), (3, 5, 4)]\n",
            "Fitness Munkres: 0.008064516129032258\n"
          ]
        }
      ]
    },
    {
      "cell_type": "markdown",
      "source": [
        "### 4. Visualización diagrama Gantt"
      ],
      "metadata": {
        "id": "EQa5AA0T8ZVi"
      }
    },
    {
      "cell_type": "markdown",
      "source": [
        "Una vez obtenidas las asignaciones óptimas y su *fitness* mediante la función `algoritmo_munkres` continuamos con la visualización a través de un diagrama de Gantt. Definimos la función `visualizar_gantt_munkres`."
      ],
      "metadata": {
        "id": "HuAVvawS3Zwu"
      }
    },
    {
      "cell_type": "code",
      "source": [
        "# Función visualizar_gantt_munkres: diagrama de Gantt del algoritmo de Munkres\n",
        "def visualizar_gantt_munkres(df_ordenes, df_operaciones, asignaciones_munkres):\n",
        "    # Definimos la holgura en horas (previamente definido)\n",
        "    holgura_horas = holgura\n",
        "\n",
        "    # Creamos un dataframe vacío para almacenar las operaciones y definimos las columnas\n",
        "    df_gantt = pd.DataFrame(columns=['ID Orden', 'ID Operación', 'Operación', 'Recurso', 'Start', 'Finish'])\n",
        "\n",
        "    # Creamos otro para almacenar la holgura y definimos las columnas\n",
        "    df_holgura = pd.DataFrame(columns=['ID Orden', 'Operación', 'Start', 'Finish'])\n",
        "\n",
        "    # Iteramos sobre cada orden df_ordenes\n",
        "    for _, orden in df_ordenes.iterrows():\n",
        "        # Filtramos y ordenamos las operaciones asociadas a la orden actual, organizándolas por su ID\n",
        "        operaciones_ordenadas = df_operaciones[df_operaciones['ID Orden'] == orden['ID Orden']].sort_values(by='ID Operación')\n",
        "\n",
        "        # Obtenemos la fecha de inicio temprana de la orden\n",
        "        fecha_inicio = orden['Fecha Inicio Temprana']\n",
        "\n",
        "        # Iteramos sobre las operaciones de la orden (operaciones_ordenadas)\n",
        "        for _, op in operaciones_ordenadas.iterrows():\n",
        "            # Obtenemos el id y la descripción de la operación\n",
        "            id_operacion = op['ID Operación']\n",
        "            descripcion_operacion = op['Descripción Operación']\n",
        "\n",
        "            # Buscamos el recurso asignado a esta operación en la solución de Munkres\n",
        "            recurso = next((x[1] for x in asignaciones_munkres if x[0] == id_operacion), None)\n",
        "            # Si no encontramos la operación en las asignaciones pasamos la iteración\n",
        "            if recurso is None:\n",
        "                continue\n",
        "\n",
        "            # Calculamos la duración y el tiempo de setup de la operación\n",
        "            duracion = int(op['Duración'])\n",
        "            tiempo_setup = int(op['Tiempo Setup'])\n",
        "\n",
        "            # Calculamos el tiempo de inicio y fin de la operación\n",
        "            inicio = fecha_inicio\n",
        "            fin = inicio + timedelta(hours=duracion)\n",
        "\n",
        "            # Añadimos la operación al DataFrame de Gantt\n",
        "            df_gantt = pd.concat([df_gantt, pd.DataFrame({\n",
        "                'ID Orden': [orden['ID Orden']],\n",
        "                'ID Operación': [id_operacion],\n",
        "                'Operación': [descripcion_operacion],\n",
        "                'Recurso': [recurso],\n",
        "                'Inicio': [inicio],\n",
        "                'Fin': [fin]\n",
        "            })], ignore_index=True)\n",
        "\n",
        "            # Actualizamos la fecha de inicio para la siguiente operación, sumando el tiempo de setup\n",
        "            fecha_inicio = fin + timedelta(hours=tiempo_setup)\n",
        "\n",
        "        # Añadimos la holgura después de la última operación de la orden\n",
        "        ultima_fecha_fin = df_gantt[df_gantt['ID Orden'] == orden['ID Orden']]['Fin'].max()\n",
        "        holgura_inicio = ultima_fecha_fin\n",
        "        holgura_fin = holgura_inicio + timedelta(hours=holgura_horas)\n",
        "\n",
        "        # Añadimos la holgura a df_holgura\n",
        "        df_holgura = pd.concat([df_holgura, pd.DataFrame({\n",
        "            'ID Orden': [orden['ID Orden']],\n",
        "            'Operación': ['Holgura'],\n",
        "            'Inicio': [holgura_inicio],\n",
        "            'Fin': [holgura_fin]\n",
        "        })], ignore_index=True)\n",
        "\n",
        "    # Unimos df_holgura y df_gantt\n",
        "    df_gantt_completo = pd.concat([df_holgura, df_gantt], ignore_index=True)\n",
        "\n",
        "    # Creamos el diagrama de Gantt\n",
        "    fig = px.timeline(df_gantt_completo, x_start=\"Inicio\", x_end=\"Fin\", y=\"ID Orden\",\n",
        "                      text=df_gantt_completo['Operación'] + ' (ID: ' + df_gantt_completo['ID Operación'].astype(str) + ')',\n",
        "                      color=\"Operación\",\n",
        "                      color_discrete_sequence=px.colors.qualitative.Pastel,\n",
        "                      title=\"Planificación Gantt de Órdenes de Fabricación (Munkres)\")\n",
        "\n",
        "    # Ordenamos las categorías de manera ascendente y actualizamos las etiquetas de los ejes\n",
        "    fig.update_yaxes(categoryorder=\"total ascending\")\n",
        "    fig.update_layout(xaxis_title='Tiempo', yaxis_title='Orden', hovermode=\"closest\", showlegend=True)\n",
        "\n",
        "    # Personalizamos el color de la barra de holgura\n",
        "    fig.data[0].marker.color = 'gray'\n",
        "\n",
        "    # Devolvemos el gráfico\n",
        "    return fig\n"
      ],
      "metadata": {
        "id": "N_5DLSBc8cju"
      },
      "execution_count": 79,
      "outputs": []
    },
    {
      "cell_type": "code",
      "source": [
        "# Visualizamos el diagrama de Gantt\n",
        "visualizar_gantt_munkres(df_ordenes, df_operaciones, asignaciones_munkres)"
      ],
      "metadata": {
        "id": "6dLglshFX2lV",
        "colab": {
          "base_uri": "https://localhost:8080/",
          "height": 630
        },
        "outputId": "e09aacb5-b190-4f08-fd76-1179726a5ff8"
      },
      "execution_count": 80,
      "outputs": [
        {
          "output_type": "stream",
          "name": "stderr",
          "text": [
            "/usr/local/lib/python3.10/dist-packages/_plotly_utils/basevalidators.py:105: FutureWarning:\n",
            "\n",
            "The behavior of DatetimeProperties.to_pydatetime is deprecated, in a future version this will return a Series containing python datetime objects instead of an ndarray. To retain the old behavior, call `np.array` on the result\n",
            "\n"
          ]
        },
        {
          "output_type": "display_data",
          "data": {
            "text/html": [
              "<html>\n",
              "<head><meta charset=\"utf-8\" /></head>\n",
              "<body>\n",
              "    <div>            <script src=\"https://cdnjs.cloudflare.com/ajax/libs/mathjax/2.7.5/MathJax.js?config=TeX-AMS-MML_SVG\"></script><script type=\"text/javascript\">if (window.MathJax && window.MathJax.Hub && window.MathJax.Hub.Config) {window.MathJax.Hub.Config({SVG: {font: \"STIX-Web\"}});}</script>                <script type=\"text/javascript\">window.PlotlyConfig = {MathJaxConfig: 'local'};</script>\n",
              "        <script charset=\"utf-8\" src=\"https://cdn.plot.ly/plotly-2.24.1.min.js\"></script>                <div id=\"8c2717f6-2b17-4d46-9902-ee370f4175e3\" class=\"plotly-graph-div\" style=\"height:525px; width:100%;\"></div>            <script type=\"text/javascript\">                                    window.PLOTLYENV=window.PLOTLYENV || {};                                    if (document.getElementById(\"8c2717f6-2b17-4d46-9902-ee370f4175e3\")) {                    Plotly.newPlot(                        \"8c2717f6-2b17-4d46-9902-ee370f4175e3\",                        [{\"alignmentgroup\":\"True\",\"base\":[\"2024-08-28T21:00:00\",\"2024-08-29T22:00:00\",\"2024-09-02T11:00:00\"],\"hovertemplate\":\"Operaci\\u00f3n=Holgura\\u003cbr\\u003eInicio=%{base}\\u003cbr\\u003eFin=%{x}\\u003cbr\\u003eID Orden=%{y}\\u003cbr\\u003etext=%{text}\\u003cextra\\u003e\\u003c\\u002fextra\\u003e\",\"legendgroup\":\"Holgura\",\"marker\":{\"color\":\"gray\",\"pattern\":{\"shape\":\"\"}},\"name\":\"Holgura\",\"offsetgroup\":\"Holgura\",\"orientation\":\"h\",\"showlegend\":true,\"text\":[\"Holgura (ID: nan)\",\"Holgura (ID: nan)\",\"Holgura (ID: nan)\"],\"textposition\":\"auto\",\"x\":[10800000.0,10800000.0,10800000.0],\"xaxis\":\"x\",\"y\":[1,2,3],\"yaxis\":\"y\",\"type\":\"bar\"},{\"alignmentgroup\":\"True\",\"base\":[\"2024-08-24T17:00:00\",\"2024-08-25T06:00:00\",\"2024-08-30T18:00:00\"],\"hovertemplate\":\"Operaci\\u00f3n=Mecanizado bloque\\u003cbr\\u003eInicio=%{base}\\u003cbr\\u003eFin=%{x}\\u003cbr\\u003eID Orden=%{y}\\u003cbr\\u003etext=%{text}\\u003cextra\\u003e\\u003c\\u002fextra\\u003e\",\"legendgroup\":\"Mecanizado bloque\",\"marker\":{\"color\":\"rgb(246, 207, 113)\",\"pattern\":{\"shape\":\"\"}},\"name\":\"Mecanizado bloque\",\"offsetgroup\":\"Mecanizado bloque\",\"orientation\":\"h\",\"showlegend\":true,\"text\":[\"Mecanizado bloque (ID: 1)\",\"Mecanizado bloque (ID: 1)\",\"Mecanizado bloque (ID: 1)\"],\"textposition\":\"auto\",\"x\":[64800000.0,151200000.0,43200000.0],\"xaxis\":\"x\",\"y\":[1,2,3],\"yaxis\":\"y\",\"type\":\"bar\"},{\"alignmentgroup\":\"True\",\"base\":[\"2024-08-25T11:00:00\",\"2024-08-27T00:00:00\",\"2024-08-31T06:00:00\"],\"hovertemplate\":\"Operaci\\u00f3n=Montaje pistones\\u003cbr\\u003eInicio=%{base}\\u003cbr\\u003eFin=%{x}\\u003cbr\\u003eID Orden=%{y}\\u003cbr\\u003etext=%{text}\\u003cextra\\u003e\\u003c\\u002fextra\\u003e\",\"legendgroup\":\"Montaje pistones\",\"marker\":{\"color\":\"rgb(248, 156, 116)\",\"pattern\":{\"shape\":\"\"}},\"name\":\"Montaje pistones\",\"offsetgroup\":\"Montaje pistones\",\"orientation\":\"h\",\"showlegend\":true,\"text\":[\"Montaje pistones (ID: 2)\",\"Montaje pistones (ID: 2)\",\"Montaje pistones (ID: 2)\"],\"textposition\":\"auto\",\"x\":[140400000.0,216000000.0,90000000.0],\"xaxis\":\"x\",\"y\":[1,2,3],\"yaxis\":\"y\",\"type\":\"bar\"},{\"alignmentgroup\":\"True\",\"base\":[\"2024-08-27T02:00:00\",\"2024-08-29T12:00:00\",\"2024-09-01T07:00:00\"],\"hovertemplate\":\"Operaci\\u00f3n=Montaje cig\\u00fce\\u00f1al\\u003cbr\\u003eInicio=%{base}\\u003cbr\\u003eFin=%{x}\\u003cbr\\u003eID Orden=%{y}\\u003cbr\\u003etext=%{text}\\u003cextra\\u003e\\u003c\\u002fextra\\u003e\",\"legendgroup\":\"Montaje cig\\u00fce\\u00f1al\",\"marker\":{\"color\":\"rgb(220, 176, 242)\",\"pattern\":{\"shape\":\"\"}},\"name\":\"Montaje cig\\u00fce\\u00f1al\",\"offsetgroup\":\"Montaje cig\\u00fce\\u00f1al\",\"orientation\":\"h\",\"showlegend\":true,\"text\":[\"Montaje cig\\u00fce\\u00f1al (ID: 3)\",\"Montaje cig\\u00fce\\u00f1al (ID: 3)\",\"Montaje cig\\u00fce\\u00f1al (ID: 3)\"],\"textposition\":\"auto\",\"x\":[154800000.0,36000000.0,100800000.0],\"xaxis\":\"x\",\"y\":[1,2,3],\"yaxis\":\"y\",\"type\":\"bar\"}],                        {\"template\":{\"data\":{\"histogram2dcontour\":[{\"type\":\"histogram2dcontour\",\"colorbar\":{\"outlinewidth\":0,\"ticks\":\"\"},\"colorscale\":[[0.0,\"#0d0887\"],[0.1111111111111111,\"#46039f\"],[0.2222222222222222,\"#7201a8\"],[0.3333333333333333,\"#9c179e\"],[0.4444444444444444,\"#bd3786\"],[0.5555555555555556,\"#d8576b\"],[0.6666666666666666,\"#ed7953\"],[0.7777777777777778,\"#fb9f3a\"],[0.8888888888888888,\"#fdca26\"],[1.0,\"#f0f921\"]]}],\"choropleth\":[{\"type\":\"choropleth\",\"colorbar\":{\"outlinewidth\":0,\"ticks\":\"\"}}],\"histogram2d\":[{\"type\":\"histogram2d\",\"colorbar\":{\"outlinewidth\":0,\"ticks\":\"\"},\"colorscale\":[[0.0,\"#0d0887\"],[0.1111111111111111,\"#46039f\"],[0.2222222222222222,\"#7201a8\"],[0.3333333333333333,\"#9c179e\"],[0.4444444444444444,\"#bd3786\"],[0.5555555555555556,\"#d8576b\"],[0.6666666666666666,\"#ed7953\"],[0.7777777777777778,\"#fb9f3a\"],[0.8888888888888888,\"#fdca26\"],[1.0,\"#f0f921\"]]}],\"heatmap\":[{\"type\":\"heatmap\",\"colorbar\":{\"outlinewidth\":0,\"ticks\":\"\"},\"colorscale\":[[0.0,\"#0d0887\"],[0.1111111111111111,\"#46039f\"],[0.2222222222222222,\"#7201a8\"],[0.3333333333333333,\"#9c179e\"],[0.4444444444444444,\"#bd3786\"],[0.5555555555555556,\"#d8576b\"],[0.6666666666666666,\"#ed7953\"],[0.7777777777777778,\"#fb9f3a\"],[0.8888888888888888,\"#fdca26\"],[1.0,\"#f0f921\"]]}],\"heatmapgl\":[{\"type\":\"heatmapgl\",\"colorbar\":{\"outlinewidth\":0,\"ticks\":\"\"},\"colorscale\":[[0.0,\"#0d0887\"],[0.1111111111111111,\"#46039f\"],[0.2222222222222222,\"#7201a8\"],[0.3333333333333333,\"#9c179e\"],[0.4444444444444444,\"#bd3786\"],[0.5555555555555556,\"#d8576b\"],[0.6666666666666666,\"#ed7953\"],[0.7777777777777778,\"#fb9f3a\"],[0.8888888888888888,\"#fdca26\"],[1.0,\"#f0f921\"]]}],\"contourcarpet\":[{\"type\":\"contourcarpet\",\"colorbar\":{\"outlinewidth\":0,\"ticks\":\"\"}}],\"contour\":[{\"type\":\"contour\",\"colorbar\":{\"outlinewidth\":0,\"ticks\":\"\"},\"colorscale\":[[0.0,\"#0d0887\"],[0.1111111111111111,\"#46039f\"],[0.2222222222222222,\"#7201a8\"],[0.3333333333333333,\"#9c179e\"],[0.4444444444444444,\"#bd3786\"],[0.5555555555555556,\"#d8576b\"],[0.6666666666666666,\"#ed7953\"],[0.7777777777777778,\"#fb9f3a\"],[0.8888888888888888,\"#fdca26\"],[1.0,\"#f0f921\"]]}],\"surface\":[{\"type\":\"surface\",\"colorbar\":{\"outlinewidth\":0,\"ticks\":\"\"},\"colorscale\":[[0.0,\"#0d0887\"],[0.1111111111111111,\"#46039f\"],[0.2222222222222222,\"#7201a8\"],[0.3333333333333333,\"#9c179e\"],[0.4444444444444444,\"#bd3786\"],[0.5555555555555556,\"#d8576b\"],[0.6666666666666666,\"#ed7953\"],[0.7777777777777778,\"#fb9f3a\"],[0.8888888888888888,\"#fdca26\"],[1.0,\"#f0f921\"]]}],\"mesh3d\":[{\"type\":\"mesh3d\",\"colorbar\":{\"outlinewidth\":0,\"ticks\":\"\"}}],\"scatter\":[{\"fillpattern\":{\"fillmode\":\"overlay\",\"size\":10,\"solidity\":0.2},\"type\":\"scatter\"}],\"parcoords\":[{\"type\":\"parcoords\",\"line\":{\"colorbar\":{\"outlinewidth\":0,\"ticks\":\"\"}}}],\"scatterpolargl\":[{\"type\":\"scatterpolargl\",\"marker\":{\"colorbar\":{\"outlinewidth\":0,\"ticks\":\"\"}}}],\"bar\":[{\"error_x\":{\"color\":\"#2a3f5f\"},\"error_y\":{\"color\":\"#2a3f5f\"},\"marker\":{\"line\":{\"color\":\"#E5ECF6\",\"width\":0.5},\"pattern\":{\"fillmode\":\"overlay\",\"size\":10,\"solidity\":0.2}},\"type\":\"bar\"}],\"scattergeo\":[{\"type\":\"scattergeo\",\"marker\":{\"colorbar\":{\"outlinewidth\":0,\"ticks\":\"\"}}}],\"scatterpolar\":[{\"type\":\"scatterpolar\",\"marker\":{\"colorbar\":{\"outlinewidth\":0,\"ticks\":\"\"}}}],\"histogram\":[{\"marker\":{\"pattern\":{\"fillmode\":\"overlay\",\"size\":10,\"solidity\":0.2}},\"type\":\"histogram\"}],\"scattergl\":[{\"type\":\"scattergl\",\"marker\":{\"colorbar\":{\"outlinewidth\":0,\"ticks\":\"\"}}}],\"scatter3d\":[{\"type\":\"scatter3d\",\"line\":{\"colorbar\":{\"outlinewidth\":0,\"ticks\":\"\"}},\"marker\":{\"colorbar\":{\"outlinewidth\":0,\"ticks\":\"\"}}}],\"scattermapbox\":[{\"type\":\"scattermapbox\",\"marker\":{\"colorbar\":{\"outlinewidth\":0,\"ticks\":\"\"}}}],\"scatterternary\":[{\"type\":\"scatterternary\",\"marker\":{\"colorbar\":{\"outlinewidth\":0,\"ticks\":\"\"}}}],\"scattercarpet\":[{\"type\":\"scattercarpet\",\"marker\":{\"colorbar\":{\"outlinewidth\":0,\"ticks\":\"\"}}}],\"carpet\":[{\"aaxis\":{\"endlinecolor\":\"#2a3f5f\",\"gridcolor\":\"white\",\"linecolor\":\"white\",\"minorgridcolor\":\"white\",\"startlinecolor\":\"#2a3f5f\"},\"baxis\":{\"endlinecolor\":\"#2a3f5f\",\"gridcolor\":\"white\",\"linecolor\":\"white\",\"minorgridcolor\":\"white\",\"startlinecolor\":\"#2a3f5f\"},\"type\":\"carpet\"}],\"table\":[{\"cells\":{\"fill\":{\"color\":\"#EBF0F8\"},\"line\":{\"color\":\"white\"}},\"header\":{\"fill\":{\"color\":\"#C8D4E3\"},\"line\":{\"color\":\"white\"}},\"type\":\"table\"}],\"barpolar\":[{\"marker\":{\"line\":{\"color\":\"#E5ECF6\",\"width\":0.5},\"pattern\":{\"fillmode\":\"overlay\",\"size\":10,\"solidity\":0.2}},\"type\":\"barpolar\"}],\"pie\":[{\"automargin\":true,\"type\":\"pie\"}]},\"layout\":{\"autotypenumbers\":\"strict\",\"colorway\":[\"#636efa\",\"#EF553B\",\"#00cc96\",\"#ab63fa\",\"#FFA15A\",\"#19d3f3\",\"#FF6692\",\"#B6E880\",\"#FF97FF\",\"#FECB52\"],\"font\":{\"color\":\"#2a3f5f\"},\"hovermode\":\"closest\",\"hoverlabel\":{\"align\":\"left\"},\"paper_bgcolor\":\"white\",\"plot_bgcolor\":\"#E5ECF6\",\"polar\":{\"bgcolor\":\"#E5ECF6\",\"angularaxis\":{\"gridcolor\":\"white\",\"linecolor\":\"white\",\"ticks\":\"\"},\"radialaxis\":{\"gridcolor\":\"white\",\"linecolor\":\"white\",\"ticks\":\"\"}},\"ternary\":{\"bgcolor\":\"#E5ECF6\",\"aaxis\":{\"gridcolor\":\"white\",\"linecolor\":\"white\",\"ticks\":\"\"},\"baxis\":{\"gridcolor\":\"white\",\"linecolor\":\"white\",\"ticks\":\"\"},\"caxis\":{\"gridcolor\":\"white\",\"linecolor\":\"white\",\"ticks\":\"\"}},\"coloraxis\":{\"colorbar\":{\"outlinewidth\":0,\"ticks\":\"\"}},\"colorscale\":{\"sequential\":[[0.0,\"#0d0887\"],[0.1111111111111111,\"#46039f\"],[0.2222222222222222,\"#7201a8\"],[0.3333333333333333,\"#9c179e\"],[0.4444444444444444,\"#bd3786\"],[0.5555555555555556,\"#d8576b\"],[0.6666666666666666,\"#ed7953\"],[0.7777777777777778,\"#fb9f3a\"],[0.8888888888888888,\"#fdca26\"],[1.0,\"#f0f921\"]],\"sequentialminus\":[[0.0,\"#0d0887\"],[0.1111111111111111,\"#46039f\"],[0.2222222222222222,\"#7201a8\"],[0.3333333333333333,\"#9c179e\"],[0.4444444444444444,\"#bd3786\"],[0.5555555555555556,\"#d8576b\"],[0.6666666666666666,\"#ed7953\"],[0.7777777777777778,\"#fb9f3a\"],[0.8888888888888888,\"#fdca26\"],[1.0,\"#f0f921\"]],\"diverging\":[[0,\"#8e0152\"],[0.1,\"#c51b7d\"],[0.2,\"#de77ae\"],[0.3,\"#f1b6da\"],[0.4,\"#fde0ef\"],[0.5,\"#f7f7f7\"],[0.6,\"#e6f5d0\"],[0.7,\"#b8e186\"],[0.8,\"#7fbc41\"],[0.9,\"#4d9221\"],[1,\"#276419\"]]},\"xaxis\":{\"gridcolor\":\"white\",\"linecolor\":\"white\",\"ticks\":\"\",\"title\":{\"standoff\":15},\"zerolinecolor\":\"white\",\"automargin\":true,\"zerolinewidth\":2},\"yaxis\":{\"gridcolor\":\"white\",\"linecolor\":\"white\",\"ticks\":\"\",\"title\":{\"standoff\":15},\"zerolinecolor\":\"white\",\"automargin\":true,\"zerolinewidth\":2},\"scene\":{\"xaxis\":{\"backgroundcolor\":\"#E5ECF6\",\"gridcolor\":\"white\",\"linecolor\":\"white\",\"showbackground\":true,\"ticks\":\"\",\"zerolinecolor\":\"white\",\"gridwidth\":2},\"yaxis\":{\"backgroundcolor\":\"#E5ECF6\",\"gridcolor\":\"white\",\"linecolor\":\"white\",\"showbackground\":true,\"ticks\":\"\",\"zerolinecolor\":\"white\",\"gridwidth\":2},\"zaxis\":{\"backgroundcolor\":\"#E5ECF6\",\"gridcolor\":\"white\",\"linecolor\":\"white\",\"showbackground\":true,\"ticks\":\"\",\"zerolinecolor\":\"white\",\"gridwidth\":2}},\"shapedefaults\":{\"line\":{\"color\":\"#2a3f5f\"}},\"annotationdefaults\":{\"arrowcolor\":\"#2a3f5f\",\"arrowhead\":0,\"arrowwidth\":1},\"geo\":{\"bgcolor\":\"white\",\"landcolor\":\"#E5ECF6\",\"subunitcolor\":\"white\",\"showland\":true,\"showlakes\":true,\"lakecolor\":\"white\"},\"title\":{\"x\":0.05},\"mapbox\":{\"style\":\"light\"}}},\"xaxis\":{\"anchor\":\"y\",\"domain\":[0.0,1.0],\"type\":\"date\",\"title\":{\"text\":\"Tiempo\"}},\"yaxis\":{\"anchor\":\"x\",\"domain\":[0.0,1.0],\"title\":{\"text\":\"Orden\"},\"categoryorder\":\"total ascending\"},\"legend\":{\"title\":{\"text\":\"Operaci\\u00f3n\"},\"tracegroupgap\":0},\"title\":{\"text\":\"Planificaci\\u00f3n Gantt de \\u00d3rdenes de Fabricaci\\u00f3n (Munkres)\"},\"barmode\":\"overlay\",\"hovermode\":\"closest\",\"showlegend\":true},                        {\"responsive\": true}                    ).then(function(){\n",
              "                            \n",
              "var gd = document.getElementById('8c2717f6-2b17-4d46-9902-ee370f4175e3');\n",
              "var x = new MutationObserver(function (mutations, observer) {{\n",
              "        var display = window.getComputedStyle(gd).display;\n",
              "        if (!display || display === 'none') {{\n",
              "            console.log([gd, 'removed!']);\n",
              "            Plotly.purge(gd);\n",
              "            observer.disconnect();\n",
              "        }}\n",
              "}});\n",
              "\n",
              "// Listen for the removal of the full notebook cells\n",
              "var notebookContainer = gd.closest('#notebook-container');\n",
              "if (notebookContainer) {{\n",
              "    x.observe(notebookContainer, {childList: true});\n",
              "}}\n",
              "\n",
              "// Listen for the clearing of the current output cell\n",
              "var outputEl = gd.closest('.output');\n",
              "if (outputEl) {{\n",
              "    x.observe(outputEl, {childList: true});\n",
              "}}\n",
              "\n",
              "                        })                };                            </script>        </div>\n",
              "</body>\n",
              "</html>"
            ]
          },
          "metadata": {}
        }
      ]
    },
    {
      "cell_type": "markdown",
      "source": [
        "## Algoritmo genético"
      ],
      "metadata": {
        "id": "MzxP_myA--bp"
      }
    },
    {
      "cell_type": "markdown",
      "source": [
        "El **algoritmo genético** parte del proceso genético de los organismos y de cómo interaccionan entre ellos, lo que provoca cambios en sus características de generación a generación (Grefenstette, 1986). Es particularmente útil cuando se manejan grandes volúmenes de datos y la carga computacional es elevada, lo que hace muy costoso alcanzar una solución óptima exacta. Minimiza el tiempo de simulación y aporta una aproximación de lo que sería la mejor combinación proporcionando una aproximación eficiente y efectiva, ofreciendo resultados viables en tiempos razonables. Se ha optado por implementar este tipo de algoritmos ya que son robustos, pueden hacer frente a una gran variedad de tipos de problemas y trabajan con funciones no lineales de una manera eficiente.\n",
        "\n",
        "Pasos:\n",
        "* Función Fitness\n",
        "* Creación de un cromosoma aleatorio\n",
        "* Selección de los progenitores\n",
        "* Cruce de los progenitores\n",
        "* Mutación\n",
        "* Sustitución"
      ],
      "metadata": {
        "id": "HYjJY6We_ASn"
      }
    },
    {
      "cell_type": "markdown",
      "source": [
        "### 1. Creación cromosoma aleatorio"
      ],
      "metadata": {
        "id": "bQo4EXdf_ua3"
      }
    },
    {
      "cell_type": "markdown",
      "source": [
        "Con la función `crear_cromosoma` creamos un cromosoma (lista de asignaciones de recursos a operaciones) de manera aleatoria. Cada asignación está representada por una tupla que contiene el ID de la orden, el ID de la operación y el ID del recurso asignado. La función itera sobre todas las operaciones y asigna un recurso aleatorio a cada una."
      ],
      "metadata": {
        "id": "E5CYb_OLCSii"
      }
    },
    {
      "cell_type": "code",
      "source": [
        "# Función crear_cromosoma: crea un cromosoma aleatorio\n",
        "def crear_cromosoma(operaciones, recursos):\n",
        "    # Inicializamos una lista vacía para almacenar el cromosoma\n",
        "    cromosoma = []\n",
        "\n",
        "    # Iteramos sobre cada operación en operaciones\n",
        "    for _, operacion in operaciones.iterrows():\n",
        "        # Obtenemos el ID de la orden y el ID de la operación\n",
        "        id_orden = operacion['ID Orden']\n",
        "        id_operacion = operacion['ID Operación']\n",
        "\n",
        "        # Seleccionamos aleatoriamente un ID de recurso de la lista de recursos disponibles\n",
        "        id_recurso = random.choice(recursos['ID Recurso'].values)\n",
        "\n",
        "        # Añadimos una tupla (ID de la orden, ID de la operación, ID del recurso) al cromosoma\n",
        "        cromosoma.append((id_orden, id_operacion, id_recurso))\n",
        "\n",
        "    # Devolvemos el cromosoma generado\n",
        "    return cromosoma"
      ],
      "metadata": {
        "id": "NJu0U2WM_uF6"
      },
      "execution_count": 81,
      "outputs": []
    },
    {
      "cell_type": "markdown",
      "source": [
        "### 2. Selección"
      ],
      "metadata": {
        "id": "gGlybwJt_1Pd"
      }
    },
    {
      "cell_type": "markdown",
      "source": [
        "Con la función `seleccionar_padres` realizamos la selección de los progenitores del algoritmo genético y hemos decidido utilizar el método de selección por torneo, que selecciona varios aspirantes al azar de la población y elige el mejor (el de mayor fitness) como padre. Repetimos este proceso hasta obtener una lista de padres seleccionados del mismo tamaño que la población original."
      ],
      "metadata": {
        "id": "LG8Lb5RYC_hb"
      }
    },
    {
      "cell_type": "code",
      "source": [
        "# Función seleccionar_padres: selecciona padres mediante el método de selección torneo\n",
        "def seleccionar_padres(poblacion, fitness_poblacion, k=3):\n",
        "    # Inicializamos una lista vacía para almacenar los padres seleccionados\n",
        "    seleccionados = []\n",
        "\n",
        "    # Repetimos el proceso de selección hasta obtener el mismo número de padres que la población original\n",
        "    for _ in range(len(poblacion)):\n",
        "        # Seleccionamos k aspirantes al azar de la población junto con sus valores de fitness\n",
        "        aspirantes = random.sample(list(zip(poblacion, fitness_poblacion)), k)\n",
        "\n",
        "        # De los aspirantes seleccionados, elegimos el que tenga el mayor valor de fitness\n",
        "        mejor_aspirante = max(aspirantes, key=lambda x: x[1])[0]\n",
        "\n",
        "        # Añadimos el mejor aspirante (el cromosoma) a la lista de seleccionados\n",
        "        seleccionados.append(mejor_aspirante)\n",
        "\n",
        "    # Devolvemos la lista de padres seleccionados\n",
        "    return seleccionados"
      ],
      "metadata": {
        "id": "nog-rjIw_8cZ"
      },
      "execution_count": 82,
      "outputs": []
    },
    {
      "cell_type": "markdown",
      "source": [
        "### 3. Cruce"
      ],
      "metadata": {
        "id": "bjvhFH1YABYG"
      }
    },
    {
      "cell_type": "markdown",
      "source": [
        "Con la función `cruzar` realizamos el cruce de dos cromosomas (padre1 y padre2) para generar otros dos nuevos (hijo1 y hijo2). Se realiza para combinar la información genética de los padres y así crear descendencia que tenga características de ambos."
      ],
      "metadata": {
        "id": "jTuWHXNLDtaF"
      }
    },
    {
      "cell_type": "code",
      "source": [
        "# Función cruzar: cruza para generar dos hijos a partir de dos padres\n",
        "def cruzar(padre1, padre2):\n",
        "    # Seleccionamos un punto de cruce al azar (evitando los extremos)\n",
        "    punto = random.randint(1, len(padre1) - 2)\n",
        "\n",
        "    # Generamos el primer hijo combinando la primera parte del padre1 con la segunda parte del padre2\n",
        "    hijo1 = padre1[:punto] + padre2[punto:]\n",
        "\n",
        "    # Generamos el segundo hijo combinando la primera parte del padre2 con la segunda parte del padre1\n",
        "    hijo2 = padre2[:punto] + padre1[punto:]\n",
        "\n",
        "    # Devolvemos los dos hijos generados\n",
        "    return hijo1, hijo2"
      ],
      "metadata": {
        "id": "7QEmAKhqADet"
      },
      "execution_count": 83,
      "outputs": []
    },
    {
      "cell_type": "markdown",
      "source": [
        "### 4. Mutación"
      ],
      "metadata": {
        "id": "3XDcN1-QAEj9"
      }
    },
    {
      "cell_type": "markdown",
      "source": [
        "Con la función `mutar` introducimos mutaciones en un cromosoma basado en una tasa de mutación especificada. Esto se realiza con el objetivo de mantener la diversidad genética en la población, lo que ayuda a evitar el estancamiento en óptimos locales."
      ],
      "metadata": {
        "id": "w59VrctjECSF"
      }
    },
    {
      "cell_type": "code",
      "source": [
        "# Función mutar: muta para alterar un cromosoma\n",
        "def mutar(cromosoma, recursos, tasa_mutacion=0.1):\n",
        "    # Iteramos sobre cada gen (tarea) en el cromosoma\n",
        "    for i in range(len(cromosoma)):\n",
        "        # Generamos un número aleatorio y comparamos con la tasa de mutación\n",
        "        if random.random() < tasa_mutacion:\n",
        "            # Si se cumple la condición de mutación, obtenemos los IDs de orden y operación\n",
        "            id_orden, id_operacion, _ = cromosoma[i]\n",
        "            # Seleccionamos aleatoriamente un nuevo ID de recurso de la lista de recursos disponibles\n",
        "            id_recurso = random.choice(recursos['ID Recurso'].values)\n",
        "            # Actualizamos el cromosoma con el nuevo recurso asignado\n",
        "            cromosoma[i] = (id_orden, id_operacion, id_recurso)\n",
        "\n",
        "    # Devolvemos el cromosoma mutado\n",
        "    return cromosoma"
      ],
      "metadata": {
        "id": "q1Wi-rw9AJIs"
      },
      "execution_count": 84,
      "outputs": []
    },
    {
      "cell_type": "markdown",
      "source": [
        "### 5. Algoritmo genético"
      ],
      "metadata": {
        "id": "IJ1h3tYzAKV0"
      }
    },
    {
      "cell_type": "markdown",
      "source": [
        "Con la función `algoritmo_genetico` implementamos la búsqueda de la mejor asignación de recursos a operaciones para minimizar el tiempo total de operación con la función de fitness. El proceso incluye los pasos mencionados anteriormente: inicialización de una población de soluciones, evaluación de su calidad, y evolución de esta población a través de selección, cruce y mutación."
      ],
      "metadata": {
        "id": "cNTfTFIsEgSj"
      }
    },
    {
      "cell_type": "code",
      "source": [
        "# Función algoritmo_genetico: implementa todas las funciones del algoritmo\n",
        "def algoritmo_genetico(operaciones, recursos, tam_poblacion=100, num_generaciones=50, tasa_cruce=0.7,\n",
        "                       tasa_mutacion=0.1):\n",
        "\n",
        "    # Inicialización de la población\n",
        "    # Creamos una población inicial de cromosomas aleatorios\n",
        "    poblacion = [crear_cromosoma(operaciones, recursos) for _ in range(tam_poblacion)]\n",
        "\n",
        "    # Iteramos a través de un número fijo de generaciones\n",
        "    for generacion in range(num_generaciones):\n",
        "        # Evaluar población\n",
        "        # Calculamos el fitness de cada cromosoma en la población\n",
        "        fitness_poblacion = [evaluar_fitness(cromosoma, operaciones, recursos) for cromosoma in poblacion]\n",
        "\n",
        "        # Selección\n",
        "        # Seleccionamos los padres utilizando el método de selección por torneo\n",
        "        padres = seleccionar_padres(poblacion, fitness_poblacion)\n",
        "\n",
        "        # Cruce\n",
        "        # Generamos una nueva población a través del cruce de los padres seleccionados\n",
        "        nueva_poblacion = []\n",
        "        while len(nueva_poblacion) < tam_poblacion:\n",
        "            if random.random() < tasa_cruce:\n",
        "                # Seleccionamos dos padres al azar y aplicamos el cruce\n",
        "                padre1 = random.choice(padres)\n",
        "                padre2 = random.choice(padres)\n",
        "                hijo1, hijo2 = cruzar(padre1, padre2)\n",
        "                nueva_poblacion.append(hijo1)\n",
        "                nueva_poblacion.append(hijo2)\n",
        "            else:\n",
        "                # Si no se realiza cruce, seleccionamos un padre aleatorio para la nueva población\n",
        "                nueva_poblacion.append(random.choice(padres))\n",
        "\n",
        "        # Mutación\n",
        "        # Aplicamos mutaciones a la nueva población con una cierta probabilidad\n",
        "        nueva_poblacion = [mutar(cromosoma, recursos, tasa_mutacion) for cromosoma in nueva_poblacion]\n",
        "\n",
        "        # Sustitución\n",
        "        # La nueva población reemplaza a la antigua\n",
        "        poblacion = nueva_poblacion\n",
        "\n",
        "    # Seleccionar mejor solución\n",
        "    # Evaluamos el fitness de la población final para encontrar la mejor solución\n",
        "    fitness_poblacion = [evaluar_fitness(cromosoma, operaciones, recursos) for cromosoma in poblacion]\n",
        "    mejor_solucion = poblacion[np.argmax(fitness_poblacion)]\n",
        "    mejor_fitness = max(fitness_poblacion)\n",
        "\n",
        "    # Devolvemos la mejor solución encontrada y su valor de fitness\n",
        "    return mejor_solucion, mejor_fitness"
      ],
      "metadata": {
        "id": "HlajjU5uAN0f"
      },
      "execution_count": 85,
      "outputs": []
    },
    {
      "cell_type": "code",
      "source": [
        "# Ejecutar el algoritmo genético\n",
        "asignaciones_genetico, fitness_genetico = algoritmo_genetico(df_operaciones, df_recursos)"
      ],
      "metadata": {
        "id": "hR02iSevkSd-"
      },
      "execution_count": 86,
      "outputs": []
    },
    {
      "cell_type": "markdown",
      "source": [
        "### 6. Fitness algoritmo genético"
      ],
      "metadata": {
        "id": "AUKO9AYRdfhm"
      }
    },
    {
      "cell_type": "code",
      "source": [
        "# Mostramos las asignaciones del algoritmo genético\n",
        "print(\"Asignaciones algoritmo genético:\", asignaciones_genetico)\n",
        "# Y el fitness\n",
        "print(\"Fitness algoritmo genético:\", fitness_genetico)"
      ],
      "metadata": {
        "colab": {
          "base_uri": "https://localhost:8080/"
        },
        "id": "G29uiY7AAh2c",
        "outputId": "342b7c0e-0b26-4bab-f6f6-e74f61e43054"
      },
      "execution_count": 93,
      "outputs": [
        {
          "output_type": "stream",
          "name": "stdout",
          "text": [
            "Asignaciones algoritmo genético: [(1, 0, 1), (1, 1, 3), (1, 2, 3), (1, 3, 2), (1, 4, 2), (1, 5, 5), (2, 0, 6), (2, 1, 5), (2, 2, 4), (2, 3, 2), (2, 4, 1), (2, 5, 6), (3, 0, 4), (3, 1, 4), (3, 2, 2), (3, 3, 3), (3, 4, 2), (3, 5, 5)]\n",
            "Fitness algoritmo genético: 0.007633587786259542\n"
          ]
        }
      ]
    },
    {
      "cell_type": "markdown",
      "source": [
        "### 7. Visualización diagrama Gantt"
      ],
      "metadata": {
        "id": "8g38JfLbATcr"
      }
    },
    {
      "cell_type": "markdown",
      "source": [
        "Visualizamos el diagrama de Gantt para el algoritmo genético."
      ],
      "metadata": {
        "id": "8xMePqG4Vgrt"
      }
    },
    {
      "cell_type": "code",
      "source": [
        "# Función visualizar_gantt_genetico: diagrama de Gantt del algoritmo genetico\n",
        "def visualizar_gantt_genetico(df_ordenes, df_operaciones, asignaciones_genetico):\n",
        "    # Asignamos a la variable holgura_horas el valor de la holgura\n",
        "    holgura_horas = holgura\n",
        "\n",
        "    # Creamos un dataframe vacío para almacenar las operaciones y definimos las columnas\n",
        "    df_gantt = pd.DataFrame(columns=['ID Orden', 'ID Operación', 'Operación', 'Recurso', 'Inicio', 'Fin'])\n",
        "\n",
        "    # Creamos otro dataframe vacío para almacenar la holgura y definimos las columnas\n",
        "    df_holgura = pd.DataFrame(columns=['ID Orden', 'Operación', 'Inicio', 'Fin'])\n",
        "\n",
        "    # Iteramos sobre cada orden en df_ordenes\n",
        "    for _, orden in df_ordenes.iterrows():\n",
        "        # Filtramos y ordenamos las operaciones asociadas a la orden, por su ID de operación\n",
        "        operaciones_ordenadas = df_operaciones[df_operaciones['ID Orden'] == orden['ID Orden']].sort_values(by='ID Operación')\n",
        "\n",
        "        # Obtenemos la fecha de inicio temprana\n",
        "        fecha_inicio = orden['Fecha Inicio Temprana']\n",
        "\n",
        "        # Iteramos sobre las operaciones en operaciones_ordenadas\n",
        "        for _, operacion in operaciones_ordenadas.iterrows():\n",
        "            id_operacion = operacion['ID Operación']\n",
        "            descripcion_operacion = operacion['Descripción Operación']\n",
        "\n",
        "            # Buscamos el recurso en las asignaciones\n",
        "            recurso = next((x for x in asignaciones_genetico if x[0] == orden['ID Orden'] and x[1] == id_operacion), None)\n",
        "            # Si no encontramos la operación en la mejor solución pasamos\n",
        "            if recurso is None:\n",
        "                continue\n",
        "\n",
        "            # Calculamos la duración y el tiempo de setup\n",
        "            duracion = int(operacion['Duración'])\n",
        "            tiempo_setup = int(operacion['Tiempo Setup'])\n",
        "\n",
        "            # Calculamos el inicio y fin de cada operación\n",
        "            inicio = fecha_inicio\n",
        "            fin = inicio + timedelta(hours=duracion)\n",
        "\n",
        "            # Añadimos la operación a df_gantt\n",
        "            df_gantt = pd.concat([df_gantt, pd.DataFrame({\n",
        "                'ID Orden': [orden['ID Orden']],\n",
        "                'ID Operación': [id_operacion],\n",
        "                'Operación': [descripcion_operacion],\n",
        "                'Recurso': [operacion['Descripción Recurso']],\n",
        "                'Inicio': [inicio],\n",
        "                'Fin': [fin]\n",
        "            })], ignore_index=True)\n",
        "\n",
        "            # Actualizamod la fecha de inicio\n",
        "            fecha_inicio = fin + timedelta(hours=tiempo_setup)\n",
        "\n",
        "        # Añadimos la holgura después de la última operación\n",
        "        ultima_fecha_fin = df_gantt[df_gantt['ID Orden'] == orden['ID Orden']]['Fin'].max()\n",
        "        holgura_inicio = ultima_fecha_fin\n",
        "        holgura_fin = holgura_inicio + timedelta(hours=holgura_horas)\n",
        "\n",
        "        # Añadimos la holgura a df_holgura\n",
        "        df_holgura = pd.concat([df_holgura, pd.DataFrame({\n",
        "            'ID Orden': [orden['ID Orden']],\n",
        "            'Operación': ['Holgura'],\n",
        "            'Inicio': [holgura_inicio],\n",
        "            'Fin': [holgura_fin]\n",
        "        })], ignore_index=True)\n",
        "\n",
        "    # Unimos df_holgura y df_gantt\n",
        "    df_gantt_completo = pd.concat([df_holgura, df_gantt], ignore_index=True)\n",
        "\n",
        "    # Creamos el Gantt\n",
        "    fig = px.timeline(df_gantt_completo, x_start=\"Inicio\", x_end=\"Fin\", y=\"ID Orden\",\n",
        "                      text=df_gantt_completo['Operación'] + ' (ID: ' + df_gantt_completo['ID Operación'].astype(str) + ')',\n",
        "                      color=\"Operación\",\n",
        "                      color_discrete_sequence=px.colors.qualitative.Pastel,\n",
        "                      title=\"Planificación Gantt de Órdenes de Fabricación (Genético)\")\n",
        "\n",
        "    # Ordenamos las categorías de manera ascendente y actualizamos las etiquetas de los ejes\n",
        "    fig.update_yaxes(categoryorder=\"total ascending\")\n",
        "    fig.update_layout(xaxis_title='Tiempo', yaxis_title='Orden', hovermode=\"closest\", showlegend=True)\n",
        "\n",
        "    # Personalizamos el color de la barra de holgura\n",
        "    fig.data[0].marker.color = 'gray'\n",
        "\n",
        "    # Devolvemos el gráfico\n",
        "    return fig\n"
      ],
      "metadata": {
        "id": "2gkrpYwDGHgV"
      },
      "execution_count": 88,
      "outputs": []
    },
    {
      "cell_type": "code",
      "source": [
        "# Visualizamos el diagrama de Gantt con la mejor solución\n",
        "visualizar_gantt_genetico(df_ordenes, df_operaciones, asignaciones_genetico)"
      ],
      "metadata": {
        "colab": {
          "base_uri": "https://localhost:8080/",
          "height": 766
        },
        "id": "B35sgDIpAcEJ",
        "outputId": "5eb35f9a-ba42-4f59-9f40-2705f3ca8ada"
      },
      "execution_count": 89,
      "outputs": [
        {
          "output_type": "stream",
          "name": "stderr",
          "text": [
            "<ipython-input-88-af88222224df>:40: FutureWarning:\n",
            "\n",
            "The behavior of DataFrame concatenation with empty or all-NA entries is deprecated. In a future version, this will no longer exclude empty or all-NA columns when determining the result dtypes. To retain the old behavior, exclude the relevant entries before the concat operation.\n",
            "\n",
            "<ipython-input-88-af88222224df>:58: FutureWarning:\n",
            "\n",
            "The behavior of DataFrame concatenation with empty or all-NA entries is deprecated. In a future version, this will no longer exclude empty or all-NA columns when determining the result dtypes. To retain the old behavior, exclude the relevant entries before the concat operation.\n",
            "\n",
            "/usr/local/lib/python3.10/dist-packages/_plotly_utils/basevalidators.py:105: FutureWarning:\n",
            "\n",
            "The behavior of DatetimeProperties.to_pydatetime is deprecated, in a future version this will return a Series containing python datetime objects instead of an ndarray. To retain the old behavior, call `np.array` on the result\n",
            "\n"
          ]
        },
        {
          "output_type": "display_data",
          "data": {
            "text/html": [
              "<html>\n",
              "<head><meta charset=\"utf-8\" /></head>\n",
              "<body>\n",
              "    <div>            <script src=\"https://cdnjs.cloudflare.com/ajax/libs/mathjax/2.7.5/MathJax.js?config=TeX-AMS-MML_SVG\"></script><script type=\"text/javascript\">if (window.MathJax && window.MathJax.Hub && window.MathJax.Hub.Config) {window.MathJax.Hub.Config({SVG: {font: \"STIX-Web\"}});}</script>                <script type=\"text/javascript\">window.PlotlyConfig = {MathJaxConfig: 'local'};</script>\n",
              "        <script charset=\"utf-8\" src=\"https://cdn.plot.ly/plotly-2.24.1.min.js\"></script>                <div id=\"bee9bc66-9b24-49b4-aa41-ef8c923b89b9\" class=\"plotly-graph-div\" style=\"height:525px; width:100%;\"></div>            <script type=\"text/javascript\">                                    window.PLOTLYENV=window.PLOTLYENV || {};                                    if (document.getElementById(\"bee9bc66-9b24-49b4-aa41-ef8c923b89b9\")) {                    Plotly.newPlot(                        \"bee9bc66-9b24-49b4-aa41-ef8c923b89b9\",                        [{\"alignmentgroup\":\"True\",\"base\":[\"2024-09-02T06:00:00\",\"2024-09-05T10:00:00\",\"2024-09-07T15:00:00\"],\"hovertemplate\":\"Operaci\\u00f3n=Holgura\\u003cbr\\u003eInicio=%{base}\\u003cbr\\u003eFin=%{x}\\u003cbr\\u003eID Orden=%{y}\\u003cbr\\u003etext=%{text}\\u003cextra\\u003e\\u003c\\u002fextra\\u003e\",\"legendgroup\":\"Holgura\",\"marker\":{\"color\":\"gray\",\"pattern\":{\"shape\":\"\"}},\"name\":\"Holgura\",\"offsetgroup\":\"Holgura\",\"orientation\":\"h\",\"showlegend\":true,\"text\":[\"Holgura (ID: nan)\",\"Holgura (ID: nan)\",\"Holgura (ID: nan)\"],\"textposition\":\"auto\",\"x\":[10800000.0,10800000.0,10800000.0],\"xaxis\":\"x\",\"y\":[1,2,3],\"yaxis\":\"y\",\"type\":\"bar\"},{\"alignmentgroup\":\"True\",\"base\":[\"2024-08-24T17:00:00\",\"2024-08-25T06:00:00\",\"2024-08-30T18:00:00\"],\"hovertemplate\":\"Operaci\\u00f3n=Mecanizado base\\u003cbr\\u003eInicio=%{base}\\u003cbr\\u003eFin=%{x}\\u003cbr\\u003eID Orden=%{y}\\u003cbr\\u003etext=%{text}\\u003cextra\\u003e\\u003c\\u002fextra\\u003e\",\"legendgroup\":\"Mecanizado base\",\"marker\":{\"color\":\"rgb(246, 207, 113)\",\"pattern\":{\"shape\":\"\"}},\"name\":\"Mecanizado base\",\"offsetgroup\":\"Mecanizado base\",\"orientation\":\"h\",\"showlegend\":true,\"text\":[\"Mecanizado base (ID: 0)\",\"Mecanizado base (ID: 0)\",\"Mecanizado base (ID: 0)\"],\"textposition\":\"auto\",\"x\":[190800000.0,223200000.0,187200000.0],\"xaxis\":\"x\",\"y\":[1,2,3],\"yaxis\":\"y\",\"type\":\"bar\"},{\"alignmentgroup\":\"True\",\"base\":[\"2024-08-26T22:00:00\",\"2024-08-27T20:00:00\",\"2024-09-01T22:00:00\"],\"hovertemplate\":\"Operaci\\u00f3n=Mecanizado bloque\\u003cbr\\u003eInicio=%{base}\\u003cbr\\u003eFin=%{x}\\u003cbr\\u003eID Orden=%{y}\\u003cbr\\u003etext=%{text}\\u003cextra\\u003e\\u003c\\u002fextra\\u003e\",\"legendgroup\":\"Mecanizado bloque\",\"marker\":{\"color\":\"rgb(248, 156, 116)\",\"pattern\":{\"shape\":\"\"}},\"name\":\"Mecanizado bloque\",\"offsetgroup\":\"Mecanizado bloque\",\"orientation\":\"h\",\"showlegend\":true,\"text\":[\"Mecanizado bloque (ID: 1)\",\"Mecanizado bloque (ID: 1)\",\"Mecanizado bloque (ID: 1)\"],\"textposition\":\"auto\",\"x\":[64800000.0,151200000.0,43200000.0],\"xaxis\":\"x\",\"y\":[1,2,3],\"yaxis\":\"y\",\"type\":\"bar\"},{\"alignmentgroup\":\"True\",\"base\":[\"2024-08-27T16:00:00\",\"2024-08-29T14:00:00\",\"2024-09-02T10:00:00\"],\"hovertemplate\":\"Operaci\\u00f3n=Montaje pistones\\u003cbr\\u003eInicio=%{base}\\u003cbr\\u003eFin=%{x}\\u003cbr\\u003eID Orden=%{y}\\u003cbr\\u003etext=%{text}\\u003cextra\\u003e\\u003c\\u002fextra\\u003e\",\"legendgroup\":\"Montaje pistones\",\"marker\":{\"color\":\"rgb(220, 176, 242)\",\"pattern\":{\"shape\":\"\"}},\"name\":\"Montaje pistones\",\"offsetgroup\":\"Montaje pistones\",\"orientation\":\"h\",\"showlegend\":true,\"text\":[\"Montaje pistones (ID: 2)\",\"Montaje pistones (ID: 2)\",\"Montaje pistones (ID: 2)\"],\"textposition\":\"auto\",\"x\":[140400000.0,216000000.0,90000000.0],\"xaxis\":\"x\",\"y\":[1,2,3],\"yaxis\":\"y\",\"type\":\"bar\"},{\"alignmentgroup\":\"True\",\"base\":[\"2024-08-29T07:00:00\",\"2024-09-01T02:00:00\",\"2024-09-03T11:00:00\"],\"hovertemplate\":\"Operaci\\u00f3n=Montaje cig\\u00fce\\u00f1al\\u003cbr\\u003eInicio=%{base}\\u003cbr\\u003eFin=%{x}\\u003cbr\\u003eID Orden=%{y}\\u003cbr\\u003etext=%{text}\\u003cextra\\u003e\\u003c\\u002fextra\\u003e\",\"legendgroup\":\"Montaje cig\\u00fce\\u00f1al\",\"marker\":{\"color\":\"rgb(135, 197, 95)\",\"pattern\":{\"shape\":\"\"}},\"name\":\"Montaje cig\\u00fce\\u00f1al\",\"offsetgroup\":\"Montaje cig\\u00fce\\u00f1al\",\"orientation\":\"h\",\"showlegend\":true,\"text\":[\"Montaje cig\\u00fce\\u00f1al (ID: 3)\",\"Montaje cig\\u00fce\\u00f1al (ID: 3)\",\"Montaje cig\\u00fce\\u00f1al (ID: 3)\"],\"textposition\":\"auto\",\"x\":[154800000.0,36000000.0,100800000.0],\"xaxis\":\"x\",\"y\":[1,2,3],\"yaxis\":\"y\",\"type\":\"bar\"},{\"alignmentgroup\":\"True\",\"base\":[\"2024-08-31T02:00:00\",\"2024-09-01T12:00:00\",\"2024-09-04T15:00:00\"],\"hovertemplate\":\"Operaci\\u00f3n=Ensamblaje motor\\u003cbr\\u003eInicio=%{base}\\u003cbr\\u003eFin=%{x}\\u003cbr\\u003eID Orden=%{y}\\u003cbr\\u003etext=%{text}\\u003cextra\\u003e\\u003c\\u002fextra\\u003e\",\"legendgroup\":\"Ensamblaje motor\",\"marker\":{\"color\":\"rgb(158, 185, 243)\",\"pattern\":{\"shape\":\"\"}},\"name\":\"Ensamblaje motor\",\"offsetgroup\":\"Ensamblaje motor\",\"orientation\":\"h\",\"showlegend\":true,\"text\":[\"Ensamblaje motor (ID: 4)\",\"Ensamblaje motor (ID: 4)\",\"Ensamblaje motor (ID: 4)\"],\"textposition\":\"auto\",\"x\":[93600000.0,223200000.0,32400000.0],\"xaxis\":\"x\",\"y\":[1,2,3],\"yaxis\":\"y\",\"type\":\"bar\"},{\"alignmentgroup\":\"True\",\"base\":[\"2024-09-01T04:00:00\",\"2024-09-04T02:00:00\",\"2024-09-05T00:00:00\"],\"hovertemplate\":\"Operaci\\u00f3n=Pruebas finales\\u003cbr\\u003eInicio=%{base}\\u003cbr\\u003eFin=%{x}\\u003cbr\\u003eID Orden=%{y}\\u003cbr\\u003etext=%{text}\\u003cextra\\u003e\\u003c\\u002fextra\\u003e\",\"legendgroup\":\"Pruebas finales\",\"marker\":{\"color\":\"rgb(254, 136, 177)\",\"pattern\":{\"shape\":\"\"}},\"name\":\"Pruebas finales\",\"offsetgroup\":\"Pruebas finales\",\"orientation\":\"h\",\"showlegend\":true,\"text\":[\"Pruebas finales (ID: 5)\",\"Pruebas finales (ID: 5)\",\"Pruebas finales (ID: 5)\"],\"textposition\":\"auto\",\"x\":[93600000.0,115200000.0,226800000.0],\"xaxis\":\"x\",\"y\":[1,2,3],\"yaxis\":\"y\",\"type\":\"bar\"}],                        {\"template\":{\"data\":{\"histogram2dcontour\":[{\"type\":\"histogram2dcontour\",\"colorbar\":{\"outlinewidth\":0,\"ticks\":\"\"},\"colorscale\":[[0.0,\"#0d0887\"],[0.1111111111111111,\"#46039f\"],[0.2222222222222222,\"#7201a8\"],[0.3333333333333333,\"#9c179e\"],[0.4444444444444444,\"#bd3786\"],[0.5555555555555556,\"#d8576b\"],[0.6666666666666666,\"#ed7953\"],[0.7777777777777778,\"#fb9f3a\"],[0.8888888888888888,\"#fdca26\"],[1.0,\"#f0f921\"]]}],\"choropleth\":[{\"type\":\"choropleth\",\"colorbar\":{\"outlinewidth\":0,\"ticks\":\"\"}}],\"histogram2d\":[{\"type\":\"histogram2d\",\"colorbar\":{\"outlinewidth\":0,\"ticks\":\"\"},\"colorscale\":[[0.0,\"#0d0887\"],[0.1111111111111111,\"#46039f\"],[0.2222222222222222,\"#7201a8\"],[0.3333333333333333,\"#9c179e\"],[0.4444444444444444,\"#bd3786\"],[0.5555555555555556,\"#d8576b\"],[0.6666666666666666,\"#ed7953\"],[0.7777777777777778,\"#fb9f3a\"],[0.8888888888888888,\"#fdca26\"],[1.0,\"#f0f921\"]]}],\"heatmap\":[{\"type\":\"heatmap\",\"colorbar\":{\"outlinewidth\":0,\"ticks\":\"\"},\"colorscale\":[[0.0,\"#0d0887\"],[0.1111111111111111,\"#46039f\"],[0.2222222222222222,\"#7201a8\"],[0.3333333333333333,\"#9c179e\"],[0.4444444444444444,\"#bd3786\"],[0.5555555555555556,\"#d8576b\"],[0.6666666666666666,\"#ed7953\"],[0.7777777777777778,\"#fb9f3a\"],[0.8888888888888888,\"#fdca26\"],[1.0,\"#f0f921\"]]}],\"heatmapgl\":[{\"type\":\"heatmapgl\",\"colorbar\":{\"outlinewidth\":0,\"ticks\":\"\"},\"colorscale\":[[0.0,\"#0d0887\"],[0.1111111111111111,\"#46039f\"],[0.2222222222222222,\"#7201a8\"],[0.3333333333333333,\"#9c179e\"],[0.4444444444444444,\"#bd3786\"],[0.5555555555555556,\"#d8576b\"],[0.6666666666666666,\"#ed7953\"],[0.7777777777777778,\"#fb9f3a\"],[0.8888888888888888,\"#fdca26\"],[1.0,\"#f0f921\"]]}],\"contourcarpet\":[{\"type\":\"contourcarpet\",\"colorbar\":{\"outlinewidth\":0,\"ticks\":\"\"}}],\"contour\":[{\"type\":\"contour\",\"colorbar\":{\"outlinewidth\":0,\"ticks\":\"\"},\"colorscale\":[[0.0,\"#0d0887\"],[0.1111111111111111,\"#46039f\"],[0.2222222222222222,\"#7201a8\"],[0.3333333333333333,\"#9c179e\"],[0.4444444444444444,\"#bd3786\"],[0.5555555555555556,\"#d8576b\"],[0.6666666666666666,\"#ed7953\"],[0.7777777777777778,\"#fb9f3a\"],[0.8888888888888888,\"#fdca26\"],[1.0,\"#f0f921\"]]}],\"surface\":[{\"type\":\"surface\",\"colorbar\":{\"outlinewidth\":0,\"ticks\":\"\"},\"colorscale\":[[0.0,\"#0d0887\"],[0.1111111111111111,\"#46039f\"],[0.2222222222222222,\"#7201a8\"],[0.3333333333333333,\"#9c179e\"],[0.4444444444444444,\"#bd3786\"],[0.5555555555555556,\"#d8576b\"],[0.6666666666666666,\"#ed7953\"],[0.7777777777777778,\"#fb9f3a\"],[0.8888888888888888,\"#fdca26\"],[1.0,\"#f0f921\"]]}],\"mesh3d\":[{\"type\":\"mesh3d\",\"colorbar\":{\"outlinewidth\":0,\"ticks\":\"\"}}],\"scatter\":[{\"fillpattern\":{\"fillmode\":\"overlay\",\"size\":10,\"solidity\":0.2},\"type\":\"scatter\"}],\"parcoords\":[{\"type\":\"parcoords\",\"line\":{\"colorbar\":{\"outlinewidth\":0,\"ticks\":\"\"}}}],\"scatterpolargl\":[{\"type\":\"scatterpolargl\",\"marker\":{\"colorbar\":{\"outlinewidth\":0,\"ticks\":\"\"}}}],\"bar\":[{\"error_x\":{\"color\":\"#2a3f5f\"},\"error_y\":{\"color\":\"#2a3f5f\"},\"marker\":{\"line\":{\"color\":\"#E5ECF6\",\"width\":0.5},\"pattern\":{\"fillmode\":\"overlay\",\"size\":10,\"solidity\":0.2}},\"type\":\"bar\"}],\"scattergeo\":[{\"type\":\"scattergeo\",\"marker\":{\"colorbar\":{\"outlinewidth\":0,\"ticks\":\"\"}}}],\"scatterpolar\":[{\"type\":\"scatterpolar\",\"marker\":{\"colorbar\":{\"outlinewidth\":0,\"ticks\":\"\"}}}],\"histogram\":[{\"marker\":{\"pattern\":{\"fillmode\":\"overlay\",\"size\":10,\"solidity\":0.2}},\"type\":\"histogram\"}],\"scattergl\":[{\"type\":\"scattergl\",\"marker\":{\"colorbar\":{\"outlinewidth\":0,\"ticks\":\"\"}}}],\"scatter3d\":[{\"type\":\"scatter3d\",\"line\":{\"colorbar\":{\"outlinewidth\":0,\"ticks\":\"\"}},\"marker\":{\"colorbar\":{\"outlinewidth\":0,\"ticks\":\"\"}}}],\"scattermapbox\":[{\"type\":\"scattermapbox\",\"marker\":{\"colorbar\":{\"outlinewidth\":0,\"ticks\":\"\"}}}],\"scatterternary\":[{\"type\":\"scatterternary\",\"marker\":{\"colorbar\":{\"outlinewidth\":0,\"ticks\":\"\"}}}],\"scattercarpet\":[{\"type\":\"scattercarpet\",\"marker\":{\"colorbar\":{\"outlinewidth\":0,\"ticks\":\"\"}}}],\"carpet\":[{\"aaxis\":{\"endlinecolor\":\"#2a3f5f\",\"gridcolor\":\"white\",\"linecolor\":\"white\",\"minorgridcolor\":\"white\",\"startlinecolor\":\"#2a3f5f\"},\"baxis\":{\"endlinecolor\":\"#2a3f5f\",\"gridcolor\":\"white\",\"linecolor\":\"white\",\"minorgridcolor\":\"white\",\"startlinecolor\":\"#2a3f5f\"},\"type\":\"carpet\"}],\"table\":[{\"cells\":{\"fill\":{\"color\":\"#EBF0F8\"},\"line\":{\"color\":\"white\"}},\"header\":{\"fill\":{\"color\":\"#C8D4E3\"},\"line\":{\"color\":\"white\"}},\"type\":\"table\"}],\"barpolar\":[{\"marker\":{\"line\":{\"color\":\"#E5ECF6\",\"width\":0.5},\"pattern\":{\"fillmode\":\"overlay\",\"size\":10,\"solidity\":0.2}},\"type\":\"barpolar\"}],\"pie\":[{\"automargin\":true,\"type\":\"pie\"}]},\"layout\":{\"autotypenumbers\":\"strict\",\"colorway\":[\"#636efa\",\"#EF553B\",\"#00cc96\",\"#ab63fa\",\"#FFA15A\",\"#19d3f3\",\"#FF6692\",\"#B6E880\",\"#FF97FF\",\"#FECB52\"],\"font\":{\"color\":\"#2a3f5f\"},\"hovermode\":\"closest\",\"hoverlabel\":{\"align\":\"left\"},\"paper_bgcolor\":\"white\",\"plot_bgcolor\":\"#E5ECF6\",\"polar\":{\"bgcolor\":\"#E5ECF6\",\"angularaxis\":{\"gridcolor\":\"white\",\"linecolor\":\"white\",\"ticks\":\"\"},\"radialaxis\":{\"gridcolor\":\"white\",\"linecolor\":\"white\",\"ticks\":\"\"}},\"ternary\":{\"bgcolor\":\"#E5ECF6\",\"aaxis\":{\"gridcolor\":\"white\",\"linecolor\":\"white\",\"ticks\":\"\"},\"baxis\":{\"gridcolor\":\"white\",\"linecolor\":\"white\",\"ticks\":\"\"},\"caxis\":{\"gridcolor\":\"white\",\"linecolor\":\"white\",\"ticks\":\"\"}},\"coloraxis\":{\"colorbar\":{\"outlinewidth\":0,\"ticks\":\"\"}},\"colorscale\":{\"sequential\":[[0.0,\"#0d0887\"],[0.1111111111111111,\"#46039f\"],[0.2222222222222222,\"#7201a8\"],[0.3333333333333333,\"#9c179e\"],[0.4444444444444444,\"#bd3786\"],[0.5555555555555556,\"#d8576b\"],[0.6666666666666666,\"#ed7953\"],[0.7777777777777778,\"#fb9f3a\"],[0.8888888888888888,\"#fdca26\"],[1.0,\"#f0f921\"]],\"sequentialminus\":[[0.0,\"#0d0887\"],[0.1111111111111111,\"#46039f\"],[0.2222222222222222,\"#7201a8\"],[0.3333333333333333,\"#9c179e\"],[0.4444444444444444,\"#bd3786\"],[0.5555555555555556,\"#d8576b\"],[0.6666666666666666,\"#ed7953\"],[0.7777777777777778,\"#fb9f3a\"],[0.8888888888888888,\"#fdca26\"],[1.0,\"#f0f921\"]],\"diverging\":[[0,\"#8e0152\"],[0.1,\"#c51b7d\"],[0.2,\"#de77ae\"],[0.3,\"#f1b6da\"],[0.4,\"#fde0ef\"],[0.5,\"#f7f7f7\"],[0.6,\"#e6f5d0\"],[0.7,\"#b8e186\"],[0.8,\"#7fbc41\"],[0.9,\"#4d9221\"],[1,\"#276419\"]]},\"xaxis\":{\"gridcolor\":\"white\",\"linecolor\":\"white\",\"ticks\":\"\",\"title\":{\"standoff\":15},\"zerolinecolor\":\"white\",\"automargin\":true,\"zerolinewidth\":2},\"yaxis\":{\"gridcolor\":\"white\",\"linecolor\":\"white\",\"ticks\":\"\",\"title\":{\"standoff\":15},\"zerolinecolor\":\"white\",\"automargin\":true,\"zerolinewidth\":2},\"scene\":{\"xaxis\":{\"backgroundcolor\":\"#E5ECF6\",\"gridcolor\":\"white\",\"linecolor\":\"white\",\"showbackground\":true,\"ticks\":\"\",\"zerolinecolor\":\"white\",\"gridwidth\":2},\"yaxis\":{\"backgroundcolor\":\"#E5ECF6\",\"gridcolor\":\"white\",\"linecolor\":\"white\",\"showbackground\":true,\"ticks\":\"\",\"zerolinecolor\":\"white\",\"gridwidth\":2},\"zaxis\":{\"backgroundcolor\":\"#E5ECF6\",\"gridcolor\":\"white\",\"linecolor\":\"white\",\"showbackground\":true,\"ticks\":\"\",\"zerolinecolor\":\"white\",\"gridwidth\":2}},\"shapedefaults\":{\"line\":{\"color\":\"#2a3f5f\"}},\"annotationdefaults\":{\"arrowcolor\":\"#2a3f5f\",\"arrowhead\":0,\"arrowwidth\":1},\"geo\":{\"bgcolor\":\"white\",\"landcolor\":\"#E5ECF6\",\"subunitcolor\":\"white\",\"showland\":true,\"showlakes\":true,\"lakecolor\":\"white\"},\"title\":{\"x\":0.05},\"mapbox\":{\"style\":\"light\"}}},\"xaxis\":{\"anchor\":\"y\",\"domain\":[0.0,1.0],\"type\":\"date\",\"title\":{\"text\":\"Tiempo\"}},\"yaxis\":{\"anchor\":\"x\",\"domain\":[0.0,1.0],\"title\":{\"text\":\"Orden\"},\"categoryorder\":\"total ascending\"},\"legend\":{\"title\":{\"text\":\"Operaci\\u00f3n\"},\"tracegroupgap\":0},\"title\":{\"text\":\"Planificaci\\u00f3n Gantt de \\u00d3rdenes de Fabricaci\\u00f3n (Gen\\u00e9tico)\"},\"barmode\":\"overlay\",\"hovermode\":\"closest\",\"showlegend\":true},                        {\"responsive\": true}                    ).then(function(){\n",
              "                            \n",
              "var gd = document.getElementById('bee9bc66-9b24-49b4-aa41-ef8c923b89b9');\n",
              "var x = new MutationObserver(function (mutations, observer) {{\n",
              "        var display = window.getComputedStyle(gd).display;\n",
              "        if (!display || display === 'none') {{\n",
              "            console.log([gd, 'removed!']);\n",
              "            Plotly.purge(gd);\n",
              "            observer.disconnect();\n",
              "        }}\n",
              "}});\n",
              "\n",
              "// Listen for the removal of the full notebook cells\n",
              "var notebookContainer = gd.closest('#notebook-container');\n",
              "if (notebookContainer) {{\n",
              "    x.observe(notebookContainer, {childList: true});\n",
              "}}\n",
              "\n",
              "// Listen for the clearing of the current output cell\n",
              "var outputEl = gd.closest('.output');\n",
              "if (outputEl) {{\n",
              "    x.observe(outputEl, {childList: true});\n",
              "}}\n",
              "\n",
              "                        })                };                            </script>        </div>\n",
              "</body>\n",
              "</html>"
            ]
          },
          "metadata": {}
        }
      ]
    },
    {
      "cell_type": "markdown",
      "source": [
        "## Algoritmo de enrutamiento de máquinas"
      ],
      "metadata": {
        "id": "mOPxYE2sA8r5"
      }
    },
    {
      "cell_type": "markdown",
      "source": [
        "### 1. Generación matriz de costos"
      ],
      "metadata": {
        "id": "JBAHyZvsSBMT"
      }
    },
    {
      "cell_type": "markdown",
      "source": [
        "No hace falta que definamos esta matriz, pues es la misma que hemos generado en el algoritmo Húngaro."
      ],
      "metadata": {
        "id": "c_IwA45pSEts"
      }
    },
    {
      "cell_type": "markdown",
      "source": [
        "### 2. Algoritmo enrutamiento"
      ],
      "metadata": {
        "id": "-7bWakVVSnB_"
      }
    },
    {
      "cell_type": "code",
      "source": [
        "# Función de enrutamiento\n",
        "def algoritmo_enrutamiento(matriz_costos, operaciones, recursos):\n",
        "    # Asignamos cada operación al recurso de menor costo\n",
        "    asignaciones = []\n",
        "    for i in range(matriz_costos.shape[0]):\n",
        "        asignaciones.append((i, np.argmin(matriz_costos[i])))\n",
        "\n",
        "\n",
        "    asignaciones_filtradas = []\n",
        "\n",
        "    # Tenemos 6 operaciones por cada orden\n",
        "    num_op_por_orden = 6\n",
        "\n",
        "    # Obtenemos el número total de órdenes en el DataFrame de operaciones\n",
        "    num_ordenes = operaciones['ID Orden'].nunique()\n",
        "\n",
        "    # Iteramos sobre cada orden\n",
        "    for id_orden in range(1, num_ordenes + 1):\n",
        "        # Inicializamos un contador para llevar controlar las operaciones por orden\n",
        "        contador_op = 0\n",
        "\n",
        "        # Iteramos sobre los índices resultantes del algoritmo de Munkres (pares de id_operacion y id_recurso)\n",
        "        for id_operacion, id_recurso in asignaciones:\n",
        "            # Verificamos si la operación y el recurso están dentro del rango de operaciones y recursos válidos\n",
        "            if id_operacion < operaciones.shape[0] and id_recurso < recursos.shape[0]:\n",
        "                # Filtramos las operaciones correspondientes a la orden actual\n",
        "                operacion_actual = operaciones[operaciones['ID Orden'] == id_orden]\n",
        "\n",
        "                # Verificamos si no hemos alcanzado el número máximo de tuplas por orden\n",
        "                if contador_op < num_op_por_orden and len(operacion_actual) > 0:\n",
        "                    # Obtenemos la operación correspondiente a través de la posición del contador\n",
        "                    operacion = operacion_actual.iloc[contador_op]\n",
        "                    id_operacion_real = operacion['ID Operación']\n",
        "\n",
        "                    # Añadimos la asignación a la lista como una tupla con el ID de la orden, la operación y el recurso\n",
        "                    asignaciones_filtradas.append((id_orden, id_operacion_real, id_recurso))\n",
        "\n",
        "                    # Aumentamostamos el contador de operaciones para la orden actual\n",
        "                    contador_op += 1\n",
        "\n",
        "    # Evaluamos el fitness de las asignaciones obtenidas\n",
        "    fitness_enrutamiento = evaluar_fitness(asignaciones_filtradas, operaciones, recursos)\n",
        "\n",
        "    # Devolvemos la lista de asignaciones y el valor de fitness\n",
        "    return asignaciones_filtradas, fitness_enrutamiento"
      ],
      "metadata": {
        "id": "ukohRq5R7R-e"
      },
      "execution_count": 90,
      "outputs": []
    },
    {
      "cell_type": "code",
      "source": [
        "# Ejecutamos el algoritmo de enrutamiento de máquinas\n",
        "asignaciones_enrutamiento, fitness_enrutamiento = algoritmo_enrutamiento(matriz_costos, df_operaciones, df_recursos)"
      ],
      "metadata": {
        "colab": {
          "base_uri": "https://localhost:8080/"
        },
        "id": "9tSztX-O75pg",
        "outputId": "12ccea5a-bd24-4e16-d4df-8dfd8773215d"
      },
      "execution_count": 91,
      "outputs": [
        {
          "output_type": "stream",
          "name": "stdout",
          "text": [
            "El recurso 0 no está en el diccionario.\n",
            "El recurso 0 no está en el diccionario.\n",
            "El recurso 0 no está en el diccionario.\n",
            "El recurso 0 no está en el diccionario.\n",
            "El recurso 0 no está en el diccionario.\n",
            "El recurso 0 no está en el diccionario.\n"
          ]
        }
      ]
    },
    {
      "cell_type": "markdown",
      "source": [
        "### 3. Fitness algoritmo de enrutamiento"
      ],
      "metadata": {
        "id": "O90aHeqoHoTZ"
      }
    },
    {
      "cell_type": "code",
      "source": [
        "# Mostramos las asignaciones del algoritmo de enrutamiento\n",
        "print(\"Asignaciones algoritmo de enrutamiento:\", asignaciones_enrutamiento)\n",
        "# Y el fitness\n",
        "print(\"Fitness algoritmo enrutamiento:\",fitness_enrutamiento)"
      ],
      "metadata": {
        "colab": {
          "base_uri": "https://localhost:8080/"
        },
        "id": "slaWnWp19KEp",
        "outputId": "4379459c-4320-46b5-84f5-f312870bde50"
      },
      "execution_count": 94,
      "outputs": [
        {
          "output_type": "stream",
          "name": "stdout",
          "text": [
            "Asignaciones algoritmo de enrutamiento: [(1, 0, 0), (1, 1, 4), (1, 2, 5), (1, 3, 3), (1, 4, 0), (1, 5, 2), (2, 0, 0), (2, 1, 4), (2, 2, 5), (2, 3, 3), (2, 4, 0), (2, 5, 2), (3, 0, 0), (3, 1, 4), (3, 2, 5), (3, 3, 3), (3, 4, 0), (3, 5, 2)]\n",
            "Fitness algoritmo enrutamiento: 0.008064516129032258\n"
          ]
        }
      ]
    },
    {
      "cell_type": "markdown",
      "source": [
        "### 4. Visualización diagrama Gantt"
      ],
      "metadata": {
        "id": "8PoygCU6IJ1L"
      }
    },
    {
      "cell_type": "code",
      "source": [
        "# Función visualizar_gantt_enrutamiento: diagrama de Gantt del algoritmo de enrutamiennto de máquinas\n",
        "def visualizar_gantt_enrutamiento(df_ordenes, df_operaciones, asignaciones_enrutamiento):\n",
        "    # Definimos la holgura en horas (previamente definido)\n",
        "    holgura_horas = holgura\n",
        "\n",
        "    # Creamos un dataframe vacío para almacenar las operaciones y definimos las columnas\n",
        "    df_gantt = pd.DataFrame(columns=['ID Orden', 'ID Operación', 'Operación', 'Recurso', 'Start', 'Finish'])\n",
        "\n",
        "    # Creamos otro para almacenar la holgura y definimos las columnas\n",
        "    df_holgura = pd.DataFrame(columns=['ID Orden', 'Operación', 'Start', 'Finish'])\n",
        "\n",
        "    # Iteramos sobre cada orden df_ordenes\n",
        "    for _, orden in df_ordenes.iterrows():\n",
        "        # Filtramos y ordenamos las operaciones asociadas a la orden actual, organizándolas por su ID\n",
        "        operaciones_ordenadas = df_operaciones[df_operaciones['ID Orden'] == orden['ID Orden']].sort_values(by='ID Operación')\n",
        "\n",
        "        # Obtenemos la fecha de inicio temprana de la orden\n",
        "        fecha_inicio = orden['Fecha Inicio Temprana']\n",
        "\n",
        "        # Iteramos sobre las operaciones de la orden (operaciones_ordenadas)\n",
        "        for _, op in operaciones_ordenadas.iterrows():\n",
        "            # Obtenemos el id y la descripción de la operación\n",
        "            id_operacion = op['ID Operación']\n",
        "            descripcion_operacion = op['Descripción Operación']\n",
        "\n",
        "            # Buscamos el recurso asignado a esta operación en la solución de Munkres\n",
        "            recurso = next((x[1] for x in asignaciones_munkres if x[0] == id_operacion), None)\n",
        "            # Si no encontramos la operación en las asignaciones pasamos la iteración\n",
        "            if recurso is None:\n",
        "                continue\n",
        "\n",
        "            # Calculamos la duración y el tiempo de setup de la operación\n",
        "            duracion = int(op['Duración'])\n",
        "            tiempo_setup = int(op['Tiempo Setup'])\n",
        "\n",
        "            # Calculamos el tiempo de inicio y fin de la operación\n",
        "            inicio = fecha_inicio\n",
        "            fin = inicio + timedelta(hours=duracion)\n",
        "\n",
        "            # Añadimos la operación al DataFrame de Gantt\n",
        "            df_gantt = pd.concat([df_gantt, pd.DataFrame({\n",
        "                'ID Orden': [orden['ID Orden']],\n",
        "                'ID Operación': [id_operacion],\n",
        "                'Operación': [descripcion_operacion],\n",
        "                'Recurso': [recurso],\n",
        "                'Inicio': [inicio],\n",
        "                'Fin': [fin]\n",
        "            })], ignore_index=True)\n",
        "\n",
        "            # Actualizamos la fecha de inicio para la siguiente operación, sumando el tiempo de setup\n",
        "            fecha_inicio = fin + timedelta(hours=tiempo_setup)\n",
        "\n",
        "        # Añadimos la holgura después de la última operación de la orden\n",
        "        ultima_fecha_fin = df_gantt[df_gantt['ID Orden'] == orden['ID Orden']]['Fin'].max()\n",
        "        holgura_inicio = ultima_fecha_fin\n",
        "        holgura_fin = holgura_inicio + timedelta(hours=holgura_horas)\n",
        "\n",
        "        # Añadimos la holgura a df_holgura\n",
        "        df_holgura = pd.concat([df_holgura, pd.DataFrame({\n",
        "            'ID Orden': [orden['ID Orden']],\n",
        "            'Operación': ['Holgura'],\n",
        "            'Inicio': [holgura_inicio],\n",
        "            'Fin': [holgura_fin]\n",
        "        })], ignore_index=True)\n",
        "\n",
        "    # Unimos df_holgura y df_gantt\n",
        "    df_gantt_completo = pd.concat([df_holgura, df_gantt], ignore_index=True)\n",
        "\n",
        "    # Creamos el diagrama de Gantt\n",
        "    fig = px.timeline(df_gantt_completo, x_start=\"Inicio\", x_end=\"Fin\", y=\"ID Orden\",\n",
        "                      text=df_gantt_completo['Operación'] + ' (ID: ' + df_gantt_completo['ID Operación'].astype(str) + ')',\n",
        "                      color=\"Operación\",\n",
        "                      color_discrete_sequence=px.colors.qualitative.Pastel,\n",
        "                      title=\"Planificación Gantt de Órdenes de Fabricación (Munkres)\")\n",
        "\n",
        "    # Ordenamos las categorías de manera ascendente y actualizamos las etiquetas de los ejes\n",
        "    fig.update_yaxes(categoryorder=\"total ascending\")\n",
        "    fig.update_layout(xaxis_title='Tiempo', yaxis_title='Orden', hovermode=\"closest\", showlegend=True)\n",
        "\n",
        "    # Personalizamos el color de la barra de holgura\n",
        "    fig.data[0].marker.color = 'gray'\n",
        "\n",
        "    # Devolvemos el gráfico\n",
        "    return fig\n"
      ],
      "metadata": {
        "id": "vogWzgT79mkn"
      },
      "execution_count": 73,
      "outputs": []
    },
    {
      "cell_type": "code",
      "source": [
        "# Visualizamos el diagrama de Gantt con la mejor solución\n",
        "visualizar_gantt_enrutamiento(df_ordenes, df_operaciones, asignaciones_enrutamiento)"
      ],
      "metadata": {
        "colab": {
          "base_uri": "https://localhost:8080/",
          "height": 630
        },
        "id": "guNKwykl9zbV",
        "outputId": "1f996559-9683-417d-c3a3-69e3125825f4"
      },
      "execution_count": 74,
      "outputs": [
        {
          "output_type": "stream",
          "name": "stderr",
          "text": [
            "/usr/local/lib/python3.10/dist-packages/_plotly_utils/basevalidators.py:105: FutureWarning:\n",
            "\n",
            "The behavior of DatetimeProperties.to_pydatetime is deprecated, in a future version this will return a Series containing python datetime objects instead of an ndarray. To retain the old behavior, call `np.array` on the result\n",
            "\n"
          ]
        },
        {
          "output_type": "display_data",
          "data": {
            "text/html": [
              "<html>\n",
              "<head><meta charset=\"utf-8\" /></head>\n",
              "<body>\n",
              "    <div>            <script src=\"https://cdnjs.cloudflare.com/ajax/libs/mathjax/2.7.5/MathJax.js?config=TeX-AMS-MML_SVG\"></script><script type=\"text/javascript\">if (window.MathJax && window.MathJax.Hub && window.MathJax.Hub.Config) {window.MathJax.Hub.Config({SVG: {font: \"STIX-Web\"}});}</script>                <script type=\"text/javascript\">window.PlotlyConfig = {MathJaxConfig: 'local'};</script>\n",
              "        <script charset=\"utf-8\" src=\"https://cdn.plot.ly/plotly-2.24.1.min.js\"></script>                <div id=\"250a564e-21f1-4051-bfec-c407fa3cb5a2\" class=\"plotly-graph-div\" style=\"height:525px; width:100%;\"></div>            <script type=\"text/javascript\">                                    window.PLOTLYENV=window.PLOTLYENV || {};                                    if (document.getElementById(\"250a564e-21f1-4051-bfec-c407fa3cb5a2\")) {                    Plotly.newPlot(                        \"250a564e-21f1-4051-bfec-c407fa3cb5a2\",                        [{\"alignmentgroup\":\"True\",\"base\":[\"2024-08-28T21:00:00\",\"2024-08-29T22:00:00\",\"2024-09-02T11:00:00\"],\"hovertemplate\":\"Operaci\\u00f3n=Holgura\\u003cbr\\u003eInicio=%{base}\\u003cbr\\u003eFin=%{x}\\u003cbr\\u003eID Orden=%{y}\\u003cbr\\u003etext=%{text}\\u003cextra\\u003e\\u003c\\u002fextra\\u003e\",\"legendgroup\":\"Holgura\",\"marker\":{\"color\":\"gray\",\"pattern\":{\"shape\":\"\"}},\"name\":\"Holgura\",\"offsetgroup\":\"Holgura\",\"orientation\":\"h\",\"showlegend\":true,\"text\":[\"Holgura (ID: nan)\",\"Holgura (ID: nan)\",\"Holgura (ID: nan)\"],\"textposition\":\"auto\",\"x\":[10800000.0,10800000.0,10800000.0],\"xaxis\":\"x\",\"y\":[1,2,3],\"yaxis\":\"y\",\"type\":\"bar\"},{\"alignmentgroup\":\"True\",\"base\":[\"2024-08-24T17:00:00\",\"2024-08-25T06:00:00\",\"2024-08-30T18:00:00\"],\"hovertemplate\":\"Operaci\\u00f3n=Mecanizado bloque\\u003cbr\\u003eInicio=%{base}\\u003cbr\\u003eFin=%{x}\\u003cbr\\u003eID Orden=%{y}\\u003cbr\\u003etext=%{text}\\u003cextra\\u003e\\u003c\\u002fextra\\u003e\",\"legendgroup\":\"Mecanizado bloque\",\"marker\":{\"color\":\"rgb(246, 207, 113)\",\"pattern\":{\"shape\":\"\"}},\"name\":\"Mecanizado bloque\",\"offsetgroup\":\"Mecanizado bloque\",\"orientation\":\"h\",\"showlegend\":true,\"text\":[\"Mecanizado bloque (ID: 1)\",\"Mecanizado bloque (ID: 1)\",\"Mecanizado bloque (ID: 1)\"],\"textposition\":\"auto\",\"x\":[64800000.0,151200000.0,43200000.0],\"xaxis\":\"x\",\"y\":[1,2,3],\"yaxis\":\"y\",\"type\":\"bar\"},{\"alignmentgroup\":\"True\",\"base\":[\"2024-08-25T11:00:00\",\"2024-08-27T00:00:00\",\"2024-08-31T06:00:00\"],\"hovertemplate\":\"Operaci\\u00f3n=Montaje pistones\\u003cbr\\u003eInicio=%{base}\\u003cbr\\u003eFin=%{x}\\u003cbr\\u003eID Orden=%{y}\\u003cbr\\u003etext=%{text}\\u003cextra\\u003e\\u003c\\u002fextra\\u003e\",\"legendgroup\":\"Montaje pistones\",\"marker\":{\"color\":\"rgb(248, 156, 116)\",\"pattern\":{\"shape\":\"\"}},\"name\":\"Montaje pistones\",\"offsetgroup\":\"Montaje pistones\",\"orientation\":\"h\",\"showlegend\":true,\"text\":[\"Montaje pistones (ID: 2)\",\"Montaje pistones (ID: 2)\",\"Montaje pistones (ID: 2)\"],\"textposition\":\"auto\",\"x\":[140400000.0,216000000.0,90000000.0],\"xaxis\":\"x\",\"y\":[1,2,3],\"yaxis\":\"y\",\"type\":\"bar\"},{\"alignmentgroup\":\"True\",\"base\":[\"2024-08-27T02:00:00\",\"2024-08-29T12:00:00\",\"2024-09-01T07:00:00\"],\"hovertemplate\":\"Operaci\\u00f3n=Montaje cig\\u00fce\\u00f1al\\u003cbr\\u003eInicio=%{base}\\u003cbr\\u003eFin=%{x}\\u003cbr\\u003eID Orden=%{y}\\u003cbr\\u003etext=%{text}\\u003cextra\\u003e\\u003c\\u002fextra\\u003e\",\"legendgroup\":\"Montaje cig\\u00fce\\u00f1al\",\"marker\":{\"color\":\"rgb(220, 176, 242)\",\"pattern\":{\"shape\":\"\"}},\"name\":\"Montaje cig\\u00fce\\u00f1al\",\"offsetgroup\":\"Montaje cig\\u00fce\\u00f1al\",\"orientation\":\"h\",\"showlegend\":true,\"text\":[\"Montaje cig\\u00fce\\u00f1al (ID: 3)\",\"Montaje cig\\u00fce\\u00f1al (ID: 3)\",\"Montaje cig\\u00fce\\u00f1al (ID: 3)\"],\"textposition\":\"auto\",\"x\":[154800000.0,36000000.0,100800000.0],\"xaxis\":\"x\",\"y\":[1,2,3],\"yaxis\":\"y\",\"type\":\"bar\"}],                        {\"template\":{\"data\":{\"histogram2dcontour\":[{\"type\":\"histogram2dcontour\",\"colorbar\":{\"outlinewidth\":0,\"ticks\":\"\"},\"colorscale\":[[0.0,\"#0d0887\"],[0.1111111111111111,\"#46039f\"],[0.2222222222222222,\"#7201a8\"],[0.3333333333333333,\"#9c179e\"],[0.4444444444444444,\"#bd3786\"],[0.5555555555555556,\"#d8576b\"],[0.6666666666666666,\"#ed7953\"],[0.7777777777777778,\"#fb9f3a\"],[0.8888888888888888,\"#fdca26\"],[1.0,\"#f0f921\"]]}],\"choropleth\":[{\"type\":\"choropleth\",\"colorbar\":{\"outlinewidth\":0,\"ticks\":\"\"}}],\"histogram2d\":[{\"type\":\"histogram2d\",\"colorbar\":{\"outlinewidth\":0,\"ticks\":\"\"},\"colorscale\":[[0.0,\"#0d0887\"],[0.1111111111111111,\"#46039f\"],[0.2222222222222222,\"#7201a8\"],[0.3333333333333333,\"#9c179e\"],[0.4444444444444444,\"#bd3786\"],[0.5555555555555556,\"#d8576b\"],[0.6666666666666666,\"#ed7953\"],[0.7777777777777778,\"#fb9f3a\"],[0.8888888888888888,\"#fdca26\"],[1.0,\"#f0f921\"]]}],\"heatmap\":[{\"type\":\"heatmap\",\"colorbar\":{\"outlinewidth\":0,\"ticks\":\"\"},\"colorscale\":[[0.0,\"#0d0887\"],[0.1111111111111111,\"#46039f\"],[0.2222222222222222,\"#7201a8\"],[0.3333333333333333,\"#9c179e\"],[0.4444444444444444,\"#bd3786\"],[0.5555555555555556,\"#d8576b\"],[0.6666666666666666,\"#ed7953\"],[0.7777777777777778,\"#fb9f3a\"],[0.8888888888888888,\"#fdca26\"],[1.0,\"#f0f921\"]]}],\"heatmapgl\":[{\"type\":\"heatmapgl\",\"colorbar\":{\"outlinewidth\":0,\"ticks\":\"\"},\"colorscale\":[[0.0,\"#0d0887\"],[0.1111111111111111,\"#46039f\"],[0.2222222222222222,\"#7201a8\"],[0.3333333333333333,\"#9c179e\"],[0.4444444444444444,\"#bd3786\"],[0.5555555555555556,\"#d8576b\"],[0.6666666666666666,\"#ed7953\"],[0.7777777777777778,\"#fb9f3a\"],[0.8888888888888888,\"#fdca26\"],[1.0,\"#f0f921\"]]}],\"contourcarpet\":[{\"type\":\"contourcarpet\",\"colorbar\":{\"outlinewidth\":0,\"ticks\":\"\"}}],\"contour\":[{\"type\":\"contour\",\"colorbar\":{\"outlinewidth\":0,\"ticks\":\"\"},\"colorscale\":[[0.0,\"#0d0887\"],[0.1111111111111111,\"#46039f\"],[0.2222222222222222,\"#7201a8\"],[0.3333333333333333,\"#9c179e\"],[0.4444444444444444,\"#bd3786\"],[0.5555555555555556,\"#d8576b\"],[0.6666666666666666,\"#ed7953\"],[0.7777777777777778,\"#fb9f3a\"],[0.8888888888888888,\"#fdca26\"],[1.0,\"#f0f921\"]]}],\"surface\":[{\"type\":\"surface\",\"colorbar\":{\"outlinewidth\":0,\"ticks\":\"\"},\"colorscale\":[[0.0,\"#0d0887\"],[0.1111111111111111,\"#46039f\"],[0.2222222222222222,\"#7201a8\"],[0.3333333333333333,\"#9c179e\"],[0.4444444444444444,\"#bd3786\"],[0.5555555555555556,\"#d8576b\"],[0.6666666666666666,\"#ed7953\"],[0.7777777777777778,\"#fb9f3a\"],[0.8888888888888888,\"#fdca26\"],[1.0,\"#f0f921\"]]}],\"mesh3d\":[{\"type\":\"mesh3d\",\"colorbar\":{\"outlinewidth\":0,\"ticks\":\"\"}}],\"scatter\":[{\"fillpattern\":{\"fillmode\":\"overlay\",\"size\":10,\"solidity\":0.2},\"type\":\"scatter\"}],\"parcoords\":[{\"type\":\"parcoords\",\"line\":{\"colorbar\":{\"outlinewidth\":0,\"ticks\":\"\"}}}],\"scatterpolargl\":[{\"type\":\"scatterpolargl\",\"marker\":{\"colorbar\":{\"outlinewidth\":0,\"ticks\":\"\"}}}],\"bar\":[{\"error_x\":{\"color\":\"#2a3f5f\"},\"error_y\":{\"color\":\"#2a3f5f\"},\"marker\":{\"line\":{\"color\":\"#E5ECF6\",\"width\":0.5},\"pattern\":{\"fillmode\":\"overlay\",\"size\":10,\"solidity\":0.2}},\"type\":\"bar\"}],\"scattergeo\":[{\"type\":\"scattergeo\",\"marker\":{\"colorbar\":{\"outlinewidth\":0,\"ticks\":\"\"}}}],\"scatterpolar\":[{\"type\":\"scatterpolar\",\"marker\":{\"colorbar\":{\"outlinewidth\":0,\"ticks\":\"\"}}}],\"histogram\":[{\"marker\":{\"pattern\":{\"fillmode\":\"overlay\",\"size\":10,\"solidity\":0.2}},\"type\":\"histogram\"}],\"scattergl\":[{\"type\":\"scattergl\",\"marker\":{\"colorbar\":{\"outlinewidth\":0,\"ticks\":\"\"}}}],\"scatter3d\":[{\"type\":\"scatter3d\",\"line\":{\"colorbar\":{\"outlinewidth\":0,\"ticks\":\"\"}},\"marker\":{\"colorbar\":{\"outlinewidth\":0,\"ticks\":\"\"}}}],\"scattermapbox\":[{\"type\":\"scattermapbox\",\"marker\":{\"colorbar\":{\"outlinewidth\":0,\"ticks\":\"\"}}}],\"scatterternary\":[{\"type\":\"scatterternary\",\"marker\":{\"colorbar\":{\"outlinewidth\":0,\"ticks\":\"\"}}}],\"scattercarpet\":[{\"type\":\"scattercarpet\",\"marker\":{\"colorbar\":{\"outlinewidth\":0,\"ticks\":\"\"}}}],\"carpet\":[{\"aaxis\":{\"endlinecolor\":\"#2a3f5f\",\"gridcolor\":\"white\",\"linecolor\":\"white\",\"minorgridcolor\":\"white\",\"startlinecolor\":\"#2a3f5f\"},\"baxis\":{\"endlinecolor\":\"#2a3f5f\",\"gridcolor\":\"white\",\"linecolor\":\"white\",\"minorgridcolor\":\"white\",\"startlinecolor\":\"#2a3f5f\"},\"type\":\"carpet\"}],\"table\":[{\"cells\":{\"fill\":{\"color\":\"#EBF0F8\"},\"line\":{\"color\":\"white\"}},\"header\":{\"fill\":{\"color\":\"#C8D4E3\"},\"line\":{\"color\":\"white\"}},\"type\":\"table\"}],\"barpolar\":[{\"marker\":{\"line\":{\"color\":\"#E5ECF6\",\"width\":0.5},\"pattern\":{\"fillmode\":\"overlay\",\"size\":10,\"solidity\":0.2}},\"type\":\"barpolar\"}],\"pie\":[{\"automargin\":true,\"type\":\"pie\"}]},\"layout\":{\"autotypenumbers\":\"strict\",\"colorway\":[\"#636efa\",\"#EF553B\",\"#00cc96\",\"#ab63fa\",\"#FFA15A\",\"#19d3f3\",\"#FF6692\",\"#B6E880\",\"#FF97FF\",\"#FECB52\"],\"font\":{\"color\":\"#2a3f5f\"},\"hovermode\":\"closest\",\"hoverlabel\":{\"align\":\"left\"},\"paper_bgcolor\":\"white\",\"plot_bgcolor\":\"#E5ECF6\",\"polar\":{\"bgcolor\":\"#E5ECF6\",\"angularaxis\":{\"gridcolor\":\"white\",\"linecolor\":\"white\",\"ticks\":\"\"},\"radialaxis\":{\"gridcolor\":\"white\",\"linecolor\":\"white\",\"ticks\":\"\"}},\"ternary\":{\"bgcolor\":\"#E5ECF6\",\"aaxis\":{\"gridcolor\":\"white\",\"linecolor\":\"white\",\"ticks\":\"\"},\"baxis\":{\"gridcolor\":\"white\",\"linecolor\":\"white\",\"ticks\":\"\"},\"caxis\":{\"gridcolor\":\"white\",\"linecolor\":\"white\",\"ticks\":\"\"}},\"coloraxis\":{\"colorbar\":{\"outlinewidth\":0,\"ticks\":\"\"}},\"colorscale\":{\"sequential\":[[0.0,\"#0d0887\"],[0.1111111111111111,\"#46039f\"],[0.2222222222222222,\"#7201a8\"],[0.3333333333333333,\"#9c179e\"],[0.4444444444444444,\"#bd3786\"],[0.5555555555555556,\"#d8576b\"],[0.6666666666666666,\"#ed7953\"],[0.7777777777777778,\"#fb9f3a\"],[0.8888888888888888,\"#fdca26\"],[1.0,\"#f0f921\"]],\"sequentialminus\":[[0.0,\"#0d0887\"],[0.1111111111111111,\"#46039f\"],[0.2222222222222222,\"#7201a8\"],[0.3333333333333333,\"#9c179e\"],[0.4444444444444444,\"#bd3786\"],[0.5555555555555556,\"#d8576b\"],[0.6666666666666666,\"#ed7953\"],[0.7777777777777778,\"#fb9f3a\"],[0.8888888888888888,\"#fdca26\"],[1.0,\"#f0f921\"]],\"diverging\":[[0,\"#8e0152\"],[0.1,\"#c51b7d\"],[0.2,\"#de77ae\"],[0.3,\"#f1b6da\"],[0.4,\"#fde0ef\"],[0.5,\"#f7f7f7\"],[0.6,\"#e6f5d0\"],[0.7,\"#b8e186\"],[0.8,\"#7fbc41\"],[0.9,\"#4d9221\"],[1,\"#276419\"]]},\"xaxis\":{\"gridcolor\":\"white\",\"linecolor\":\"white\",\"ticks\":\"\",\"title\":{\"standoff\":15},\"zerolinecolor\":\"white\",\"automargin\":true,\"zerolinewidth\":2},\"yaxis\":{\"gridcolor\":\"white\",\"linecolor\":\"white\",\"ticks\":\"\",\"title\":{\"standoff\":15},\"zerolinecolor\":\"white\",\"automargin\":true,\"zerolinewidth\":2},\"scene\":{\"xaxis\":{\"backgroundcolor\":\"#E5ECF6\",\"gridcolor\":\"white\",\"linecolor\":\"white\",\"showbackground\":true,\"ticks\":\"\",\"zerolinecolor\":\"white\",\"gridwidth\":2},\"yaxis\":{\"backgroundcolor\":\"#E5ECF6\",\"gridcolor\":\"white\",\"linecolor\":\"white\",\"showbackground\":true,\"ticks\":\"\",\"zerolinecolor\":\"white\",\"gridwidth\":2},\"zaxis\":{\"backgroundcolor\":\"#E5ECF6\",\"gridcolor\":\"white\",\"linecolor\":\"white\",\"showbackground\":true,\"ticks\":\"\",\"zerolinecolor\":\"white\",\"gridwidth\":2}},\"shapedefaults\":{\"line\":{\"color\":\"#2a3f5f\"}},\"annotationdefaults\":{\"arrowcolor\":\"#2a3f5f\",\"arrowhead\":0,\"arrowwidth\":1},\"geo\":{\"bgcolor\":\"white\",\"landcolor\":\"#E5ECF6\",\"subunitcolor\":\"white\",\"showland\":true,\"showlakes\":true,\"lakecolor\":\"white\"},\"title\":{\"x\":0.05},\"mapbox\":{\"style\":\"light\"}}},\"xaxis\":{\"anchor\":\"y\",\"domain\":[0.0,1.0],\"type\":\"date\",\"title\":{\"text\":\"Tiempo\"}},\"yaxis\":{\"anchor\":\"x\",\"domain\":[0.0,1.0],\"title\":{\"text\":\"Orden\"},\"categoryorder\":\"total ascending\"},\"legend\":{\"title\":{\"text\":\"Operaci\\u00f3n\"},\"tracegroupgap\":0},\"title\":{\"text\":\"Planificaci\\u00f3n Gantt de \\u00d3rdenes de Fabricaci\\u00f3n (Munkres)\"},\"barmode\":\"overlay\",\"hovermode\":\"closest\",\"showlegend\":true},                        {\"responsive\": true}                    ).then(function(){\n",
              "                            \n",
              "var gd = document.getElementById('250a564e-21f1-4051-bfec-c407fa3cb5a2');\n",
              "var x = new MutationObserver(function (mutations, observer) {{\n",
              "        var display = window.getComputedStyle(gd).display;\n",
              "        if (!display || display === 'none') {{\n",
              "            console.log([gd, 'removed!']);\n",
              "            Plotly.purge(gd);\n",
              "            observer.disconnect();\n",
              "        }}\n",
              "}});\n",
              "\n",
              "// Listen for the removal of the full notebook cells\n",
              "var notebookContainer = gd.closest('#notebook-container');\n",
              "if (notebookContainer) {{\n",
              "    x.observe(notebookContainer, {childList: true});\n",
              "}}\n",
              "\n",
              "// Listen for the clearing of the current output cell\n",
              "var outputEl = gd.closest('.output');\n",
              "if (outputEl) {{\n",
              "    x.observe(outputEl, {childList: true});\n",
              "}}\n",
              "\n",
              "                        })                };                            </script>        </div>\n",
              "</body>\n",
              "</html>"
            ]
          },
          "metadata": {}
        }
      ]
    },
    {
      "cell_type": "markdown",
      "source": [
        "## Algoritmo de cuellos de botella\n"
      ],
      "metadata": {
        "id": "N22qxEBjTk0Z"
      }
    },
    {
      "cell_type": "markdown",
      "source": [
        "### 1. Identificar cuellos de botella"
      ],
      "metadata": {
        "id": "z4ZrU8sfVKds"
      }
    },
    {
      "cell_type": "markdown",
      "source": [
        "Con la función `identificar_cuellos_de_botella`, como su nombre indica, identificamos los recursos que se convierten en cuellos de botella. Analizamos las operaciones asignadas a cada recurso y calculamos el tiempo total de procesamiento y devolvemos la lista de recursos ordenados por su tiempo total de procesamiento de mayor a menor."
      ],
      "metadata": {
        "id": "9aqIPf0NVT1r"
      }
    },
    {
      "cell_type": "code",
      "source": [
        "def identificar_cuellos_de_botella(operaciones, recursos):\n",
        "    # Inicializamos un diccionario para almacenar el tiempo total de procesamiento para cada recurso\n",
        "    tiempos_recurso = {recurso: 0 for recurso in recursos['ID Recurso']}\n",
        "\n",
        "    # Iteramos sobre cada operación en el DataFrame de operaciones\n",
        "    for _, operacion in operaciones.iterrows():\n",
        "        # Obtenemos el recurso asignado y la duración de la operación\n",
        "        recurso = operacion['ID Recurso']\n",
        "        duracion = operacion['Duración']\n",
        "        # Incrementamos el tiempo total de procesamiento del recurso con la duración de la operación actual\n",
        "        tiempos_recurso[recurso] += duracion\n",
        "\n",
        "    # Ordenamos los recursos por su tiempo total de procesamiento de mayor a menor\n",
        "    cuellos_de_botella = sorted(tiempos_recurso.items(), key=lambda x: x[1], reverse=True)\n",
        "\n",
        "    # Devolvemos la lista de recursos ordenados con sus tiempos totales de procesamiento\n",
        "    return cuellos_de_botella\n",
        "\n",
        "def calcular_fitness(tiempos_recurso):\n",
        "    # Convertimos los tiempos a una lista para calcular la desviación estándar\n",
        "    tiempos = list(tiempos_recurso.values())\n",
        "    # Calculamos la desviación estándar de los tiempos (entre menor, mejor)\n",
        "    fitness = pd.Series(tiempos).std()\n",
        "    return fitness\n",
        "\n",
        "cuellos_de_botella = identificar_cuellos_de_botella(operaciones, recursos)\n",
        "fitness = calcular_fitness(dict(cuellos_de_botella))"
      ],
      "metadata": {
        "id": "_EAdo30X2nH_"
      },
      "execution_count": null,
      "outputs": []
    },
    {
      "cell_type": "code",
      "source": [
        "# Mostrar el resultado del fitness\n",
        "fitness"
      ],
      "metadata": {
        "colab": {
          "base_uri": "https://localhost:8080/"
        },
        "id": "ovd97OZo2osd",
        "outputId": "da96a4c5-3d7b-4661-f2ae-d234979db5ed"
      },
      "execution_count": null,
      "outputs": [
        {
          "output_type": "execute_result",
          "data": {
            "text/plain": [
              "24.072113880311104"
            ]
          },
          "metadata": {},
          "execution_count": 55
        }
      ]
    },
    {
      "cell_type": "code",
      "source": [
        "# Función para identificar los cuellos de botella\n",
        "def identificar_cuellos_de_botella(operaciones, recursos):\n",
        "    # Inicializamos un diccionario para almacenar el tiempo total de procesamiento para cada recurso\n",
        "    tiempos_recurso = {recurso: 0 for recurso in recursos['ID Recurso']}\n",
        "\n",
        "    # Iteramos sobre cada operación en el DataFrame de operaciones\n",
        "    for _, operacion in operaciones.iterrows():\n",
        "        # Obtenemos el recurso asignado y la duración de la operación\n",
        "        recurso = operacion['ID Recurso']\n",
        "        duracion = operacion['Duración']\n",
        "        # Incrementamos el tiempo total de procesamiento del recurso con la duración de la operación actual\n",
        "        tiempos_recurso[recurso] += duracion\n",
        "\n",
        "    # Ordenamos los recursos por su tiempo total de procesamiento de mayor a menor\n",
        "    cuellos_de_botella = sorted(tiempos_recurso.items(), key=lambda x: x[1], reverse=True)\n",
        "    # Devolvemos la lista de recursos ordenados con sus tiempos totales de procesamiento\n",
        "    return cuellos_de_botella\n"
      ],
      "metadata": {
        "id": "30BhEeX6VJWr"
      },
      "execution_count": null,
      "outputs": []
    },
    {
      "cell_type": "code",
      "source": [
        "\n",
        "# Identificar los cuellos de botella\n",
        "cuellos_de_botella = identificar_cuellos_de_botella(operaciones, recursos)\n",
        "cuellos_de_botella"
      ],
      "metadata": {
        "colab": {
          "base_uri": "https://localhost:8080/"
        },
        "id": "_KkWH7t0V0_6",
        "outputId": "9d8f1a3a-d9e9-4389-9230-11c753cb6aa1"
      },
      "execution_count": null,
      "outputs": [
        {
          "output_type": "execute_result",
          "data": {
            "text/plain": [
              "[(3, 149), (5, 144), (2, 142), (4, 124), (1, 115), (6, 47)]"
            ]
          },
          "metadata": {},
          "execution_count": 130
        }
      ]
    },
    {
      "cell_type": "markdown",
      "source": [
        "### 2. Visualizar cuellos de botella"
      ],
      "metadata": {
        "id": "Lkveb3rNV1hW"
      }
    },
    {
      "cell_type": "markdown",
      "source": [
        "\n",
        "Con la función `visualizar_cuellos_de_botella` hacemos un gráfico de barras, donde se muestran los recursos identificados como cuellos de botella y sus tiempos totales de procesamiento."
      ],
      "metadata": {
        "id": "2KbHVk_rV99i"
      }
    },
    {
      "cell_type": "code",
      "source": [
        "# Función para visualizar los cuellos de botella\n",
        "def visualizar_cuellos_de_botella(cuellos_de_botella):\n",
        "\n",
        "    # Desempaquetamos la lista de cuellos de botella en dos listas: recursos y tiempos\n",
        "    recursos, tiempos = zip(*cuellos_de_botella)\n",
        "\n",
        "    # Configuramos el tamaño de la figura del gráfico\n",
        "    plt.figure(figsize=(10, 6))\n",
        "\n",
        "    # Creamos un gráfico de barras con los recursos y sus tiempos totales de procesamiento\n",
        "    plt.bar(recursos, tiempos, color='orange')\n",
        "\n",
        "    # Añadimos la etiqueta para el eje x\n",
        "    plt.xlabel('ID Recurso')\n",
        "\n",
        "    # Añadimos la etiqueta para el eje y\n",
        "    plt.ylabel('Tiempo Total de Procesamiento')\n",
        "\n",
        "    # Añadimos un título al gráfico\n",
        "    plt.title('Recursos Identificados como Cuellos de Botella')\n",
        "\n",
        "    # Mostramos el gráfico\n",
        "    plt.show()"
      ],
      "metadata": {
        "id": "HvRThn8WV3t_"
      },
      "execution_count": null,
      "outputs": []
    },
    {
      "cell_type": "code",
      "source": [
        "# Visualizamos los cuellos de botella\n",
        "visualizar_cuellos_de_botella(cuellos_de_botella)"
      ],
      "metadata": {
        "id": "PqdaOPnNWM3t",
        "colab": {
          "base_uri": "https://localhost:8080/",
          "height": 564
        },
        "outputId": "4b9e5305-d627-4223-b0d3-022db628cf35"
      },
      "execution_count": null,
      "outputs": [
        {
          "output_type": "display_data",
          "data": {
            "text/plain": [
              "<Figure size 1000x600 with 1 Axes>"
            ],
            "image/png": "[encoded data removed]"
          },
          "metadata": {}
        }
      ]
    },
    {
      "cell_type": "markdown",
      "source": [
        "### 3. Visualización diagrama Gantt"
      ],
      "metadata": {
        "id": "kip0KRuoWNYP"
      }
    },
    {
      "cell_type": "code",
      "source": [
        "# Función para visualizar el diagrama de Gantt\n",
        "def visualizar_gantt(df_ordenes, df_operaciones):\n",
        "\n",
        "    # Creamos un DataFrame vacío para almacenar los datos del diagrama de Gantt\n",
        "    df_gantt = pd.DataFrame(columns=['ID Orden', 'ID Operación', 'Operación', 'Recurso', 'Start', 'Finish'])\n",
        "    # Creamos un DataFrame vacío para almacenar los datos de holgura\n",
        "    df_holgura = pd.DataFrame(columns=['ID Orden', 'Operación', 'Start', 'Finish'])\n",
        "\n",
        "    # Inicializamos el tiempo de inicio para cada recurso\n",
        "    inicio_recursos = {recurso: datetime(2024, 5, 1, 8, 0) for recurso in recursos['ID Recurso']}\n",
        "\n",
        "    # Iteramos sobre cada operación en el DataFrame de operaciones\n",
        "    #for _, operacion in df_operaciones.iterrows():\n",
        "    for tarea in cuellos_de_botella:\n",
        "        id_orden, id_operacion, id_recurso = tarea\n",
        "        # Obtenemos los detalles de la operación y el recurso asignado\n",
        "        #id_orden = operacion['ID Orden']\n",
        "        #id_operacion = operacion['ID Operación']\n",
        "        #recurso = operacion['ID Recurso']\n",
        "        id_orden, id_operacion, id_recurso = tarea\n",
        "        operacion = df_operaciones[(df_operaciones['ID Orden'] == id_orden) &\n",
        "                                   (df_operaciones['ID Operación'] == id_operacion)].iloc[0]\n",
        "        duracion = int(operacion['Duración'])\n",
        "        tiempo_setup = int(operacion['Tiempo Setup'])\n",
        "\n",
        "        # Calculamos el tiempo de inicio y fin de la operación\n",
        "        inicio = inicio_recursos[id_recurso]\n",
        "        fin = inicio + timedelta(hours=duracion)\n",
        "        inicio_recursos[id_recurso] = fin + timedelta(hours=tiempo_setup)\n",
        "\n",
        "        # Añadimos los datos de la operación al DataFrame de Gantt\n",
        "        df_gantt = pd.concat([df_gantt, pd.DataFrame({\n",
        "            'ID Orden': [id_orden],\n",
        "            'ID Operación': [id_operacion],\n",
        "            #'Operación': [f\"Orden {id_orden} - {operacion['Descripción Operación']}\"],\n",
        "            'Operación': [operacion['Descripción Operación']],\n",
        "            #'Recurso': [recurso],\n",
        "            'Recurso': [operacion['Descripción Recurso']],\n",
        "            'Start': [inicio],\n",
        "            'Finish': [fin]\n",
        "        })], ignore_index=True)\n",
        "\n",
        "    # Iteramos sobre cada orden en el DataFrame de órdenes\n",
        "    for _, orden in df_ordenes.iterrows():\n",
        "        # Añadimos los datos de holgura al DataFrame de holgura\n",
        "        df_holgura = pd.concat([df_holgura, pd.DataFrame({\n",
        "            'ID Orden': [orden['ID Orden']],\n",
        "            'Operación': ['Holgura'],\n",
        "            'Start': [orden['Fecha Inicio Temprana']],\n",
        "            'Finish': [orden['Fecha Fin Tardía']]\n",
        "        })], ignore_index=True)\n",
        "\n",
        "    # Combinamos los DataFrames de holgura y Gantt\n",
        "    df_gantt_completo = pd.concat([df_holgura, df_gantt], ignore_index=True)\n",
        "\n",
        "    # Creamos el diagrama de Gantt usando plotly\n",
        "    fig = px.timeline(df_gantt_completo, x_start=\"Start\", x_end=\"Finish\", y=\"ID Orden\", text=df_gantt_completo['Operación'], color=\"Operación\", color_discrete_sequence=px.colors.qualitative.Pastel, title=\"Planificación Gantt de Órdenes de Fabricación\")\n",
        "    # Ordenamos los recursos en el eje y\n",
        "    fig.update_yaxes(categoryorder=\"total ascending\")\n",
        "    # Configuramos los títulos de los ejes y otras opciones de diseño\n",
        "    fig.update_layout(xaxis_title='Tiempo', yaxis_title='Recurso', hovermode=\"closest\", showlegend=True)\n",
        "\n",
        "    # Personalizamos el color de la barra de holgura\n",
        "    fig.data[0].marker.color = 'gray'\n",
        "    fig.data[0].hoverinfo = 'none'  # Deshabilitamos el hover para la barra de holgura\n",
        "\n",
        "    # Mostramos el gráfico\n",
        "    fig.show()\n"
      ],
      "metadata": {
        "id": "kpuxLUgvWVTp"
      },
      "execution_count": null,
      "outputs": []
    },
    {
      "cell_type": "code",
      "source": [
        "# Visualizamos el diagrama de Gantt\n",
        "visualizar_gantt(ordenes, operaciones)"
      ],
      "metadata": {
        "id": "idKXyLGEWXO8",
        "colab": {
          "base_uri": "https://localhost:8080/",
          "height": 280
        },
        "outputId": "3965ad35-eb54-438e-8c0a-f3a4df735166"
      },
      "execution_count": null,
      "outputs": [
        {
          "output_type": "error",
          "ename": "NameError",
          "evalue": "name 'cuellos_de_botella' is not defined",
          "traceback": [
            "\u001b[0;31m---------------------------------------------------------------------------\u001b[0m",
            "\u001b[0;31mNameError\u001b[0m                                 Traceback (most recent call last)",
            "\u001b[0;32m<ipython-input-53-83c990ec6ebb>\u001b[0m in \u001b[0;36m<cell line: 2>\u001b[0;34m()\u001b[0m\n\u001b[1;32m      1\u001b[0m \u001b[0;31m# Visualizamos el diagrama de Gantt\u001b[0m\u001b[0;34m\u001b[0m\u001b[0;34m\u001b[0m\u001b[0m\n\u001b[0;32m----> 2\u001b[0;31m \u001b[0mvisualizar_gantt\u001b[0m\u001b[0;34m(\u001b[0m\u001b[0mordenes\u001b[0m\u001b[0;34m,\u001b[0m \u001b[0moperaciones\u001b[0m\u001b[0;34m)\u001b[0m\u001b[0;34m\u001b[0m\u001b[0;34m\u001b[0m\u001b[0m\n\u001b[0m",
            "\u001b[0;32m<ipython-input-52-84aa5c71aa6b>\u001b[0m in \u001b[0;36mvisualizar_gantt\u001b[0;34m(df_ordenes, df_operaciones)\u001b[0m\n\u001b[1;32m     12\u001b[0m     \u001b[0;31m# Iteramos sobre cada operación en el DataFrame de operaciones\u001b[0m\u001b[0;34m\u001b[0m\u001b[0;34m\u001b[0m\u001b[0m\n\u001b[1;32m     13\u001b[0m     \u001b[0;31m#for _, operacion in df_operaciones.iterrows():\u001b[0m\u001b[0;34m\u001b[0m\u001b[0;34m\u001b[0m\u001b[0m\n\u001b[0;32m---> 14\u001b[0;31m     \u001b[0;32mfor\u001b[0m \u001b[0mtarea\u001b[0m \u001b[0;32min\u001b[0m \u001b[0mcuellos_de_botella\u001b[0m\u001b[0;34m:\u001b[0m\u001b[0;34m\u001b[0m\u001b[0;34m\u001b[0m\u001b[0m\n\u001b[0m\u001b[1;32m     15\u001b[0m         \u001b[0mid_orden\u001b[0m\u001b[0;34m,\u001b[0m \u001b[0mid_operacion\u001b[0m\u001b[0;34m,\u001b[0m \u001b[0mid_recurso\u001b[0m \u001b[0;34m=\u001b[0m \u001b[0mtarea\u001b[0m\u001b[0;34m\u001b[0m\u001b[0;34m\u001b[0m\u001b[0m\n\u001b[1;32m     16\u001b[0m         \u001b[0;31m# Obtenemos los detalles de la operación y el recurso asignado\u001b[0m\u001b[0;34m\u001b[0m\u001b[0;34m\u001b[0m\u001b[0m\n",
            "\u001b[0;31mNameError\u001b[0m: name 'cuellos_de_botella' is not defined"
          ]
        }
      ]
    }
  ]
}